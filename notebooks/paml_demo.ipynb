{
 "cells": [
  {
   "cell_type": "code",
   "execution_count": null,
   "id": "607f88bd",
   "metadata": {},
   "outputs": [],
   "source": [
    "import os\n",
    "import tempfile\n",
    "import unittest\n",
    "import filecmp\n",
    "import sbol3\n",
    "import paml\n",
    "import tyto\n",
    "import uml\n",
    "from paml.execution_engine import ExecutionEngine\n",
    "\n",
    "%load_ext autoreload\n",
    "%autoreload 2"
   ]
  },
  {
   "cell_type": "code",
   "execution_count": null,
   "id": "8cfaa137",
   "metadata": {},
   "outputs": [],
   "source": [
    "#############################################\n",
    "# set up the document\n",
    "print('Setting up document')\n",
    "doc = sbol3.Document()\n",
    "sbol3.set_namespace('https://bbn.com/scratch/')\n",
    "\n",
    "#############################################\n",
    "# Import the primitive libraries\n",
    "print('Importing libraries')\n",
    "paml.import_library('liquid_handling')\n",
    "print('... Imported liquid handling')\n",
    "paml.import_library('plate_handling')\n",
    "print('... Imported plate handling')\n",
    "paml.import_library('spectrophotometry')\n",
    "print('... Imported spectrophotometry')\n",
    "paml.import_library('sample_arrays')\n",
    "print('... Imported sample arrays')"
   ]
  },
  {
   "cell_type": "code",
   "execution_count": null,
   "id": "2f4c171e",
   "metadata": {
    "scrolled": true
   },
   "outputs": [],
   "source": [
    "# Print descriptions of the primitives avaiable in each library\n",
    "dashes = \"-\" * 80\n",
    "print(dashes)\n",
    "primitives = {}\n",
    "for lib, lib_doc in paml.loaded_libraries.items():\n",
    "    print(f\"{dashes}\\nlibrary: {lib}\")\n",
    "    for primitive in lib_doc.objects:\n",
    "        primitives[primitive.identity] = primitive\n",
    "        print(primitive)\n",
    "    print(dashes)"
   ]
  },
  {
   "cell_type": "code",
   "execution_count": null,
   "id": "be09367e",
   "metadata": {
    "scrolled": false
   },
   "outputs": [],
   "source": [
    "# create the materials to be provisioned\n",
    "ddh2o = sbol3.Component('ddH2O', 'https://identifiers.org/pubchem.substance:24901740')\n",
    "ddh2o.name = 'Water, sterile-filtered, BioReagent, suitable for cell culture'  # TODO get via tyto\n",
    "doc.add(ddh2o)\n",
    "\n",
    "ludox = sbol3.Component('LUDOX', 'https://identifiers.org/pubchem.substance:24866361')\n",
    "ludox.name = 'LUDOX(R) CL-X colloidal silica, 45 wt. % suspension in H2O'\n",
    "doc.add(ludox)\n",
    "\n",
    "# add an optional parameter for specifying the wavelength\n",
    "wavelength_param = protocol.input_value('wavelength', sbol3.OM_MEASURE, optional=True,\n",
    "                                              default_value=sbol3.Measure(600, tyto.OM.nanometer))"
   ]
  },
  {
   "cell_type": "code",
   "execution_count": null,
   "id": "4217ac26",
   "metadata": {
    "scrolled": true
   },
   "outputs": [],
   "source": [
    "# actual steps of the protocol\n",
    "# get a plate\n",
    "plate = protocol.primitive_step('EmptyContainer', specification=tyto.NCIT.get_uri_by_term('Microplate'))  # replace with container ontology\n",
    "\n",
    "protocol.to_dot()"
   ]
  },
  {
   "cell_type": "code",
   "execution_count": null,
   "id": "e1a83b05",
   "metadata": {
    "scrolled": true
   },
   "outputs": [],
   "source": [
    "# put water in selected wells\n",
    "c_ddh2o = protocol.primitive_step('PlateCoordinates', source=plate.output_pin('samples'), coordinates='A1:D1')\n",
    "provision_ddh2o = protocol.primitive_step('Provision', resource=ddh2o, destination=c_ddh2o.output_pin('samples'),\n",
    "                        amount=sbol3.Measure(100, tyto.OM.microliter))\n",
    "\n",
    "protocol.to_dot()"
   ]
  },
  {
   "cell_type": "code",
   "execution_count": null,
   "id": "34d9541e",
   "metadata": {
    "scrolled": true
   },
   "outputs": [],
   "source": [
    "# put ludox in selected wells\n",
    "c_ludox = protocol.primitive_step('PlateCoordinates', source=plate.output_pin('samples'), coordinates='A2:D2')\n",
    "provision_ludox = protocol.primitive_step('Provision', resource=ludox, destination=c_ludox.output_pin('samples'),\n",
    "                        amount=sbol3.Measure(100, tyto.OM.microliter))\n",
    "\n",
    "protocol.to_dot()"
   ]
  },
  {
   "cell_type": "code",
   "execution_count": null,
   "id": "a6022275",
   "metadata": {
    "scrolled": true
   },
   "outputs": [],
   "source": [
    "# measure the absorbance\n",
    "c_measure = protocol.primitive_step('PlateCoordinates', source=plate.output_pin('samples'), coordinates='A1:D2')\n",
    "measure = protocol.primitive_step('MeasureAbsorbance', samples=c_measure.output_pin('samples'))\n",
    "protocol.to_dot()"
   ]
  },
  {
   "cell_type": "code",
   "execution_count": null,
   "id": "fd7bf51a",
   "metadata": {
    "scrolled": true
   },
   "outputs": [],
   "source": [
    "protocol.use_value(wavelength_param, measure.input_pin('wavelength'))\n",
    "output = protocol.designate_output('absorbance', sbol3.OM_MEASURE,\n",
    "                                           measure.output_pin('measurements'))\n",
    "protocol.order(protocol.get_last_step(), output)\n",
    "protocol.to_dot()"
   ]
  },
  {
   "cell_type": "code",
   "execution_count": null,
   "id": "5ba00f83",
   "metadata": {
    "scrolled": false
   },
   "outputs": [],
   "source": [
    "protocol.to_dot()"
   ]
  },
  {
   "cell_type": "code",
   "execution_count": null,
   "id": "f04d70e5",
   "metadata": {},
   "outputs": [],
   "source": [
    "#to_remove = [x for x in doc.objects if x.identity == \"https://bbn.com/scratch/ludox_protocol_constraints\"]\n",
    "#doc.objects.remove(next(iter(to_remove)))"
   ]
  },
  {
   "cell_type": "code",
   "execution_count": null,
   "id": "c1d5f154",
   "metadata": {},
   "outputs": [],
   "source": [
    "import paml_time as pamlt\n",
    "\n",
    "# protocol starts at time 0\n",
    "protocol_start_time = pamlt.startTime(protocol, 0, units=tyto.OM.hour)\n",
    "provision_ludox_duration = pamlt.duration(provision_ludox, 60, units=tyto.OM.second)\n",
    "provision_ddh2o_duration = pamlt.duration(provision_ddh2o, 60, units=tyto.OM.second)\n",
    "execute_measurement_duration = pamlt.duration(measure, 2, units=tyto.OM.minute)\n",
    "ddh2o_before_ludox_constraint = pamlt.precedes(provision_ddh2o, [0, 60], provision_ludox, units=tyto.OM.second)\n",
    "\n",
    "time_constraints = pamlt.TimeConstraints(\"ludox_protocol_constraints\",\n",
    "    constraints=[pamlt.And([\n",
    "        protocol_start_time,\n",
    "        provision_ludox_duration,\n",
    "        provision_ddh2o_duration,\n",
    "        execute_measurement_duration,\n",
    "        ddh2o_before_ludox_constraint\n",
    "        ])],\n",
    "    protocols = [protocol]\n",
    ")\n",
    "\n",
    "doc.add(time_constraints)"
   ]
  },
  {
   "cell_type": "code",
   "execution_count": null,
   "id": "31b34a50",
   "metadata": {},
   "outputs": [],
   "source": [
    "# Compute a Schedule for the protocol and get the constraint graph\n",
    "schedule, graph = pc.check_doc(doc)\n",
    "schedule.plot()"
   ]
  },
  {
   "cell_type": "code",
   "execution_count": null,
   "id": "81f2d628",
   "metadata": {},
   "outputs": [],
   "source": [
    "# Get minimum duration for the protocol (in seconds)\n",
    "min_protocol_durations = graph.get_minimum_duration()\n",
    "min_str = \"\\n\".join([f\"The minimum duration of {protocol} is {result['duration']}s \" \\\n",
    "                     for protocol, result in min_protocol_durations.items()])\n",
    "print(min_str)"
   ]
  },
  {
   "cell_type": "code",
   "execution_count": null,
   "id": "067e1361",
   "metadata": {
    "scrolled": true
   },
   "outputs": [],
   "source": [
    "# Simulate Execution of the Protocol\n",
    "\n",
    "agent = sbol3.Agent(\"test_agent\")\n",
    "ee = ExecutionEngine()\n",
    "parameter_values = [\n",
    "    paml.ParameterValue(parameter=protocol.get_input(\"wavelength\"), \n",
    "                        value=sbol3.Measure(100, tyto.OM.nanometer))\n",
    "]\n",
    "execution = ee.execute(protocol, agent, id=\"test_execution\", parameter_values=parameter_values)\n",
    "execution.to_dot()"
   ]
  },
  {
   "cell_type": "code",
   "execution_count": null,
   "id": "81b585b6",
   "metadata": {},
   "outputs": [],
   "source": [
    "# Compile to autoprotocol and opentrons (connect to simulator?)"
   ]
  },
  {
   "cell_type": "code",
   "execution_count": null,
   "id": "c095a7cb",
   "metadata": {},
   "outputs": [],
   "source": [
    "# Spoof execution of protocol with real times and data"
   ]
  }
 ],
 "metadata": {
  "kernelspec": {
   "display_name": "paml_env",
   "language": "python",
   "name": "env"
  },
  "language_info": {
   "codemirror_mode": {
    "name": "ipython",
    "version": 3
   },
   "file_extension": ".py",
   "mimetype": "text/x-python",
   "name": "python",
   "nbconvert_exporter": "python",
   "pygments_lexer": "ipython3",
   "version": "3.9.7"
  }
 },
 "nbformat": 4,
 "nbformat_minor": 5
}

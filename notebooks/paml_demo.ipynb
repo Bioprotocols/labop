{
 "cells": [
  {
   "cell_type": "code",
   "execution_count": null,
   "id": "607f88bd",
   "metadata": {
    "slideshow": {
     "slide_type": "skip"
    }
   },
   "outputs": [],
   "source": [
    "import os\n",
    "import tempfile\n",
    "import sbol3\n",
    "import paml\n",
    "import tyto\n",
    "import uml\n",
    "import json\n",
    "import rdflib as rdfl\n",
    "from IPython.display import Markdown\n",
    "\n",
    "\n",
    "from paml.execution_engine import ExecutionEngine\n",
    "from paml_check.paml_check import check_doc\n",
    "from paml_convert.markdown.markdown_specialization import MarkdownSpecialization\n",
    "\n",
    "%load_ext autoreload\n",
    "%autoreload 2"
   ]
  },
  {
   "cell_type": "code",
   "execution_count": null,
   "id": "8cfaa137",
   "metadata": {
    "slideshow": {
     "slide_type": "skip"
    }
   },
   "outputs": [],
   "source": [
    "#############################################\n",
    "# set up the document\n",
    "print('Setting up document')\n",
    "doc = sbol3.Document()\n",
    "sbol3.set_namespace('https://bbn.com/scratch/')\n",
    "\n",
    "#############################################\n",
    "# Import the primitive libraries\n",
    "print('Importing libraries')\n",
    "paml.import_library('liquid_handling')\n",
    "print('... Imported liquid handling')\n",
    "paml.import_library('plate_handling')\n",
    "print('... Imported plate handling')\n",
    "paml.import_library('spectrophotometry')\n",
    "print('... Imported spectrophotometry')\n",
    "paml.import_library('sample_arrays')\n",
    "print('... Imported sample arrays')"
   ]
  },
  {
   "cell_type": "code",
   "execution_count": null,
   "id": "2f4c171e",
   "metadata": {
    "slideshow": {
     "slide_type": "subslide"
    }
   },
   "outputs": [],
   "source": [
    "# Print descriptions of the primitives avaiable in each library\n",
    "\n",
    "dashes = \"-\" * 80\n",
    "print(dashes)\n",
    "primitives = {}\n",
    "for lib, lib_doc in paml.loaded_libraries.items():\n",
    "    print(f\"{dashes}\\nlibrary: {lib}\")\n",
    "    for primitive in lib_doc.objects:\n",
    "        primitives[str(primitive.identity)] = primitive\n",
    "        print(primitive)\n",
    "    print(dashes)"
   ]
  },
  {
   "cell_type": "code",
   "execution_count": null,
   "id": "63137432",
   "metadata": {},
   "outputs": [],
   "source": [
    "# Example of how to generate a template for a new protocol step\n",
    "\n",
    "print(primitives[\"https://bioprotocols.org/paml/primitives/liquid_handling/Dispense\"].template())"
   ]
  },
  {
   "cell_type": "code",
   "execution_count": null,
   "id": "b6fe2221",
   "metadata": {
    "slideshow": {
     "slide_type": "slide"
    }
   },
   "outputs": [],
   "source": [
    "protocol = paml.Protocol('iGEM_LUDOX_OD_calibration_2018')\n",
    "protocol.name = \"iGEM 2018 LUDOX OD calibration protocol\"\n",
    "protocol.description = '''\n",
    "With this protocol you will use LUDOX CL-X (a 45% colloidal silica suspension) as a single point reference to\n",
    "obtain a conversion factor to transform absorbance (OD600) data from your plate reader into a comparable\n",
    "OD600 measurement as would be obtained in a spectrophotometer. This conversion is necessary because plate\n",
    "reader measurements of absorbance are volume dependent; the depth of the fluid in the well defines the path\n",
    "length of the light passing through the sample, which can vary slightly from well to well. In a standard\n",
    "spectrophotometer, the path length is fixed and is defined by the width of the cuvette, which is constant.\n",
    "Therefore this conversion calculation can transform OD600 measurements from a plate reader (i.e. absorbance\n",
    "at 600 nm, the basic output of most instruments) into comparable OD600 measurements. The LUDOX solution\n",
    "is only weakly scattering and so will give a low absorbance value.\n",
    "'''\n",
    "doc.add(protocol)"
   ]
  },
  {
   "cell_type": "code",
   "execution_count": null,
   "id": "0fefac39",
   "metadata": {},
   "outputs": [],
   "source": [
    "# Add an optional parameter for specifying the wavelength\n",
    "wavelength_param = protocol.input_value(\n",
    "    'wavelength', sbol3.OM_MEASURE, optional=True,\n",
    "    default_value=sbol3.Measure(600, tyto.OM.nanometer))\n",
    "\n",
    "protocol.to_dot()"
   ]
  },
  {
   "cell_type": "code",
   "execution_count": null,
   "id": "be09367e",
   "metadata": {
    "slideshow": {
     "slide_type": "slide"
    }
   },
   "outputs": [],
   "source": [
    "# create the materials to be provisioned\n",
    "ddh2o = sbol3.Component('ddH2O', 'https://identifiers.org/pubchem.substance:24901740')\n",
    "ddh2o.name = 'Water, sterile-filtered, BioReagent, suitable for cell culture'  \n",
    "doc.add(ddh2o)\n",
    "\n",
    "ludox = sbol3.Component('LUDOX', 'https://identifiers.org/pubchem.substance:24866361')\n",
    "ludox.name = 'LUDOX(R) CL-X colloidal silica, 45 wt. % suspension in H2O'\n",
    "doc.add(ludox)"
   ]
  },
  {
   "cell_type": "code",
   "execution_count": null,
   "id": "f036f677",
   "metadata": {},
   "outputs": [],
   "source": [
    "# specify the type of plate to use\n",
    "\n",
    "PLATE_SPECIFICATION = \\\n",
    "    \"\"\"cont:ClearPlate and \n",
    " cont:SLAS-4-2004 and\n",
    " (cont:wellVolume some \n",
    "    ((om:hasUnit value om:microlitre) and\n",
    "     (om:hasNumericalValue only xsd:decimal[>= \"200\"^^xsd:decimal])))\"\"\"\n",
    "\n",
    "CONT_NS = rdfl.Namespace('https://sift.net/container-ontology/container-ontology#')\n",
    "OM_NS = rdfl.Namespace('http://www.ontology-of-units-of-measure.org/resource/om-2/')\n",
    "\n",
    "PREFIX_MAP = json.dumps({\"cont\": CONT_NS, \"om\": OM_NS})\n",
    "\n",
    "spec = paml.ContainerSpec(queryString=PLATE_SPECIFICATION, prefixMap=PREFIX_MAP, name='plateRequirement')"
   ]
  },
  {
   "cell_type": "code",
   "execution_count": null,
   "id": "4217ac26",
   "metadata": {
    "slideshow": {
     "slide_type": "slide"
    }
   },
   "outputs": [],
   "source": [
    "# actual steps of the protocol\n",
    "# get a plate\n",
    "plate = protocol.primitive_step(\n",
    "    'EmptyContainer', specification=spec)\n",
    "\n",
    "protocol.to_dot()"
   ]
  },
  {
   "cell_type": "code",
   "execution_count": null,
   "id": "e1a83b05",
   "metadata": {
    "slideshow": {
     "slide_type": "slide"
    }
   },
   "outputs": [],
   "source": [
    "# identify wells to use\n",
    "c_ddh2o = protocol.primitive_step(\n",
    "    'PlateCoordinates', source=plate.output_pin('samples'), coordinates='A1:D1')\n",
    "\n",
    "# put water in selected wells\n",
    "provision_ddh2o = protocol.primitive_step(\n",
    "    'Provision', resource=ddh2o, destination=c_ddh2o.output_pin('samples'),\n",
    "    amount=sbol3.Measure(100, tyto.OM.microliter))\n",
    "\n",
    "protocol.to_dot()"
   ]
  },
  {
   "cell_type": "code",
   "execution_count": null,
   "id": "34d9541e",
   "metadata": {
    "slideshow": {
     "slide_type": "slide"
    }
   },
   "outputs": [],
   "source": [
    "#identify wells to use\n",
    "c_ludox = protocol.primitive_step(\n",
    "    'PlateCoordinates', source=plate.output_pin('samples'), coordinates='A2:D2')\n",
    "\n",
    "# put ludox in selected wells\n",
    "provision_ludox = protocol.primitive_step(\n",
    "    'Provision', resource=ludox, destination=c_ludox.output_pin('samples'),\n",
    "    amount=sbol3.Measure(100, tyto.OM.microliter))\n",
    "\n",
    "protocol.to_dot()"
   ]
  },
  {
   "cell_type": "code",
   "execution_count": null,
   "id": "a6022275",
   "metadata": {
    "slideshow": {
     "slide_type": "slide"
    }
   },
   "outputs": [],
   "source": [
    "# identify wells to use\n",
    "c_measure = protocol.primitive_step(\n",
    "    'PlateCoordinates', source=plate.output_pin('samples'), coordinates='A1:D2')\n",
    "\n",
    "# measure the absorbance\n",
    "measure = protocol.primitive_step(\n",
    "    'MeasureAbsorbance', samples=c_measure.output_pin('samples'))\n",
    "\n",
    "# link input parameter to measure primitive input\n",
    "protocol.use_value(wavelength_param, measure.input_pin('wavelength'))\n",
    "\n",
    "protocol.to_dot()"
   ]
  },
  {
   "cell_type": "code",
   "execution_count": null,
   "id": "fd7bf51a",
   "metadata": {
    "slideshow": {
     "slide_type": "slide"
    }
   },
   "outputs": [],
   "source": [
    "# link measurement output to protocol output\n",
    "output = protocol.designate_output(\n",
    "    'absorbance', sbol3.OM_MEASURE, measure.output_pin('measurements'))\n",
    "\n",
    "# add control flow from last step to output\n",
    "#protocol.order(protocol.get_last_step(), output)\n",
    "\n",
    "protocol.to_dot()"
   ]
  },
  {
   "cell_type": "code",
   "execution_count": null,
   "id": "c1d5f154",
   "metadata": {
    "slideshow": {
     "slide_type": "slide"
    }
   },
   "outputs": [],
   "source": [
    "import paml_time as pamlt\n",
    "\n",
    "# protocol starts at time 0\n",
    "protocol_start_time = pamlt.startTime(protocol, 0, units=tyto.OM.hour)\n",
    "\n",
    "# Provisioning requires 60s\n",
    "provision_ludox_duration = pamlt.duration(provision_ludox, 60, units=tyto.OM.second)\n",
    "provision_ddh2o_duration = pamlt.duration(provision_ddh2o, 60, units=tyto.OM.second)\n",
    "\n",
    "# Measurement requires 2m\n",
    "execute_measurement_duration = pamlt.duration(measure, 2, units=tyto.OM.minute)\n",
    "\n",
    "# Provisioning ddh2o precedes provisioning ludox by at most 60s\n",
    "ddh2o_before_ludox_constraint = pamlt.precedes(provision_ddh2o, [0, 60], \n",
    "                                               provision_ludox, units=tyto.OM.second)\n",
    "\n",
    "# Coonstraints are combined via Boolean logic\n",
    "time_constraints = pamlt.TimeConstraints(\"ludox_protocol_constraints\",\n",
    "    constraints=[pamlt.And([\n",
    "        protocol_start_time,\n",
    "        provision_ludox_duration,\n",
    "        provision_ddh2o_duration,\n",
    "        execute_measurement_duration,\n",
    "        ddh2o_before_ludox_constraint\n",
    "        ])],\n",
    "    protocols = [protocol]\n",
    ")\n",
    "\n",
    "doc.add(time_constraints)"
   ]
  },
  {
   "cell_type": "code",
   "execution_count": null,
   "id": "31b34a50",
   "metadata": {
    "slideshow": {
     "slide_type": "slide"
    }
   },
   "outputs": [],
   "source": [
    "# Compute a Schedule for the protocol and get the constraint graph\n",
    "schedule, graph = check_doc(doc)\n",
    "schedule.plot()"
   ]
  },
  {
   "cell_type": "code",
   "execution_count": null,
   "id": "81f2d628",
   "metadata": {
    "slideshow": {
     "slide_type": "slide"
    }
   },
   "outputs": [],
   "source": [
    "# Get minimum duration for the protocol (in seconds)\n",
    "min_protocol_durations = graph.get_minimum_duration()\n",
    "min_str = \"\\n\".join([f\"The minimum duration of {protocol} is {result['duration']}s \" \\\n",
    "                     for protocol, result in min_protocol_durations.items()])\n",
    "print(min_str) "
   ]
  },
  {
   "cell_type": "code",
   "execution_count": null,
   "id": "067e1361",
   "metadata": {
    "slideshow": {
     "slide_type": "slide"
    }
   },
   "outputs": [],
   "source": [
    "# Simulate Execution of the Protocol\n",
    "\n",
    "agent = sbol3.Agent(\"test_agent\")\n",
    "ee = ExecutionEngine(specializations=[MarkdownSpecialization(\"test_LUDOX_markdown.md\")])\n",
    "parameter_values = [\n",
    "    paml.ParameterValue(parameter=protocol.get_input(\"wavelength\"), \n",
    "                        value=sbol3.Measure(100, tyto.OM.nanometer))\n",
    "]\n",
    "execution = ee.execute(protocol, agent, id=\"test_execution\", parameter_values=parameter_values)\n",
    "execution.to_dot()"
   ]
  },
  {
   "cell_type": "code",
   "execution_count": null,
   "id": "be92c80d",
   "metadata": {},
   "outputs": [],
   "source": [
    "Markdown(ee.specializations[0].markdown)"
   ]
  },
  {
   "cell_type": "code",
   "execution_count": null,
   "id": "a8dc4189",
   "metadata": {
    "tags": [
     "hide-cell"
    ]
   },
   "outputs": [],
   "source": [
    "assert(True)"
   ]
  }
 ],
 "metadata": {
  "celltoolbar": "Tags",
  "execution": {
   "allow_errors": false,
   "timeout": 300
  },
  "kernelspec": {
   "display_name": "Python 3 (ipykernel)",
   "language": "python",
   "name": "python3"
  },
  "language_info": {
   "codemirror_mode": {
    "name": "ipython",
    "version": 3
   },
   "file_extension": ".py",
   "mimetype": "text/x-python",
   "name": "python",
   "nbconvert_exporter": "python",
   "pygments_lexer": "ipython3",
   "version": "3.9.7"
  }
 },
 "nbformat": 4,
 "nbformat_minor": 5
}

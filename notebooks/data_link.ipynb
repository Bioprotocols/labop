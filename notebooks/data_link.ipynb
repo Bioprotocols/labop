{
 "cells": [
  {
   "cell_type": "code",
   "execution_count": null,
   "metadata": {},
   "outputs": [],
   "source": [
    "import os\n",
    "import tempfile\n",
    "import sbol3\n",
    "import paml\n",
    "import tyto\n",
    "import uml\n",
    "import json\n",
    "import rdflib as rdfl\n",
    "from IPython.display import Markdown\n",
    "\n",
    "from paml.execution_engine import ExecutionEngine\n",
    "from paml_check.paml_check import check_doc\n",
    "\n",
    "import logging\n",
    "logging.basicConfig(level=logging.DEBUG)\n",
    "l = logging.getLogger()\n",
    "\n",
    "%load_ext autoreload\n",
    "%autoreload 2"
   ]
  },
  {
   "cell_type": "code",
   "execution_count": null,
   "metadata": {},
   "outputs": [],
   "source": [
    "# Setup PAML protocol for execution\n",
    "out_dir = \".\"\n",
    "doc = sbol3.Document()\n",
    "sbol3.set_namespace('https://bbn.com/scratch/')\n",
    "protocol_file = os.path.join(os.getcwd(), \"../test/testfiles\", \"igem_ludox_test.nt\")\n",
    "doc.read(protocol_file, 'nt')\n",
    "protocol = doc.find(\"https://bbn.com/scratch/iGEM_LUDOX_OD_calibration_2018\")\n",
    "agent = sbol3.Agent(\"test_agent\")\n",
    "\n",
    "\n",
    "# Execute the protocol\n",
    "ee = ExecutionEngine()\n",
    "parameter_values = [\n",
    "    paml.ParameterValue(parameter=protocol.get_input(\"wavelength\"), \n",
    "                        value=uml.LiteralIdentified(value=sbol3.Measure(100, tyto.OM.nanometer)))\n",
    "]\n",
    "execution = ee.execute(protocol, agent, id=\"test_execution\", parameter_values=parameter_values)"
   ]
  },
  {
   "cell_type": "code",
   "execution_count": null,
   "metadata": {},
   "outputs": [],
   "source": [
    "data = execution.get_data()\n",
    "#data\n",
    "data['https://bbn.com/scratch/execute_6/ParameterValue3'].from_samples.lookup().source.lookup().contents.elements[1].property_value"
   ]
  },
  {
   "cell_type": "code",
   "execution_count": null,
   "metadata": {},
   "outputs": [],
   "source": [
    "# Programmatically update the SampleData object and save execution\n",
    "\n",
    "key = 'https://bbn.com/scratch/execute_6/ParameterValue3'\n",
    "\n",
    "df = data[key].to_dataframe()\n",
    "df[\"values\"] = df[\"values\"].apply(lambda x: 8)\n",
    "data[key].from_dataframe(df, \"df.csv\")\n",
    "\n",
    "v = doc.validate()\n",
    "assert len(v) == 0, \"\".join(f'\\n {e}' for e in v)\n",
    "temp_name = os.path.join(\".\", 'igem_ludox_test_exec_data.nt')#os.path.join(tempfile.gettempdir(), 'igem_ludox_test_exec_data.nt')\n",
    "doc.write(temp_name, sbol3.SORTED_NTRIPLES)"
   ]
  },
  {
   "cell_type": "code",
   "execution_count": null,
   "metadata": {},
   "outputs": [],
   "source": [
    "# Use pandasgui to graphically update SampleData object\n",
    "\n",
    "import pandas as pd\n",
    "from pandasgui import show\n",
    "\n",
    "dfs = {k:v.to_dataframe() for k, v in data.items()}\n",
    "gui = show(**dfs)"
   ]
  },
  {
   "cell_type": "code",
   "execution_count": null,
   "metadata": {},
   "outputs": [],
   "source": [
    "dfs = gui.get_dataframes()\n",
    "data = {k: v.from_dataframe(dfs[k], \"df.csv\") for k, v in data.items()}\n",
    "data"
   ]
  },
  {
   "cell_type": "code",
   "execution_count": null,
   "metadata": {},
   "outputs": [],
   "source": [
    "data"
   ]
  },
  {
   "cell_type": "code",
   "execution_count": null,
   "metadata": {},
   "outputs": [],
   "source": [
    "execution.to_dot()"
   ]
  },
  {
   "cell_type": "code",
   "execution_count": null,
   "metadata": {},
   "outputs": [],
   "source": []
  }
 ],
 "metadata": {
  "interpreter": {
   "hash": "c9232c3953b15971bd6a39818a87b03dd250ca29a3119b39f78f587bff7600fb"
  },
  "kernelspec": {
   "display_name": "Python 3.9.7 64-bit ('env': venv)",
   "name": "python3"
  },
  "language_info": {
   "codemirror_mode": {
    "name": "ipython",
    "version": 3
   },
   "file_extension": ".py",
   "mimetype": "text/x-python",
   "name": "python",
   "nbconvert_exporter": "python",
   "pygments_lexer": "ipython3",
   "version": "3.9.7"
  }
 },
 "nbformat": 4,
 "nbformat_minor": 2
}

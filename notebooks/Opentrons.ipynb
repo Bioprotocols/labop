{
 "cells": [
  {
   "cell_type": "code",
   "execution_count": null,
   "metadata": {
    "colab": {
     "base_uri": "https://localhost:8080/",
     "height": 1000
    },
    "id": "Pp1oImQX64AG",
    "outputId": "69dbbf6c-4763-4e1a-e997-22031b2e58e9"
   },
   "outputs": [],
   "source": [
    "!pip install opentrons matplotlib\n",
    "#!pip install --no-cache-dir https://github.com/Bioprotocols/labop/archive/main.zip"
   ]
  },
  {
   "cell_type": "code",
   "execution_count": null,
   "metadata": {
    "colab": {
     "base_uri": "https://localhost:8080/"
    },
    "id": "Mb6mY4Cu8D9H",
    "outputId": "c6ebb2a0-429c-487e-d8f3-5262d29cfdb9"
   },
   "outputs": [],
   "source": [
    "import opentrons.simulate as simulate\n",
    "from opentrons.protocols import bundle\n",
    "import io\n",
    "import sys\n",
    "\n",
    "import os\n",
    "import tempfile\n",
    "import sbol3\n",
    "import labop\n",
    "import tyto\n",
    "import uml\n",
    "import json\n",
    "import rdflib as rdfl\n",
    "from IPython.display import Markdown, IFrame\n",
    "# %matplotlib inline\n",
    "from IPython.display import Image\n",
    "\n",
    "from labop.execution_engine import ExecutionEngine\n",
    "# from labop_check.labop_check import check_doc\n",
    "from labop_convert.markdown.markdown_specialization import MarkdownSpecialization\n",
    "from labop_convert.opentrons.opentrons_specialization import OT2Specialization\n",
    "\n",
    "%load_ext autoreload\n",
    "%autoreload 2"
   ]
  },
  {
   "cell_type": "code",
   "execution_count": null,
   "metadata": {
    "id": "bHYaqu0-8IBe"
   },
   "outputs": [],
   "source": [
    "def make_demo_script(filename):\n",
    "  protocol = io.StringIO()\n",
    "\n",
    "\n",
    "  protocol.write(\"\"\"\n",
    "  from opentrons import protocol_api\n",
    "\n",
    "  # metadata\n",
    "  metadata = {\n",
    "      'protocolName': 'My Protocol',\n",
    "      'author': 'Name <opentrons@example.com>',\n",
    "      'description': 'Simple protocol to get started using the OT-2',\n",
    "      'apiLevel': '2.12'\n",
    "  }\n",
    "\n",
    "\n",
    "\n",
    "  # protocol run function\n",
    "  def run(protocol: protocol_api.ProtocolContext):\n",
    "\n",
    "      # labware\n",
    "      plate = protocol.load_labware('corning_96_wellplate_360ul_flat', location='1')\n",
    "      tiprack = protocol.load_labware('opentrons_96_tiprack_300ul', location='2')\n",
    "\n",
    "      # pipettes\n",
    "      left_pipette = protocol.load_instrument(\n",
    "          'p300_single', mount='left', tip_racks=[tiprack])\n",
    "\n",
    "      # commands\n",
    "      left_pipette.pick_up_tip()\n",
    "      left_pipette.aspirate(100, plate['A1'])\n",
    "      left_pipette.dispense(100, plate['B2'])\n",
    "      left_pipette.drop_tip()\n",
    "  \"\"\")\n",
    "\n",
    "  with open(filename, \"w\") as f:\n",
    "      f.write(protocol.getvalue())\n",
    "  return filename"
   ]
  },
  {
   "cell_type": "code",
   "execution_count": null,
   "metadata": {
    "colab": {
     "base_uri": "https://localhost:8080/"
    },
    "id": "NPDbBv50_Ug0",
    "outputId": "903a7ed9-083d-4c00-981e-d7790278aacb"
   },
   "outputs": [],
   "source": [
    "#############################################\n",
    "# set up the document\n",
    "print('Setting up document')\n",
    "doc = sbol3.Document()\n",
    "sbol3.set_namespace('https://bbn.com/scratch/')\n",
    "\n",
    "#############################################\n",
    "# Import the primitive libraries\n",
    "print('Importing libraries')\n",
    "labop.import_library('liquid_handling')\n",
    "print('... Imported liquid handling')\n",
    "labop.import_library('plate_handling')\n",
    "print('... Imported plate handling')\n",
    "labop.import_library('spectrophotometry')\n",
    "print('... Imported spectrophotometry')\n",
    "labop.import_library('sample_arrays')\n",
    "print('... Imported sample arrays')\n",
    "\n",
    "protocol = labop.Protocol(\"OT2_demo\")\n",
    "protocol.name = \"OT2 demo\"\n",
    "doc.add(protocol)\n",
    "\n",
    "CONT_NS = rdfl.Namespace('https://sift.net/container-ontology/container-ontology#')\n",
    "OM_NS = rdfl.Namespace('http://www.ontology-of-units-of-measure.org/resource/om-2/')\n",
    "PREFIX_MAP = json.dumps({\"cont\": CONT_NS, \"om\": OM_NS})\n",
    "\n",
    "# plate = protocol.load_labware('corning_96_wellplate_360ul_flat', location='1')\n",
    "plate_spec = labop.ContainerSpec('sample_plate', name='sample plate', \n",
    "                                 queryString='cont:Corning96WellPlate360uLFlat', \n",
    "                                 prefixMap=PREFIX_MAP)\n",
    "plate = protocol.primitive_step('EmptyContainer', specification=plate_spec)\n",
    "load_plate = protocol.primitive_step('LoadRackOnInstrument', rack=plate_spec, coordinates='1')\n",
    "\n",
    "# tiprack = protocol.load_labware('opentrons_96_tiprack_300ul', location='2')\n",
    "tiprack_spec = labop.ContainerSpec('tiprack', queryString='cont:Opentrons96TipRack300uL', prefixMap=PREFIX_MAP)\n",
    "tiprack = protocol.primitive_step('LoadRackOnInstrument', rack=tiprack_spec, coordinates='2')\n",
    "\n",
    "# left_pipette = protocol.load_instrument(\n",
    "#          'p300_single', mount='left', tip_racks=[tiprack])\n",
    "p300 = sbol3.Agent('p300_single', name='P300 Single')\n",
    "doc.add(p300)\n",
    "left_pipette = protocol.primitive_step('ConfigureRobot', instrument=p300, mount=\"left\")\n",
    "\n",
    "# left_pipette.pick_up_tip()\n",
    "# left_pipette.aspirate(100, plate['A1'])\n",
    "# left_pipette.dispense(100, plate['B2'])\n",
    "# left_pipette.drop_tip()\n",
    "source_well = protocol.primitive_step('PlateCoordinates', source=plate.output_pin('samples'), coordinates=\"A1\")\n",
    "dest_well = protocol.primitive_step('PlateCoordinates', source=plate.output_pin('samples'), coordinates=\"B2\")\n",
    "pip1 = protocol.primitive_step(\"Transfer\", \n",
    "                               source=source_well.output_pin('samples'), \n",
    "                               destination=dest_well.output_pin('samples'), \n",
    "                               amount=sbol3.Measure(100, tyto.OM.microliter)\n",
    "                               )\n",
    "protocol.to_dot().render(filename=protocol.display_name, format=\"png\")\n",
    "Image(protocol.display_name+\".png\")"
   ]
  },
  {
   "cell_type": "code",
   "execution_count": null,
   "metadata": {
    "id": "ZEMIVdw1ICmo"
   },
   "outputs": [],
   "source": [
    "filename=\"ot2_demo_labop\"\n",
    "automated_script = filename+\".py\"\n",
    "agent = sbol3.Agent(\"ot2_machine\", name='OT2 machine')\n",
    "ee = ExecutionEngine(specializations=[OT2Specialization(filename)])\n",
    "parameter_values = []\n",
    "execution = ee.execute(protocol, agent, id=\"test_execution\")\n",
    "\n",
    "#v = doc.validate()\n",
    "#assert len(v) == 0, \"\".join(f'\\n {e}' for e in v)\n",
    "\n",
    "doc.write('ot2_demo.ttl', file_format='ttl')"
   ]
  },
  {
   "cell_type": "code",
   "execution_count": null,
   "metadata": {
    "colab": {
     "base_uri": "https://localhost:8080/"
    },
    "id": "Awu_w0TO8JrD",
    "outputId": "f6a3c0f5-27b7-4fca-c684-e3410d0f5bf5"
   },
   "outputs": [],
   "source": [
    "# TODO Put into labop as utility\n",
    "def run_ot2_sim(filename):\n",
    "    sys.argv=[]\n",
    "    \"\"\"Run the simulation\"\"\"\n",
    "    # parser = argparse.ArgumentParser(\n",
    "    #     prog=\"opentrons_simulate\", description=\"Simulate an OT-2 protocol\"\n",
    "    # )\n",
    "    # parser = simulate.get_arguments(parser)\n",
    "\n",
    "    # args = parser.parse_args()\n",
    "    # Try to migrate api v1 containers if needed\n",
    "\n",
    "    #duration_estimator = DurationEstimator() if args.estimate_duration else None  # type: ignore[no-untyped-call]\n",
    "    duration_estimator = None\n",
    "\n",
    "    with open(filename, \"r\") as protocol:\n",
    "        runlog, maybe_bundle = simulate.simulate(\n",
    "            protocol,\n",
    "            # args.protocol.name,\n",
    "            # getattr(args, \"custom_labware_path\", []),\n",
    "            # getattr(args, \"custom_data_path\", []) + getattr(args, \"custom_data_file\", []),\n",
    "            # duration_estimator=duration_estimator,\n",
    "            # hardware_simulator_file_path=getattr(args, \"custom_hardware_simulator_file\"),\n",
    "            # log_level=args.log_level,\n",
    "        )\n",
    "\n",
    "    if maybe_bundle:\n",
    "        bundle_name = \"bundle\" # getattr(args, \"bundle\", None)\n",
    "        # if bundle_name == args.protocol.name:\n",
    "        #     raise RuntimeError(\"Bundle path and input path must be different\")\n",
    "        bundle_dest = simulate._get_bundle_dest(\n",
    "            bundle_name, \"PROTOCOL.ot2.zip\", \"my_protocol\" #args.protocol.name\n",
    "        )\n",
    "        if bundle_dest:\n",
    "            bundle.create_bundle(maybe_bundle, bundle_dest)\n",
    "\n",
    "    # if args.output == \"runlog\":\n",
    "    print(simulate.format_runlog(runlog))\n",
    "\n",
    "    if duration_estimator:\n",
    "        duration_seconds = duration_estimator.get_total_duration()\n",
    "        hours = int(duration_seconds / 60 / 60)\n",
    "        minutes = int((duration_seconds % (60 * 60)) / 60)\n",
    "        print(\"--------------------------------------------------------------\")\n",
    "        print(f\"Estimated protocol duration: {hours}h:{minutes}m\")\n",
    "        print(\"--------------------------------------------------------------\")\n",
    "        print(\"WARNING: Protocol duration estimation is an experimental feature\")\n",
    "\n",
    "    return runlog"
   ]
  },
  {
   "cell_type": "code",
   "execution_count": null,
   "metadata": {
    "colab": {
     "base_uri": "https://localhost:8080/"
    },
    "id": "XKniXGFU8N47",
    "outputId": "b2370d57-b1cd-4029-aba7-924844822d4d"
   },
   "outputs": [],
   "source": [
    "manual_script = \"manual_script.py\"\n",
    "run_ot2_sim(make_demo_script(manual_script))\n",
    "run_ot2_sim(automated_script)"
   ]
  },
  {
   "cell_type": "code",
   "execution_count": null,
   "metadata": {
    "id": "DaozqniwKx9n"
   },
   "outputs": [],
   "source": [
    "# TODO add Ludox protocol\n",
    "# TODO add PCR protocol"
   ]
  }
 ],
 "metadata": {
  "colab": {
   "collapsed_sections": [],
   "provenance": []
  },
  "kernelspec": {
   "display_name": "Python 3.10.7 ('.venv': venv)",
   "language": "python",
   "name": "python3"
  },
  "language_info": {
   "codemirror_mode": {
    "name": "ipython",
    "version": 3
   },
   "file_extension": ".py",
   "mimetype": "text/x-python",
   "name": "python",
   "nbconvert_exporter": "python",
   "pygments_lexer": "ipython3",
   "version": "3.10.7"
  },
  "vscode": {
   "interpreter": {
    "hash": "bf95ee6bcaa885d22f5ff86c1706f99fbe3c64a1659b94327d6b766ac4e7285c"
   }
  }
 },
 "nbformat": 4,
 "nbformat_minor": 0
}

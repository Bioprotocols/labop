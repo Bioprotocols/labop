{
 "cells": [
  {
   "cell_type": "code",
   "execution_count": null,
   "metadata": {},
   "outputs": [],
   "source": [
    "from examples.pH_calibration import pH_calibration as pH_calibration\n",
    "import sbol3\n",
    "from paml.execution_engine import ManualExecutionEngine\n",
    "import paml\n",
    "import uml\n",
    "import tyto\n",
    "from IPython.display import display, HTML\n",
    "import types\n",
    "\n",
    "%load_ext autoreload\n",
    "%autoreload 2"
   ]
  },
  {
   "cell_type": "code",
   "execution_count": null,
   "metadata": {},
   "outputs": [],
   "source": [
    "def setup_primitives(\n",
    "    doc, \n",
    "    manual_primitives = [\\\n",
    "        'https://bioprotocols.org/paml/primitives/pH_calibration/PHMeterCalibrated',\n",
    "        'https://bioprotocols.org/paml/primitives/pH_calibration/MeasurePH',\n",
    "        'https://bioprotocols.org/paml/primitives/pH_calibration/MeasureTemperature',\n",
    "        'https://bioprotocols.org/paml/primitives/pH_calibration/CalculateNaOHAddition',\n",
    "        'https://bioprotocols.org/paml/primitives/pH_calibration/AtTargetPH'\n",
    "    ]):\n",
    "    \"\"\"Delete any implementations of compute_output for the primitives listed in manual_primitives. Call initialize_primitive_compute_output to set compute_output for primitives with known implementations.\n",
    "\n",
    "    Args:\n",
    "        doc (sbol3.Document): Document that has the primitive objects.\n",
    "    \"\"\"\n",
    "    primitives = [p for p in doc.objects if isinstance(p, paml.Primitive)]\n",
    "    primitives_to_unset = [p for p in primitives if p.identity in manual_primitives]\n",
    "    for x in primitives_to_unset:\n",
    "        x.compute_output = types.MethodType(paml.primitive_execution.primitive_compute_output, x)\n",
    "    \n",
    "    paml.initialize_primitive_compute_output(doc)"
   ]
  },
  {
   "cell_type": "code",
   "execution_count": null,
   "metadata": {},
   "outputs": [],
   "source": [
    "# Make the protocol\n",
    "new_protocol, doc = pH_calibration.pH_calibration_protocol()\n",
    "setup_primitives(doc)\n",
    "\n",
    "# Setup ExecutionEngine\n",
    "ee = ManualExecutionEngine()\n",
    "ee.initialize(new_protocol, sbol3.Agent(\"test_agent\"), id=\"test_execution\", parameter_values=[\n",
    "    paml.ParameterValue(parameter=new_protocol.get_input(\"reaction_volume\"), value=sbol3.Measure(10, tyto.OM.milliliter)),\n",
    "])\n",
    "\n",
    "# Start execution of protocol, and stop at point needing manual input.\n",
    "ready, choices, graph = ee.run(new_protocol)\n",
    "\n",
    "# List the choices of next Activity to execute\n",
    "print(\"********************** Possible Next Activities: **********************\")\n",
    "print(choices)\n",
    "print(\"*\"*80)\n",
    "# Render the state of execution as a graph (Blue = Completed, Green = Possible Next (i.e., ready))\n",
    "graph"
   ]
  },
  {
   "cell_type": "code",
   "execution_count": null,
   "metadata": {},
   "outputs": [],
   "source": [
    "# Execute the next step that determines whether the pH meter is calibrated\n",
    "\n",
    "def is_calibrated(node: paml.ActivityNodeExecution,\n",
    "                  parameter: uml.Parameter):\n",
    "    return False  # The pH meter is not calibrated!\n",
    "\n",
    "# Execute the next step using is_calibrated to determine its output\n",
    "ready, choices, graph = ee.next(ready[0], node_output=is_calibrated)\n",
    "print(choices)\n",
    "graph"
   ]
  },
  {
   "cell_type": "code",
   "execution_count": null,
   "metadata": {},
   "outputs": [],
   "source": [
    "# Check whether calibration was successful\n",
    "\n",
    "def is_calibration_successful(node: paml.ActivityNodeExecution,\n",
    "                  parameter: uml.Parameter):\n",
    "    return True  # It was successful!\n",
    "\n",
    "ready, choices, graph = ee.next(ready[0], node_output=is_calibration_successful)\n",
    "print(choices)\n",
    "graph"
   ]
  },
  {
   "cell_type": "code",
   "execution_count": null,
   "metadata": {},
   "outputs": [],
   "source": [
    "# Get the temperature measurement\n",
    "\n",
    "def measure_temperature(node: paml.ActivityNodeExecution,\n",
    "                  parameter: uml.Parameter):\n",
    "    return sbol3.Measure(30, \"http://www.ontology-of-units-of-measure.org/resource/om-2/degreeCelsius\")\n",
    "\n",
    "measure_temp = next((r for r in ready if r.behavior.lookup().display_id == \"MeasureTemperature\"))\n",
    "\n",
    "ready, choices, graph = ee.next(measure_temp, node_output=measure_temperature)\n",
    "print(choices)\n",
    "graph"
   ]
  },
  {
   "cell_type": "code",
   "execution_count": null,
   "metadata": {},
   "outputs": [],
   "source": [
    "# Get the pH measurement \n",
    "\n",
    "def measure_pH(node: paml.ActivityNodeExecution,\n",
    "                  parameter: uml.Parameter):\n",
    "    return uml.literal(7)\n",
    "\n",
    "m_pH = next((r for r in ready if r.behavior.lookup().display_id == \"MeasurePH\"))\n",
    "\n",
    "ready, choices, graph = ee.next(m_pH, node_output=measure_pH)\n",
    "print(choices)\n",
    "graph"
   ]
  },
  {
   "cell_type": "code",
   "execution_count": null,
   "metadata": {},
   "outputs": [],
   "source": [
    "# Is the target pH met?\n",
    "def at_target(node: paml.ActivityNodeExecution,\n",
    "                  parameter: uml.Parameter):\n",
    "    return uml.literal(eval(input())) # Use input \"True\" or \"False\"\n",
    "\n",
    "at_t_pH = next((r for r in ready if r.behavior.lookup().display_id == \"AtTargetPH\"))\n",
    "\n",
    "ready, choices, graph = ee.next(at_t_pH, node_output=at_target)\n",
    "print(choices)\n",
    "graph"
   ]
  },
  {
   "cell_type": "code",
   "execution_count": null,
   "metadata": {},
   "outputs": [],
   "source": [
    "ee.finalize(new_protocol)\n",
    "ee.ex.completed_normally"
   ]
  }
 ],
 "metadata": {
  "interpreter": {
   "hash": "c9232c3953b15971bd6a39818a87b03dd250ca29a3119b39f78f587bff7600fb"
  },
  "kernelspec": {
   "display_name": "Python 3.9.12 ('env': venv)",
   "language": "python",
   "name": "python3"
  },
  "language_info": {
   "codemirror_mode": {
    "name": "ipython",
    "version": 3
   },
   "file_extension": ".py",
   "mimetype": "text/x-python",
   "name": "python",
   "nbconvert_exporter": "python",
   "pygments_lexer": "ipython3",
   "version": "3.9.12"
  }
 },
 "nbformat": 4,
 "nbformat_minor": 2
}

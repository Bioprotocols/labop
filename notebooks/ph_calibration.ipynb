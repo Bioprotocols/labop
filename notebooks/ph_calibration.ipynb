{
 "cells": [
  {
   "cell_type": "code",
   "execution_count": null,
   "metadata": {},
   "outputs": [],
   "source": [
    "from examples.pH_calibration import pH_calibration as pH_calibration\n",
    "import sbol3\n",
    "from paml.execution_engine import ManualExecutionEngine\n",
    "import paml\n",
    "import uml\n",
    "import tyto\n",
    "from IPython.display import display, HTML\n",
    "import types\n",
    "\n",
    "%load_ext autoreload\n",
    "%autoreload 2"
   ]
  },
  {
   "cell_type": "code",
   "execution_count": null,
   "metadata": {},
   "outputs": [],
   "source": [
    "def setup_primitives(doc):\n",
    "    primitives = [p for p in doc.objects if isinstance(p, paml.Primitive)]\n",
    "    #list(map(lambda x: x.identity, primitives))\n",
    "    manual_primitives = [\\\n",
    "        'https://bioprotocols.org/paml/primitives/pH_calibration/PHMeterCalibrated',\n",
    "        'https://bioprotocols.org/paml/primitives/pH_calibration/MeasurePH',\n",
    "        'https://bioprotocols.org/paml/primitives/pH_calibration/MeasureTemperature',\n",
    "        'https://bioprotocols.org/paml/primitives/pH_calibration/CalculateNaOHAddition',\n",
    "        'https://bioprotocols.org/paml/primitives/pH_calibration/AtTargetPH'\n",
    "    ]\n",
    "    primitives_to_unset = [p for p in primitives if p.identity in manual_primitives]\n",
    "    for x in primitives_to_unset:\n",
    "        x.compute_output = types.MethodType(paml.primitive_execution.primitive_compute_output, x)\n",
    "    paml.initialize_primitive_compute_output(doc)\n",
    "\n",
    "new_protocol, doc = pH_calibration.pH_calibration_protocol()\n",
    "setup_primitives(doc)\n",
    "ee = ManualExecutionEngine()\n",
    "ee.initialize(new_protocol, sbol3.Agent(\"test_agent\"), id=\"test_execution\", parameter_values=[\n",
    "    paml.ParameterValue(parameter=new_protocol.get_input(\"reaction_volume\"), value=sbol3.Measure(10, tyto.OM.milliliter)),\n",
    "])\n",
    "ready, choices, graph = ee.run(new_protocol)\n",
    "print(choices)\n",
    "graph"
   ]
  },
  {
   "cell_type": "code",
   "execution_count": null,
   "metadata": {},
   "outputs": [],
   "source": [
    "def is_calibrated(node: paml.ActivityNodeExecution,\n",
    "                  parameter: uml.Parameter):\n",
    "    return False\n",
    "\n",
    "ready, choices, graph = ee.next(ready[0], node_output=is_calibrated)\n",
    "print(choices)\n",
    "graph"
   ]
  },
  {
   "cell_type": "code",
   "execution_count": null,
   "metadata": {},
   "outputs": [],
   "source": [
    "def is_calibration_successful(node: paml.ActivityNodeExecution,\n",
    "                  parameter: uml.Parameter):\n",
    "    return True\n",
    "\n",
    "ready, choices, graph = ee.next(ready[0], node_output=is_calibration_successful)\n",
    "print(choices)\n",
    "graph"
   ]
  },
  {
   "cell_type": "code",
   "execution_count": null,
   "metadata": {},
   "outputs": [],
   "source": [
    "def measure_temperature(node: paml.ActivityNodeExecution,\n",
    "                  parameter: uml.Parameter):\n",
    "    return sbol3.Measure(30, \"http://www.ontology-of-units-of-measure.org/resource/om-2/degreeCelsius\")\n",
    "\n",
    "measure_temp = next((r for r in ready if r.behavior.lookup().display_id == \"MeasureTemperature\"))\n",
    "\n",
    "ready, choices, graph = ee.next(measure_temp, node_output=measure_temperature)\n",
    "print(choices)\n",
    "graph"
   ]
  },
  {
   "cell_type": "code",
   "execution_count": null,
   "metadata": {},
   "outputs": [],
   "source": [
    "def measure_pH(node: paml.ActivityNodeExecution,\n",
    "                  parameter: uml.Parameter):\n",
    "    return uml.literal(7)\n",
    "\n",
    "m_pH = next((r for r in ready if r.behavior.lookup().display_id == \"MeasurePH\"))\n",
    "\n",
    "ready, choices, graph = ee.next(m_pH, node_output=measure_pH)\n",
    "print(choices)\n",
    "graph"
   ]
  },
  {
   "cell_type": "code",
   "execution_count": null,
   "metadata": {},
   "outputs": [],
   "source": [
    "def at_target(node: paml.ActivityNodeExecution,\n",
    "                  parameter: uml.Parameter):\n",
    "    return uml.literal(eval(input()))\n",
    "\n",
    "at_t_pH = next((r for r in ready if r.behavior.lookup().display_id == \"AtTargetPH\"))\n",
    "\n",
    "ready, choices, graph = ee.next(at_t_pH, node_output=at_target)\n",
    "print(choices)\n",
    "graph"
   ]
  },
  {
   "cell_type": "code",
   "execution_count": null,
   "metadata": {},
   "outputs": [],
   "source": [
    "ee.finalize(new_protocol)\n",
    "ee.ex.completed_normally"
   ]
  }
 ],
 "metadata": {
  "interpreter": {
   "hash": "c9232c3953b15971bd6a39818a87b03dd250ca29a3119b39f78f587bff7600fb"
  },
  "kernelspec": {
   "display_name": "Python 3.9.12 ('env': venv)",
   "language": "python",
   "name": "python3"
  },
  "language_info": {
   "codemirror_mode": {
    "name": "ipython",
    "version": 3
   },
   "file_extension": ".py",
   "mimetype": "text/x-python",
   "name": "python",
   "nbconvert_exporter": "python",
   "pygments_lexer": "ipython3",
   "version": "3.9.12"
  }
 },
 "nbformat": 4,
 "nbformat_minor": 2
}

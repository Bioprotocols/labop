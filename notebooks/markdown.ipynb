{
 "cells": [
  {
   "cell_type": "code",
   "execution_count": 1,
   "id": "cebc83e6",
   "metadata": {},
   "outputs": [],
   "source": [
    "import os\n",
    "import tempfile\n",
    "import unittest\n",
    "import filecmp\n",
    "import sbol3\n",
    "import paml\n",
    "import tyto\n",
    "import uml\n",
    "import json\n",
    "\n",
    "from paml_convert.markdown.markdown_specialization import MarkdownSpecialization\n",
    "\n",
    "from paml.execution_engine import ExecutionEngine\n",
    "from IPython.display import Markdown\n",
    "\n",
    "%load_ext autoreload\n",
    "%autoreload 2"
   ]
  },
  {
   "cell_type": "code",
   "execution_count": 2,
   "id": "7b25c4e8",
   "metadata": {
    "scrolled": false
   },
   "outputs": [
    {
     "data": {
      "text/markdown": [
       "# iGEM 2018 LUDOX OD calibration protocol\n",
       "\n",
       "## Description:\n",
       "\n",
       "With this protocol you will use LUDOX CL-X (a 45% colloidal silica suspension) as a single point reference to\n",
       "obtain a conversion factor to transform absorbance (OD600) data from your plate reader into a comparable\n",
       "OD600 measurement as would be obtained in a spectrophotometer. This conversion is necessary because plate\n",
       "reader measurements of absorbance are volume dependent; the depth of the fluid in the well defines the path\n",
       "length of the light passing through the sample, which can vary slightly from well to well. In a standard\n",
       "spectrophotometer, the path length is fixed and is defined by the width of the cuvette, which is constant.\n",
       "Therefore this conversion calculation can transform OD600 measurements from a plate reader (i.e. absorbance\n",
       "at 600 nm, the basic output of most instruments) into comparable OD600 measurements. The LUDOX solution\n",
       "is only weakly scattering and so will give a low absorbance value.\n",
       "        \n",
       "\n",
       "\n",
       "## Protocol Materials:\n",
       "* [LUDOX(R) CL-X colloidal silica, 45 wt. % suspension in H2O](https://identifiers.org/pubchem.substance:24866361)\n",
       "* [Water, sterile-filtered, BioReagent, suitable for cell culture](https://identifiers.org/pubchem.substance:24901740)\n",
       "\n",
       "\n",
       "## Protocol Inputs:\n",
       "* `wavelength` = 100.0 nanometer\n",
       "\n",
       "## Protocol Outputs:\n",
       "* `absorbance`\n",
       "\n",
       "## Steps\n",
       "1. Provision a container named `samples` such as: \n",
       "\t[Corning96-ubottom-clear-tc](https://sift.net/container-ontology/strateos-catalog#Corning96-ubottom-clear-tc),\n",
       "\t[Corning_96_well_black_clear_bottom_plates](https://sift.net/container-ontology/bbn-plate-catalog#Corning_96_well_black_clear_bottom_plates),\n",
       "\t[Eppendorf96-flat-clear-clear-tc](https://sift.net/container-ontology/strateos-catalog#Eppendorf96-flat-clear-clear-tc),\n",
       "\t[NEST_0.1_mL_96-Well_PCR_Plate_Full_Skirt](https://sift.net/container-ontology/bbn-plate-catalog#NEST_0.1_mL_96-Well_PCR_Plate_Full_Skirt),\n",
       "\t[Costar96-flat-clear-costar-3590](https://sift.net/container-ontology/strateos-catalog#Costar96-flat-clear-costar-3590).\n",
       "2. Pipette 100.0 microliter of [Water, sterile-filtered, BioReagent, suitable for cell culture](https://identifiers.org/pubchem.substance:24901740) into `samples(A1:D1)`.\n",
       "3. Pipette 100.0 microliter of [LUDOX(R) CL-X colloidal silica, 45 wt. % suspension in H2O](https://identifiers.org/pubchem.substance:24866361) into `samples(A2:D2)`.\n",
       "4. Make absorbance measurements (named `measurements`) of `samples(A1:D2)` at 100.0 nanometer.\n",
       "5. Report values for `absorbance` from `measurements`.\n"
      ],
      "text/plain": [
       "<IPython.core.display.Markdown object>"
      ]
     },
     "execution_count": 2,
     "metadata": {},
     "output_type": "execute_result"
    }
   ],
   "source": [
    "## Execute a PAML protocol, emitting a Markdown protocol\n",
    "\n",
    "# Setup PAML protocol for execution\n",
    "out_dir = \".\"\n",
    "doc = sbol3.Document()\n",
    "sbol3.set_namespace('https://bbn.com/scratch/')\n",
    "protocol_file = os.path.join(os.getcwd(), \"../test/testfiles\", \"igem_ludox_test.nt\")\n",
    "doc.read(protocol_file, 'nt')\n",
    "protocol = doc.find(\"https://bbn.com/scratch/iGEM_LUDOX_OD_calibration_2018\")\n",
    "agent = sbol3.Agent(\"test_agent\")\n",
    "\n",
    "\n",
    "# Setup Markdown Specialization\n",
    "markdown_output = os.path.join(out_dir, \"test_LUDOX_markdown.md\")\n",
    "markdown_specialization = MarkdownSpecialization(markdown_output)\n",
    "\n",
    "\n",
    "# Execute the protocol\n",
    "ee = ExecutionEngine(specializations=[markdown_specialization])\n",
    "parameter_values = [\n",
    "    paml.ParameterValue(parameter=protocol.get_input(\"wavelength\"), \n",
    "                        value=uml.LiteralIdentified(value=sbol3.Measure(100, tyto.OM.nanometer)))\n",
    "]\n",
    "execution = ee.execute(protocol, agent, id=\"test_execution\", parameter_values=parameter_values)\n",
    "\n",
    "Markdown(ee.specializations[0].markdown)"
   ]
  },
  {
   "cell_type": "code",
   "execution_count": null,
   "id": "b212fa5e",
   "metadata": {},
   "outputs": [],
   "source": []
  }
 ],
 "metadata": {
  "kernelspec": {
   "display_name": "paml_env",
   "language": "python",
   "name": "env"
  },
  "execution": {
      "allow_errors": true,
      "timeout": 300
    },
  "language_info": {
   "codemirror_mode": {
    "name": "ipython",
    "version": 3
   },
   "file_extension": ".py",
   "mimetype": "text/x-python",
   "name": "python",
   "nbconvert_exporter": "python",
   "pygments_lexer": "ipython3",
   "version": "3.9.7"
  }
 },
 "nbformat": 4,
 "nbformat_minor": 5
}

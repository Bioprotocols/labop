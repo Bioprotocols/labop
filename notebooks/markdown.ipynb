{
 "cells": [
  {
   "cell_type": "code",
   "execution_count": 11,
   "id": "53250ac3",
   "metadata": {},
   "outputs": [
    {
     "name": "stdout",
     "output_type": "stream",
     "text": [
      "The autoreload extension is already loaded. To reload it, use:\n",
      "  %reload_ext autoreload\n"
     ]
    }
   ],
   "source": [
    "import os\n",
    "import tempfile\n",
    "import unittest\n",
    "import filecmp\n",
    "import sbol3\n",
    "import paml\n",
    "import tyto\n",
    "import uml\n",
    "import json\n",
    "\n",
    "from paml_convert.markdown.markdown_specialization import MarkdownSpecialization\n",
    "\n",
    "from paml.execution_engine import ExecutionEngine\n",
    "from IPython.display import Markdown\n",
    "\n",
    "%load_ext autoreload\n",
    "%autoreload 2"
   ]
  },
  {
   "cell_type": "code",
   "execution_count": 60,
   "id": "b9ed4479",
   "metadata": {},
   "outputs": [
    {
     "data": {
      "text/markdown": [
       "# iGEM 2018 LUDOX OD calibration protocol\n",
       "\n",
       "## Description:\n",
       "\n",
       "With this protocol you will use LUDOX CL-X (a 45% colloidal silica suspension) as a single point reference to\n",
       "obtain a conversion factor to transform absorbance (OD600) data from your plate reader into a comparable\n",
       "OD600 measurement as would be obtained in a spectrophotometer. This conversion is necessary because plate\n",
       "reader measurements of absorbance are volume dependent; the depth of the fluid in the well defines the path\n",
       "length of the light passing through the sample, which can vary slightly from well to well. In a standard\n",
       "spectrophotometer, the path length is fixed and is defined by the width of the cuvette, which is constant.\n",
       "Therefore this conversion calculation can transform OD600 measurements from a plate reader (i.e. absorbance\n",
       "at 600 nm, the basic output of most instruments) into comparable OD600 measurements. The LUDOX solution\n",
       "is only weakly scattering and so will give a low absorbance value.\n",
       "        \n",
       "\n",
       "\n",
       "## Protocol Materials:\n",
       "* [Water, sterile-filtered, BioReagent, suitable for cell culture](https://bbn.com/scratch/ddH2O)\n",
       "* [LUDOX(R) CL-X colloidal silica, 45 wt. % suspension in H2O](https://bbn.com/scratch/LUDOX)\n",
       "\n",
       "\n",
       "## Protocol Inputs:\n",
       "* [wavelength](https://bbn.com/scratch/iGEM_LUDOX_OD_calibration_2018/OrderedPropertyValue1/Parameter1): 100.0 nanometer\n",
       "\n",
       "## Protocol Outputs:\n",
       "* [absorbance](https://bbn.com/scratch/iGEM_LUDOX_OD_calibration_2018/OrderedPropertyValue2/Parameter1): var_4\n",
       "\n",
       "## Steps\n",
       "1. Pipette 100.0 microliter of <sbol3.component.Component object at 0x11be9ed60> into var_1\n",
       "2. Pipette 100.0 microliter of <sbol3.component.Component object at 0x11bea3370> into var_2\n",
       "3. Measure absorbance of var_3 at 100.0 nanometer\n",
       "\n",
       "4. Report values from [absorbance](https://bbn.com/scratch/iGEM_LUDOX_OD_calibration_2018/OrderedPropertyValue2/Parameter1) \n"
      ],
      "text/plain": [
       "<IPython.core.display.Markdown object>"
      ]
     },
     "execution_count": 60,
     "metadata": {},
     "output_type": "execute_result"
    }
   ],
   "source": [
    "## Execute a PAML protocol, emitting a Markdown protocol\n",
    "\n",
    "# Setup PAML protocol for execution\n",
    "out_dir = \".\"\n",
    "doc = sbol3.Document()\n",
    "sbol3.set_namespace('https://bbn.com/scratch/')\n",
    "protocol_file = os.path.join(os.getcwd(), \"../test/testfiles\", \"igem_ludox_test.nt\")\n",
    "doc.read(protocol_file, 'nt')\n",
    "protocol = doc.find(\"https://bbn.com/scratch/iGEM_LUDOX_OD_calibration_2018\")\n",
    "agent = sbol3.Agent(\"test_agent\")\n",
    "\n",
    "\n",
    "# Setup Markdown Specialization\n",
    "markdown_output = os.path.join(out_dir, \"test_LUDOX_markdown.md\")\n",
    "markdown_specialization = MarkdownSpecialization(markdown_output)\n",
    "\n",
    "\n",
    "# Execute the protocol\n",
    "ee = ExecutionEngine(specializations=[markdown_specialization])\n",
    "parameter_values = [\n",
    "    paml.ParameterValue(parameter=protocol.get_input(\"wavelength\"), \n",
    "                        value=uml.LiteralIdentified(value=sbol3.Measure(100, tyto.OM.nanometer)))\n",
    "]\n",
    "execution = ee.execute(protocol, agent, id=\"test_execution\", parameter_values=parameter_values)\n",
    "\n",
    "Markdown(ee.specializations[0].markdown)"
   ]
  },
  {
   "cell_type": "markdown",
   "id": "e532ca36",
   "metadata": {},
   "source": [
    "[foo](www.abc.com)"
   ]
  },
  {
   "cell_type": "code",
   "execution_count": 56,
   "id": "f767643d",
   "metadata": {},
   "outputs": [
    {
     "data": {
      "text/plain": [
       "{'LUDOX(R) CL-X colloidal silica, 45 wt. % suspension in H2O': <sbol3.component.Component at 0x11a6401c0>,\n",
       " 'Water, sterile-filtered, BioReagent, suitable for cell culture': <sbol3.component.Component at 0x11a927490>}"
      ]
     },
     "execution_count": 56,
     "metadata": {},
     "output_type": "execute_result"
    }
   ],
   "source": [
    "protocol = execution.protocol.lookup()\n",
    "components = [x for x in protocol.document.objects if isinstance(x, sbol3.component.Component)]\n",
    "{x.name: x for x in components}"
   ]
  }
 ],
 "metadata": {
  "kernelspec": {
   "display_name": "paml_env",
   "language": "python",
   "name": "env"
  },
  "language_info": {
   "codemirror_mode": {
    "name": "ipython",
    "version": 3
   },
   "file_extension": ".py",
   "mimetype": "text/x-python",
   "name": "python",
   "nbconvert_exporter": "python",
   "pygments_lexer": "ipython3",
   "version": "3.9.7"
  }
 },
 "nbformat": 4,
 "nbformat_minor": 5
}

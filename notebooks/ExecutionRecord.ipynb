{
 "cells": [
  {
   "cell_type": "code",
   "execution_count": null,
   "id": "a48d6a99",
   "metadata": {},
   "outputs": [],
   "source": [
    "import os\n",
    "import sbol3\n",
    "import labop\n",
    "import tyto\n",
    "import uml\n",
    "from labop.execution.execution_engine import ManualExecutionEngine\n",
    "from labop_jupyter import LabOPJupyterExecutionUI\n",
    "%load_ext autoreload\n",
    "%autoreload 2"
   ]
  },
  {
   "cell_type": "code",
   "execution_count": null,
   "id": "614f1a14",
   "metadata": {},
   "outputs": [],
   "source": [
    "doc_file = os.path.join(os.getcwd(), \"../test/testfiles/igem_ludox_test.nt\")\n",
    "ui = LabOPJupyterExecutionUI(doc_file=doc_file)\n",
    "ui.show()"
   ]
  },
  {
   "cell_type": "code",
   "execution_count": null,
   "id": "9a0da1c7",
   "metadata": {},
   "outputs": [],
   "source": [
    "[pv.value.value for  pv in ui.ee.ex.parameter_values]"
   ]
  },
  {
   "cell_type": "code",
   "execution_count": null,
   "id": "1955da04",
   "metadata": {},
   "outputs": [],
   "source": [
    "ui.protocol_parameters = {\"wavelength\": sbol3.Measure(100, tyto.OM.nanometer)}\n",
    "ui.update()"
   ]
  },
  {
   "cell_type": "code",
   "execution_count": null,
   "id": "89c77c07",
   "metadata": {},
   "outputs": [],
   "source": [
    "ui.update()"
   ]
  },
  {
   "cell_type": "code",
   "execution_count": null,
   "id": "6a3ddce6",
   "metadata": {},
   "outputs": [],
   "source": [
    "ui.protocol_execution_controls.layout = ui.layout_hidden\n",
    "ui.update()"
   ]
  },
  {
   "cell_type": "code",
   "execution_count": null,
   "id": "97483820",
   "metadata": {},
   "outputs": [],
   "source": [
    "#doc_file = os.path.join(os.getcwd(), \"../test/testfiles/igem_ludox_test.nt\")\n",
    "\n",
    "#doc = sbol3.Document()\n",
    "#sbol3.set_namespace('https://bbn.com/scratch/')\n",
    "#doc.read(doc_file, 'nt')\n",
    "\n",
    "#protocol = doc.find(\"https://bbn.com/scratch/iGEM_LUDOX_OD_calibration_2018\")\n",
    "\n",
    "#me = ManualExecutionEngine()\n",
    "#agent = sbol3.Agent(\"test_agent\")\n",
    "parameter_values = [\n",
    "    labop.ParameterValue(parameter=protocol.get_input(\"wavelength\"), value=sbol3.Measure(100, tyto.OM.nanometer))\n",
    "]\n",
    "\n",
    "me.setup_execution(protocol, agent, id=\"jupyter_execution\", parameter_values=parameter_values)\n",
    "me.to_dot()"
   ]
  },
  {
   "cell_type": "code",
   "execution_count": null,
   "id": "c83de7be",
   "metadata": {},
   "outputs": [],
   "source": [
    "[r] = me.ready\n",
    "{type(p.identity) : v for p, v in me.call_behavior_action_outputs(r).items()}\n"
   ]
  },
  {
   "cell_type": "code",
   "execution_count": null,
   "id": "96c6f54a",
   "metadata": {},
   "outputs": [],
   "source": [
    "node = me.ready.pop()\n",
    "output_map = {\n",
    "    'samples' : labop.SampleArray(container_type=tyto.NCIT.get_uri_by_term('Microplate'),\n",
    "                                 contents=\"empty\")\n",
    "    }\n",
    "outputs = [labop.ParameterValue(parameter=p.property_value, value=output_map[p.property_value.name])\n",
    "           for p in node.behavior.lookup().parameters \n",
    "           if p.property_value.direction == uml.PARAMETER_OUT]\n",
    "me.step(node, outputs)\n",
    "me.ready"
   ]
  },
  {
   "cell_type": "code",
   "execution_count": null,
   "id": "092f76da",
   "metadata": {},
   "outputs": [],
   "source": [
    "[r.dot_label(parent_identity=me.ex.protocol) for r in me.ready]"
   ]
  },
  {
   "cell_type": "code",
   "execution_count": null,
   "id": "e4d65ca2",
   "metadata": {},
   "outputs": [],
   "source": [
    "[e] = [x for x in me.ex.executions if isinstance(x, labop.CallBehaviorExecution)]\n",
    "{p.parameter.lookup().name: p.value for p in e.call.lookup().parameter_values}"
   ]
  },
  {
   "cell_type": "code",
   "execution_count": null,
   "id": "409bed03",
   "metadata": {},
   "outputs": [],
   "source": [
    "g = me.to_dot()\n",
    "g"
   ]
  },
  {
   "cell_type": "code",
   "execution_count": null,
   "id": "405eeec2",
   "metadata": {},
   "outputs": [],
   "source": [
    "node = me.ready.pop()\n",
    "output_map = {\n",
    "    'samples' : labop.SampleCollection() #FIXME must be a bug that the output is this abstract type\n",
    "    }\n",
    "outputs = [labop.ParameterValue(parameter=p.property_value, value=output_map[p.property_value.name])\n",
    "           for p in node.behavior.lookup().parameters \n",
    "           if p.property_value.direction == uml.PARAMETER_OUT]\n",
    "me.step(node, outputs)\n",
    "me.ready"
   ]
  },
  {
   "cell_type": "code",
   "execution_count": null,
   "id": "3041933a",
   "metadata": {},
   "outputs": [],
   "source": [
    "node = me.ready.pop()\n",
    "output_map = {\n",
    "    \n",
    "    }\n",
    "outputs = [labop.ParameterValue(parameter=p.property_value, value=output_map[p.property_value.name])\n",
    "           for p in node.behavior.lookup().parameters \n",
    "           if p.property_value.direction == uml.PARAMETER_OUT]\n",
    "me.step(node, outputs)\n",
    "me.ready"
   ]
  },
  {
   "cell_type": "code",
   "execution_count": null,
   "id": "2112fe6e",
   "metadata": {},
   "outputs": [],
   "source": [
    "node = me.ready.pop()\n",
    "output_map = {\n",
    "    'samples' : labop.SampleCollection() #FIXME must be a bug that the output is this abstract type\n",
    "    }\n",
    "outputs = [labop.ParameterValue(parameter=p.property_value, value=output_map[p.property_value.name])\n",
    "           for p in node.behavior.lookup().parameters \n",
    "           if p.property_value.direction == uml.PARAMETER_OUT]\n",
    "me.step(node, outputs)\n",
    "me.ready"
   ]
  },
  {
   "cell_type": "code",
   "execution_count": null,
   "id": "657df70c",
   "metadata": {},
   "outputs": [],
   "source": [
    "node = me.ready.pop()\n",
    "output_map = {\n",
    "    #'samples' : labop.SampleCollection() #FIXME must be a bug that the output is this abstract type\n",
    "    }\n",
    "outputs = [labop.ParameterValue(parameter=p.property_value, value=output_map[p.property_value.name])\n",
    "           for p in node.behavior.lookup().parameters \n",
    "           if p.property_value.direction == uml.PARAMETER_OUT]\n",
    "me.step(node, outputs)\n",
    "me.ready"
   ]
  },
  {
   "cell_type": "code",
   "execution_count": null,
   "id": "98522eae",
   "metadata": {},
   "outputs": [],
   "source": [
    "node = me.ready.pop()\n",
    "output_map = {\n",
    "    'samples' : labop.SampleCollection() #FIXME must be a bug that the output is this abstract type\n",
    "    }\n",
    "outputs = [labop.ParameterValue(parameter=p.property_value, value=output_map[p.property_value.name])\n",
    "           for p in node.behavior.lookup().parameters \n",
    "           if p.property_value.direction == uml.PARAMETER_OUT]\n",
    "me.step(node, outputs)\n",
    "me.ready"
   ]
  },
  {
   "cell_type": "code",
   "execution_count": null,
   "id": "9706c843",
   "metadata": {},
   "outputs": [],
   "source": [
    "node = me.ready.pop()\n",
    "input_values = me.call_behavior_action_input_values(node, me.tokens)\n",
    "inputs = {doc.find(pv.parameter).name: pv.value.value for pv in input_values}\n",
    "output_map = {\n",
    "    'measurements' : labop.SampleData(values=\"foo\",\n",
    "                                    from_samples=inputs[\"samples\"]) #FIXME must be a bug that the output is this abstract type\n",
    "    }\n",
    "outputs = [labop.ParameterValue(parameter=p.property_value, value=output_map[p.property_value.name])\n",
    "           for p in node.behavior.lookup().parameters \n",
    "           if p.property_value.direction == uml.PARAMETER_OUT]\n",
    "me.step(node, outputs)\n",
    "me.ready"
   ]
  },
  {
   "cell_type": "code",
   "execution_count": null,
   "id": "442fa89f",
   "metadata": {},
   "outputs": [],
   "source": [
    "# Done because no more ready nodes"
   ]
  },
  {
   "cell_type": "code",
   "execution_count": null,
   "id": "947d5f97",
   "metadata": {},
   "outputs": [],
   "source": [
    "{pv.parameter.lookup().name: pv.value.value for pv in me.ex.parameter_values}"
   ]
  },
  {
   "cell_type": "code",
   "execution_count": null,
   "id": "780ecd74",
   "metadata": {},
   "outputs": [],
   "source": [
    "me.ex.to_dot()"
   ]
  },
  {
   "cell_type": "code",
   "execution_count": null,
   "id": "d244ad69",
   "metadata": {},
   "outputs": [],
   "source": [
    "node = me.ready.pop()\n",
    "me.ready.add(node)\n",
    "print(node.behavior.lookup())\n",
    "# these input values aren't yet in the doc, so I cannot resolve their references using lookup()\n",
    "input_values = me.call_behavior_action_input_values(node, me.tokens)\n",
    "inputs = {doc.find(pv.parameter).name: pv.value.value for pv in input_values}\n",
    "inputs"
   ]
  },
  {
   "cell_type": "code",
   "execution_count": null,
   "id": "19b4ac1b",
   "metadata": {},
   "outputs": [],
   "source": [
    "doc.find(\"https://bioprotocols.org/labop/primitives/liquid_handling/Provision/OrderedPropertyValue3/Parameter1\")"
   ]
  },
  {
   "cell_type": "code",
   "execution_count": null,
   "id": "97e9df24",
   "metadata": {},
   "outputs": [],
   "source": [
    "print(node.behavior.lookup())"
   ]
  },
  {
   "cell_type": "code",
   "execution_count": null,
   "id": "d5b2b9d5",
   "metadata": {},
   "outputs": [],
   "source": []
  },
  {
   "cell_type": "code",
   "execution_count": null,
   "id": "344c9a05",
   "metadata": {},
   "outputs": [],
   "source": [
    "[str(x.parameter.lookup()) for x in me.ex.executions[-1].call.lookup().parameter_values]"
   ]
  }
 ],
 "metadata": {
  "kernelspec": {
   "display_name": "labop_env",
   "language": "python",
   "name": "env"
  },
  "language_info": {
   "codemirror_mode": {
    "name": "ipython",
    "version": 3
   },
   "file_extension": ".py",
   "mimetype": "text/x-python",
   "name": "python",
   "nbconvert_exporter": "python",
   "pygments_lexer": "ipython3",
   "version": "3.9.7"
  }
 },
 "nbformat": 4,
 "nbformat_minor": 5
}

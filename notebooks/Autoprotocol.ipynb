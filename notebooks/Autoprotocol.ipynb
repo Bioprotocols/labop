{
 "cells": [
  {
   "cell_type": "code",
   "execution_count": null,
   "id": "e7df9f1c",
   "metadata": {},
   "outputs": [],
   "source": [
    "import os\n",
    "import tempfile\n",
    "import unittest\n",
    "import filecmp\n",
    "import sbol3\n",
    "import paml\n",
    "import tyto\n",
    "import uml\n",
    "import json\n",
    "\n",
    "import paml_autoprotocol.plate_coordinates as pc\n",
    "from paml_autoprotocol.execution_processor import ExecutionProcessor\n",
    "from paml_autoprotocol.autoprotocol_specialization import AutoprotocolSpecialization, ResolvedTerm\n",
    "\n",
    "from autoprotocol.protocol import \\\n",
    "    Spectrophotometry, \\\n",
    "    Protocol, \\\n",
    "    WellGroup, \\\n",
    "    Unit\n",
    "from autoprotocol import container_type as ctype\n",
    "from paml_autoprotocol.transcriptic_api import TranscripticAPI, TranscripticConfig\n",
    "from paml.execution_engine import ExecutionEngine\n",
    "\n",
    "\n",
    "%load_ext autoreload\n",
    "%autoreload 2"
   ]
  },
  {
   "cell_type": "code",
   "execution_count": null,
   "id": "bb70946e",
   "metadata": {},
   "outputs": [],
   "source": []
  },
  {
   "cell_type": "code",
   "execution_count": null,
   "id": "f6beec4f",
   "metadata": {},
   "outputs": [],
   "source": [
    "## Execute a PAML protocol, emitting an Autoprotocol protocol\n",
    "\n",
    "# Setup PAML protocol for execution\n",
    "out_dir = \".\"\n",
    "doc = sbol3.Document()\n",
    "sbol3.set_namespace('https://bbn.com/scratch/')\n",
    "protocol_file = os.path.join(os.getcwd(), \"../test/testfiles\", \"igem_ludox_test.nt\")\n",
    "doc.read(protocol_file, 'nt')\n",
    "protocol = doc.find(\"https://bbn.com/scratch/iGEM_LUDOX_OD_calibration_2018\")\n",
    "agent = sbol3.Agent(\"test_agent\")\n",
    "\n",
    "\n",
    "# Setup Autoprotocol specialization\n",
    "out_dir = \"out\"\n",
    "if not os.path.exists(out_dir):\n",
    "    os.mkdir(out_dir)\n",
    "autoprotocol_output = os.path.join(out_dir, \"test_LUDOX_autoprotocol.json\")\n",
    "secrets_file = os.path.join(os.getcwd(), \"../secrets/tx_secrets.json\")\n",
    "resolutions = {\n",
    "    doc.find(\"https://bbn.com/scratch/LUDOX\") : \"rs1b6z2vgatkq7\",\n",
    "    doc.find(\"https://bbn.com/scratch/ddH2O\") : \"rs1c7pg8qs22dt\"\n",
    "}\n",
    "api = TranscripticAPI(cfg=TranscripticConfig.from_file(secrets_file))\n",
    "autoprotocol_specialization = AutoprotocolSpecialization(autoprotocol_output, api, resolutions)\n",
    "\n",
    "\n",
    "# Execute the protocol\n",
    "ee = ExecutionEngine(specializations=[autoprotocol_specialization])\n",
    "parameter_values = [\n",
    "    paml.ParameterValue(parameter=protocol.get_input(\"wavelength\"), \n",
    "                        value=uml.LiteralIdentified(value=sbol3.Measure(100, tyto.OM.nanometer)))\n",
    "]\n",
    "execution = ee.execute(protocol, agent, id=\"test_execution\", parameter_values=parameter_values)\n",
    "\n",
    "\n",
    "ee.specializations[0].protocol.instructions"
   ]
  },
  {
   "cell_type": "code",
   "execution_count": null,
   "id": "b114c5d1",
   "metadata": {},
   "outputs": [],
   "source": [
    "# Submit Autoprotocol object for execution at Strateos\n",
    "\n",
    "tx = api.get_transcriptic_connection()\n",
    "response = tx.submit_run(ee.specializations[0].protocol, \n",
    "                         project_id=api.cfg.project_id,\n",
    "                         test_mode=True)\n",
    "\n",
    "response"
   ]
  },
  {
   "cell_type": "markdown",
   "id": "e2fb61be",
   "metadata": {},
   "source": [
    "# The following is Scratch space"
   ]
  },
  {
   "cell_type": "code",
   "execution_count": null,
   "id": "6bf7cea4",
   "metadata": {},
   "outputs": [],
   "source": [
    "#tx.inventory(\"96-flat\")['results'][1]\n",
    "#tx_protocols = tx.get_protocols()"
   ]
  },
  {
   "cell_type": "code",
   "execution_count": null,
   "id": "d7c1cd3f",
   "metadata": {},
   "outputs": [],
   "source": [
    "api._protocol_name_map[\"MakeContainers\"].protocol"
   ]
  },
  {
   "cell_type": "code",
   "execution_count": null,
   "id": "3f1a95e6",
   "metadata": {},
   "outputs": [],
   "source": [
    " container_spec = {\n",
    "                \"name\": \"test create PAML container\",\n",
    "                \"cont_type\": ctype.FLAT96.shortname, # resolve with spec here\n",
    "                \"volume\": \"1000:microliter\", # FIXME where does this come from?\n",
    "                \"properties\": [\n",
    "                    {\n",
    "                        \"key\": \"concentration\",\n",
    "                        \"value\": \"10:millimolar\"\n",
    "                    }\n",
    "                ]\n",
    "            }\n",
    "api.make_containers([container_spec])"
   ]
  },
  {
   "cell_type": "code",
   "execution_count": null,
   "id": "66497bbd",
   "metadata": {},
   "outputs": [],
   "source": [
    "#[n.identity for n in protocol.nodes if isinstance(n, uml.CallBehaviorAction)]\n",
    "provision = doc.find(\"https://bbn.com/scratch/iGEM_LUDOX_OD_calibration_2018/CallBehaviorAction3\")\n",
    "parameters = [x.property_value for x in provision.behavior.lookup().parameters]\n",
    "[(x., x.name) for x in parameters]"
   ]
  },
  {
   "cell_type": "code",
   "execution_count": null,
   "id": "a5bf5ea4",
   "metadata": {},
   "outputs": [],
   "source": [
    "import requests\n",
    "resource = doc.find(\"https://bbn.com/scratch/LUDOX\")\n",
    "types = resource.types\n",
    "resolved_types = [requests.get(t).headers['content-type'] for t in types]\n",
    "resolved_types"
   ]
  },
  {
   "cell_type": "code",
   "execution_count": null,
   "id": "794e8b51",
   "metadata": {},
   "outputs": [],
   "source": [
    "requests.request(\"https://identifiers.org/pubchem.substance:24866361\")"
   ]
  },
  {
   "cell_type": "code",
   "execution_count": null,
   "id": "cc272651",
   "metadata": {},
   "outputs": [],
   "source": [
    "print(resource.type)\n",
    "api.resolve_resource(resource)"
   ]
  },
  {
   "cell_type": "code",
   "execution_count": null,
   "id": "2441fa64",
   "metadata": {},
   "outputs": [],
   "source": [
    "tx = api.get_transcriptic_connection()\n",
    "[result] = tx.resources(\"ddh2o\")[\"results\"]\n",
    "water_id = result[\"id\"]\n",
    "[result] = tx.resources(\"ludox\")[\"results\"]\n",
    "ludox_id = result[\"id\"]\n",
    "\n",
    "resolutions = {specialization.unresolved_terms[0] : 'abc',\n",
    "               specialization.unresolved_terms[1] : water_id,\n",
    "               specialization.unresolved_terms[2] : ludox_id}\n",
    "resolved_terms = [ResolvedTerm(x, resolutions[x]) for x in specialization.unresolved_terms]\n",
    "resolved_terms"
   ]
  },
  {
   "cell_type": "code",
   "execution_count": null,
   "id": "8590f31e",
   "metadata": {},
   "outputs": [],
   "source": [
    "print([x.unresolved_term.step for x in resolved_terms])\n",
    "specialization.resolve(resolved_terms)\n"
   ]
  },
  {
   "cell_type": "code",
   "execution_count": null,
   "id": "d1fd33cf",
   "metadata": {},
   "outputs": [],
   "source": [
    "import pubchempy\n",
    "import pandas as pd\n",
    "substance = \"24901740\"\n",
    "s = pubchempy.Substance.from_sid(substance)\n",
    "\n",
    "\n",
    "results = api.get_transcriptic_connection().resources(s.synonyms[0].split(\" \")[0])\n",
    "{r['id'] : (r['name'], r['pub_chem_id']) for r in results['results'] if 'pub_chem_id' in r}\n",
    "#{r['id'] : list(r.keys()) for r in results['results']}\n",
    "set([k for r in results['results'] for k in r.keys()])\n",
    "\n",
    "results\n",
    "#df = pd.DataFrame({r['id'] : [list(r.keys())] for r in results['results']})\n",
    "#df\n",
    "\n",
    "#import requests\n",
    "#r = requests.get(\"https://identifiers.org/pubchem.substance:24901740\")\n",
    "#r.content"
   ]
  }
 ],
 "metadata": {
  "kernelspec": {
   "display_name": "paml_env",
   "language": "python",
   "name": "env"
  },
  "language_info": {
   "codemirror_mode": {
    "name": "ipython",
    "version": 3
   },
   "file_extension": ".py",
   "mimetype": "text/x-python",
   "name": "python",
   "nbconvert_exporter": "python",
   "pygments_lexer": "ipython3",
   "version": "3.9.7"
  }
 },
 "nbformat": 4,
 "nbformat_minor": 5
}

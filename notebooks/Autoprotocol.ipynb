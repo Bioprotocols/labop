{
 "cells": [
  {
   "cell_type": "code",
   "execution_count": null,
   "id": "e7df9f1c",
   "metadata": {},
   "outputs": [],
   "source": [
    "import os\n",
    "import tempfile\n",
    "import unittest\n",
    "import filecmp\n",
    "import sbol3\n",
    "import paml\n",
    "import tyto\n",
    "import uml\n",
    "import json\n",
    "\n",
    "from paml_convert.autoprotocol.autoprotocol_specialization import AutoprotocolSpecialization\n",
    "from paml_convert.autoprotocol.strateos_api import StrateosAPI, StrateosConfig\n",
    "from autoprotocol import container_type as ctype\n",
    "from paml.execution_engine import ExecutionEngine\n",
    "from container_api.client_api import matching_containers, strateos_id\n",
    "\n",
    "%load_ext autoreload\n",
    "%autoreload 2"
   ]
  },
  {
   "cell_type": "code",
   "execution_count": null,
   "id": "f6beec4f",
   "metadata": {},
   "outputs": [],
   "source": [
    "## Execute a PAML protocol, emitting an Autoprotocol protocol\n",
    "\n",
    "# Setup PAML protocol for execution\n",
    "out_dir = \".\"\n",
    "doc = sbol3.Document()\n",
    "sbol3.set_namespace('https://bbn.com/scratch/')\n",
    "protocol_file = os.path.join(os.getcwd(), \"../test/testfiles\", \"igem_ludox_test.nt\")\n",
    "doc.read(protocol_file, 'nt')\n",
    "protocol = doc.find(\"https://bbn.com/scratch/iGEM_LUDOX_OD_calibration_2018\")\n",
    "agent = sbol3.Agent(\"test_agent\")\n",
    "\n",
    "\n",
    "# Setup Output location and Credentials for Strateos\n",
    "out_dir = \"out\"\n",
    "if not os.path.exists(out_dir):\n",
    "    os.mkdir(out_dir)\n",
    "autoprotocol_output = os.path.join(out_dir, \"test_LUDOX_autoprotocol.json\")\n",
    "secrets_file = os.path.join(os.getcwd(), \"../secrets/strateos_secrets.json\")\n",
    "\n",
    "\n",
    "# Setup Autoprotocol specialization\n",
    "resolutions = {\n",
    "    doc.find(\"https://bbn.com/scratch/LUDOX\") : \"rs1b6z2vgatkq7\",\n",
    "    doc.find(\"https://bbn.com/scratch/ddH2O\") : \"rs1c7pg8qs22dt\",\n",
    "    \"container_id\" : \"ct1g9qsg4wx6gcj\"\n",
    "}\n",
    "api = StrateosAPI(cfg=StrateosConfig.from_file(secrets_file))\n",
    "autoprotocol_specialization = AutoprotocolSpecialization(autoprotocol_output, api, resolutions)\n",
    "\n",
    "\n",
    "# Execute the protocol\n",
    "ee = ExecutionEngine(specializations=[autoprotocol_specialization])\n",
    "parameter_values = [paml.ParameterValue(parameter=protocol.get_input(\"wavelength\"), \n",
    "                                        value=uml.LiteralIdentified(value=sbol3.Measure(100, tyto.OM.nanometer)))]\n",
    "execution = ee.execute(protocol, agent, id=\"test_execution\", parameter_values=parameter_values)\n",
    "\n",
    "# Return the instructions from the protocol\n",
    "ee.specializations[0].protocol.instructions"
   ]
  },
  {
   "cell_type": "code",
   "execution_count": null,
   "id": "a847cae6",
   "metadata": {},
   "outputs": [],
   "source": [
    "# Display the Autoprotocol JSON\n",
    "with open(autoprotocol_output, \"r\") as f:\n",
    "    autoprotocol_json = json.loads(f.read())\n",
    "autoprotocol_json"
   ]
  },
  {
   "cell_type": "code",
   "execution_count": null,
   "id": "b114c5d1",
   "metadata": {},
   "outputs": [],
   "source": [
    "# Submit Autoprotocol object for execution at Strateos\n",
    "\n",
    "st = api.get_strateos_connection()\n",
    "response = st.analyze_run(ee.specializations[0].protocol, test_mode=True)\n",
    "response"
   ]
  },
  {
   "cell_type": "code",
   "execution_count": null,
   "id": "0a3bdb60",
   "metadata": {},
   "outputs": [],
   "source": [
    "#response = st.submit_run(ee.specializations[0].protocol, \n",
    "#                         project_id=api.cfg.project_id,\n",
    "#                         title=protocol.name,\n",
    "#                         test_mode=True)\n",
    "\n",
    "#response"
   ]
  },
  {
   "cell_type": "code",
   "execution_count": null,
   "id": "6f99be08",
   "metadata": {},
   "outputs": [],
   "source": []
  }
 ],
 "metadata": {
  "execution": {
   "allow_errors": false,
   "timeout": 300
  },
  "kernelspec": {
   "display_name": "Python 3 (ipykernel)",
   "language": "python",
   "name": "python3"
  },
  "language_info": {
   "codemirror_mode": {
    "name": "ipython",
    "version": 3
   },
   "file_extension": ".py",
   "mimetype": "text/x-python",
   "name": "python",
   "nbconvert_exporter": "python",
   "pygments_lexer": "ipython3",
   "version": "3.9.7"
  }
 },
 "nbformat": 4,
 "nbformat_minor": 5
}

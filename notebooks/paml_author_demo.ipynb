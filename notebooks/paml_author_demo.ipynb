{
  "nbformat": 4,
  "nbformat_minor": 5,
  "metadata": {
    "celltoolbar": "Tags",
    "execution": {
      "allow_errors": false,
      "timeout": 300
    },
    "kernelspec": {
      "display_name": "Python 3 (ipykernel)",
      "language": "python",
      "name": "python3"
    },
    "language_info": {
      "codemirror_mode": {
        "name": "ipython",
        "version": 3
      },
      "file_extension": ".py",
      "mimetype": "text/x-python",
      "name": "python",
      "nbconvert_exporter": "python",
      "pygments_lexer": "ipython3",
      "version": "3.9.7"
    },
    "colab": {
      "name": "paml_demo.ipynb",
      "provenance": [],
      "collapsed_sections": [],
      "include_colab_link": true
    }
  },
  "cells": [
    {
      "cell_type": "markdown",
      "metadata": {
        "id": "view-in-github",
        "colab_type": "text"
      },
      "source": [
        "<a href=\"https://colab.research.google.com/github/Bioprotocols/paml/blob/HARMONY22/notebooks/paml_author_demo.ipynb\" target=\"_parent\"><img src=\"https://colab.research.google.com/assets/colab-badge.svg\" alt=\"Open In Colab\"/></a>"
      ]
    },
    {
      "cell_type": "code",
      "metadata": {
        "id": "2wTEDCXOYcaT",
        "colab": {
          "base_uri": "https://localhost:8080/",
          "height": 1000
        },
        "outputId": "cb2a3b60-8755-451b-a2b3-25aaf4cf3ace"
      },
      "source": [
        "## This cell doesn't need to run as long as the runtime is intact.\n",
        "\n",
        "!pip uninstall -y pypaml                                   # remove old package\n",
        "#!pip install pypaml                                       # pypi version\n",
        "!pip install git+https://github.com/Bioprotocols/paml.git  # Using source version, not pypi\n",
        "!pip install -U distributed                                # Required by Collab"
      ],
      "id": "2wTEDCXOYcaT",
      "execution_count": null,
      "outputs": [
        {
          "output_type": "stream",
          "name": "stdout",
          "text": [
            "\u001b[33mWARNING: Skipping pypaml as it is not installed.\u001b[0m\n",
            "Collecting git+https://github.com/Bioprotocols/paml.git\n",
            "  Cloning https://github.com/Bioprotocols/paml.git to /tmp/pip-req-build-r58ya171\n",
            "  Running command git clone -q https://github.com/Bioprotocols/paml.git /tmp/pip-req-build-r58ya171\n",
            "  Running command git submodule update --init --recursive -q\n",
            "Collecting sbol-factory>=1.0a8\n",
            "  Downloading sbol_factory-1.0a11-py3-none-any.whl (238 kB)\n",
            "\u001b[K     |████████████████████████████████| 238 kB 24.2 MB/s \n",
            "\u001b[?25hCollecting sparqlwrapper>=1.8.5\n",
            "  Downloading SPARQLWrapper-1.8.5-py3-none-any.whl (26 kB)\n",
            "Requirement already satisfied: python-dateutil>=2.8.1 in /usr/local/lib/python3.7/dist-packages (from pypaml==1.0a1) (2.8.2)\n",
            "Requirement already satisfied: requests in /usr/local/lib/python3.7/dist-packages (from pypaml==1.0a1) (2.23.0)\n",
            "Requirement already satisfied: graphviz in /usr/local/lib/python3.7/dist-packages (from pypaml==1.0a1) (0.10.1)\n",
            "Collecting tyto\n",
            "  Downloading tyto-1.0-py3-none-any.whl (810 kB)\n",
            "\u001b[K     |████████████████████████████████| 810 kB 55.8 MB/s \n",
            "\u001b[?25hRequirement already satisfied: numpy in /usr/local/lib/python3.7/dist-packages (from pypaml==1.0a1) (1.19.5)\n",
            "Requirement already satisfied: openpyxl in /usr/local/lib/python3.7/dist-packages (from pypaml==1.0a1) (3.0.9)\n",
            "Collecting autoprotocol\n",
            "  Downloading autoprotocol-7.14.2-py3-none-any.whl (136 kB)\n",
            "\u001b[K     |████████████████████████████████| 136 kB 70.5 MB/s \n",
            "\u001b[?25hCollecting transcriptic\n",
            "  Downloading transcriptic-9.5.0-py3-none-any.whl (72 kB)\n",
            "\u001b[K     |████████████████████████████████| 72 kB 704 kB/s \n",
            "\u001b[?25hCollecting requests_html\n",
            "  Downloading requests_html-0.10.0-py3-none-any.whl (13 kB)\n",
            "Requirement already satisfied: ipython in /usr/local/lib/python3.7/dist-packages (from pypaml==1.0a1) (5.5.0)\n",
            "Collecting pre-commit\n",
            "  Downloading pre_commit-2.17.0-py2.py3-none-any.whl (195 kB)\n",
            "\u001b[K     |████████████████████████████████| 195 kB 67.3 MB/s \n",
            "\u001b[?25hRequirement already satisfied: ipywidgets in /usr/local/lib/python3.7/dist-packages (from pypaml==1.0a1) (7.6.5)\n",
            "Requirement already satisfied: six>=1.5 in /usr/local/lib/python3.7/dist-packages (from python-dateutil>=2.8.1->pypaml==1.0a1) (1.15.0)\n",
            "Collecting PyPDF2\n",
            "  Downloading PyPDF2-1.26.0.tar.gz (77 kB)\n",
            "\u001b[K     |████████████████████████████████| 77 kB 5.6 MB/s \n",
            "\u001b[?25hCollecting rdflib>=6.0.0\n",
            "  Downloading rdflib-6.1.1-py3-none-any.whl (482 kB)\n",
            "\u001b[K     |████████████████████████████████| 482 kB 53.4 MB/s \n",
            "\u001b[?25hCollecting sbol3>=1.0b6\n",
            "  Downloading sbol3-1.0b12-py3-none-any.whl (71 kB)\n",
            "\u001b[K     |████████████████████████████████| 71 kB 160 kB/s \n",
            "\u001b[?25hCollecting pyshacl>=0.13.3\n",
            "  Downloading pyshacl-0.18.1-py3-none-any.whl (1.2 MB)\n",
            "\u001b[K     |████████████████████████████████| 1.2 MB 51.0 MB/s \n",
            "\u001b[?25hCollecting rdflib-jsonld>=0.5.0\n",
            "  Downloading rdflib_jsonld-0.6.2-py2.py3-none-any.whl (4.0 kB)\n",
            "Collecting pylatex\n",
            "  Downloading PyLaTeX-1.4.1.tar.gz (84 kB)\n",
            "\u001b[K     |████████████████████████████████| 84 kB 3.4 MB/s \n",
            "\u001b[?25hCollecting prettytable<3.0.0,>=2.2.1\n",
            "  Downloading prettytable-2.5.0-py3-none-any.whl (24 kB)\n",
            "Collecting owlrl<7,>=6.0.2\n",
            "  Downloading owlrl-6.0.2-py3-none-any.whl (54 kB)\n",
            "\u001b[K     |████████████████████████████████| 54 kB 2.8 MB/s \n",
            "\u001b[?25hRequirement already satisfied: importlib-metadata in /usr/local/lib/python3.7/dist-packages (from prettytable<3.0.0,>=2.2.1->pyshacl>=0.13.3->sbol-factory>=1.0a8->pypaml==1.0a1) (4.10.1)\n",
            "Requirement already satisfied: wcwidth in /usr/local/lib/python3.7/dist-packages (from prettytable<3.0.0,>=2.2.1->pyshacl>=0.13.3->sbol-factory>=1.0a8->pypaml==1.0a1) (0.2.5)\n",
            "Requirement already satisfied: setuptools in /usr/local/lib/python3.7/dist-packages (from rdflib>=6.0.0->sbol-factory>=1.0a8->pypaml==1.0a1) (57.4.0)\n",
            "Collecting isodate\n",
            "  Downloading isodate-0.6.1-py2.py3-none-any.whl (41 kB)\n",
            "\u001b[K     |████████████████████████████████| 41 kB 523 kB/s \n",
            "\u001b[?25hRequirement already satisfied: pyparsing in /usr/local/lib/python3.7/dist-packages (from rdflib>=6.0.0->sbol-factory>=1.0a8->pypaml==1.0a1) (3.0.7)\n",
            "Collecting pyshacl>=0.13.3\n",
            "  Downloading pyshacl-0.17.3-py3-none-any.whl (1.2 MB)\n",
            "\u001b[K     |████████████████████████████████| 1.2 MB 57.0 MB/s \n",
            "\u001b[?25hCollecting Pint==0.9\n",
            "  Downloading Pint-0.9-py2.py3-none-any.whl (138 kB)\n",
            "\u001b[K     |████████████████████████████████| 138 kB 55.8 MB/s \n",
            "\u001b[?25hRequirement already satisfied: typing-extensions>=3.6.4 in /usr/local/lib/python3.7/dist-packages (from importlib-metadata->prettytable<3.0.0,>=2.2.1->pyshacl>=0.13.3->sbol-factory>=1.0a8->pypaml==1.0a1) (3.10.0.2)\n",
            "Requirement already satisfied: zipp>=0.5 in /usr/local/lib/python3.7/dist-packages (from importlib-metadata->prettytable<3.0.0,>=2.2.1->pyshacl>=0.13.3->sbol-factory>=1.0a8->pypaml==1.0a1) (3.7.0)\n",
            "Requirement already satisfied: pexpect in /usr/local/lib/python3.7/dist-packages (from ipython->pypaml==1.0a1) (4.8.0)\n",
            "Requirement already satisfied: traitlets>=4.2 in /usr/local/lib/python3.7/dist-packages (from ipython->pypaml==1.0a1) (5.1.1)\n",
            "Requirement already satisfied: pickleshare in /usr/local/lib/python3.7/dist-packages (from ipython->pypaml==1.0a1) (0.7.5)\n",
            "Requirement already satisfied: pygments in /usr/local/lib/python3.7/dist-packages (from ipython->pypaml==1.0a1) (2.6.1)\n",
            "Requirement already satisfied: simplegeneric>0.8 in /usr/local/lib/python3.7/dist-packages (from ipython->pypaml==1.0a1) (0.8.1)\n",
            "Requirement already satisfied: prompt-toolkit<2.0.0,>=1.0.4 in /usr/local/lib/python3.7/dist-packages (from ipython->pypaml==1.0a1) (1.0.18)\n",
            "Requirement already satisfied: decorator in /usr/local/lib/python3.7/dist-packages (from ipython->pypaml==1.0a1) (4.4.2)\n",
            "Requirement already satisfied: jupyterlab-widgets>=1.0.0 in /usr/local/lib/python3.7/dist-packages (from ipywidgets->pypaml==1.0a1) (1.0.2)\n",
            "Requirement already satisfied: ipykernel>=4.5.1 in /usr/local/lib/python3.7/dist-packages (from ipywidgets->pypaml==1.0a1) (4.10.1)\n",
            "Requirement already satisfied: nbformat>=4.2.0 in /usr/local/lib/python3.7/dist-packages (from ipywidgets->pypaml==1.0a1) (5.1.3)\n",
            "Requirement already satisfied: ipython-genutils~=0.2.0 in /usr/local/lib/python3.7/dist-packages (from ipywidgets->pypaml==1.0a1) (0.2.0)\n",
            "Requirement already satisfied: widgetsnbextension~=3.5.0 in /usr/local/lib/python3.7/dist-packages (from ipywidgets->pypaml==1.0a1) (3.5.2)\n",
            "Requirement already satisfied: jupyter-client in /usr/local/lib/python3.7/dist-packages (from ipykernel>=4.5.1->ipywidgets->pypaml==1.0a1) (5.3.5)\n",
            "Requirement already satisfied: tornado>=4.0 in /usr/local/lib/python3.7/dist-packages (from ipykernel>=4.5.1->ipywidgets->pypaml==1.0a1) (5.1.1)\n",
            "Requirement already satisfied: jsonschema!=2.5.0,>=2.4 in /usr/local/lib/python3.7/dist-packages (from nbformat>=4.2.0->ipywidgets->pypaml==1.0a1) (4.3.3)\n",
            "Requirement already satisfied: jupyter-core in /usr/local/lib/python3.7/dist-packages (from nbformat>=4.2.0->ipywidgets->pypaml==1.0a1) (4.9.1)\n",
            "Requirement already satisfied: pyrsistent!=0.17.0,!=0.17.1,!=0.17.2,>=0.14.0 in /usr/local/lib/python3.7/dist-packages (from jsonschema!=2.5.0,>=2.4->nbformat>=4.2.0->ipywidgets->pypaml==1.0a1) (0.18.1)\n",
            "Requirement already satisfied: attrs>=17.4.0 in /usr/local/lib/python3.7/dist-packages (from jsonschema!=2.5.0,>=2.4->nbformat>=4.2.0->ipywidgets->pypaml==1.0a1) (21.4.0)\n",
            "Requirement already satisfied: importlib-resources>=1.4.0 in /usr/local/lib/python3.7/dist-packages (from jsonschema!=2.5.0,>=2.4->nbformat>=4.2.0->ipywidgets->pypaml==1.0a1) (5.4.0)\n",
            "Requirement already satisfied: notebook>=4.4.1 in /usr/local/lib/python3.7/dist-packages (from widgetsnbextension~=3.5.0->ipywidgets->pypaml==1.0a1) (5.3.1)\n",
            "Requirement already satisfied: terminado>=0.8.1 in /usr/local/lib/python3.7/dist-packages (from notebook>=4.4.1->widgetsnbextension~=3.5.0->ipywidgets->pypaml==1.0a1) (0.13.1)\n",
            "Requirement already satisfied: Send2Trash in /usr/local/lib/python3.7/dist-packages (from notebook>=4.4.1->widgetsnbextension~=3.5.0->ipywidgets->pypaml==1.0a1) (1.8.0)\n",
            "Requirement already satisfied: jinja2 in /usr/local/lib/python3.7/dist-packages (from notebook>=4.4.1->widgetsnbextension~=3.5.0->ipywidgets->pypaml==1.0a1) (2.11.3)\n",
            "Requirement already satisfied: nbconvert in /usr/local/lib/python3.7/dist-packages (from notebook>=4.4.1->widgetsnbextension~=3.5.0->ipywidgets->pypaml==1.0a1) (5.6.1)\n",
            "Requirement already satisfied: pyzmq>=13 in /usr/local/lib/python3.7/dist-packages (from jupyter-client->ipykernel>=4.5.1->ipywidgets->pypaml==1.0a1) (22.3.0)\n",
            "Requirement already satisfied: ptyprocess in /usr/local/lib/python3.7/dist-packages (from terminado>=0.8.1->notebook>=4.4.1->widgetsnbextension~=3.5.0->ipywidgets->pypaml==1.0a1) (0.7.0)\n",
            "Requirement already satisfied: MarkupSafe>=0.23 in /usr/local/lib/python3.7/dist-packages (from jinja2->notebook>=4.4.1->widgetsnbextension~=3.5.0->ipywidgets->pypaml==1.0a1) (2.0.1)\n",
            "Requirement already satisfied: defusedxml in /usr/local/lib/python3.7/dist-packages (from nbconvert->notebook>=4.4.1->widgetsnbextension~=3.5.0->ipywidgets->pypaml==1.0a1) (0.7.1)\n",
            "Requirement already satisfied: pandocfilters>=1.4.1 in /usr/local/lib/python3.7/dist-packages (from nbconvert->notebook>=4.4.1->widgetsnbextension~=3.5.0->ipywidgets->pypaml==1.0a1) (1.5.0)\n",
            "Requirement already satisfied: testpath in /usr/local/lib/python3.7/dist-packages (from nbconvert->notebook>=4.4.1->widgetsnbextension~=3.5.0->ipywidgets->pypaml==1.0a1) (0.5.0)\n",
            "Requirement already satisfied: mistune<2,>=0.8.1 in /usr/local/lib/python3.7/dist-packages (from nbconvert->notebook>=4.4.1->widgetsnbextension~=3.5.0->ipywidgets->pypaml==1.0a1) (0.8.4)\n",
            "Requirement already satisfied: bleach in /usr/local/lib/python3.7/dist-packages (from nbconvert->notebook>=4.4.1->widgetsnbextension~=3.5.0->ipywidgets->pypaml==1.0a1) (4.1.0)\n",
            "Requirement already satisfied: entrypoints>=0.2.2 in /usr/local/lib/python3.7/dist-packages (from nbconvert->notebook>=4.4.1->widgetsnbextension~=3.5.0->ipywidgets->pypaml==1.0a1) (0.4)\n",
            "Requirement already satisfied: packaging in /usr/local/lib/python3.7/dist-packages (from bleach->nbconvert->notebook>=4.4.1->widgetsnbextension~=3.5.0->ipywidgets->pypaml==1.0a1) (21.3)\n",
            "Requirement already satisfied: webencodings in /usr/local/lib/python3.7/dist-packages (from bleach->nbconvert->notebook>=4.4.1->widgetsnbextension~=3.5.0->ipywidgets->pypaml==1.0a1) (0.5.1)\n",
            "Requirement already satisfied: et-xmlfile in /usr/local/lib/python3.7/dist-packages (from openpyxl->pypaml==1.0a1) (1.1.0)\n",
            "Collecting cfgv>=2.0.0\n",
            "  Downloading cfgv-3.3.1-py2.py3-none-any.whl (7.3 kB)\n",
            "Collecting virtualenv>=20.0.8\n",
            "  Downloading virtualenv-20.13.1-py2.py3-none-any.whl (8.6 MB)\n",
            "\u001b[K     |████████████████████████████████| 8.6 MB 45.9 MB/s \n",
            "\u001b[?25hRequirement already satisfied: toml in /usr/local/lib/python3.7/dist-packages (from pre-commit->pypaml==1.0a1) (0.10.2)\n",
            "Collecting pyyaml>=5.1\n",
            "  Downloading PyYAML-6.0-cp37-cp37m-manylinux_2_5_x86_64.manylinux1_x86_64.manylinux_2_12_x86_64.manylinux2010_x86_64.whl (596 kB)\n",
            "\u001b[K     |████████████████████████████████| 596 kB 48.5 MB/s \n",
            "\u001b[?25hCollecting identify>=1.0.0\n",
            "  Downloading identify-2.4.8-py2.py3-none-any.whl (98 kB)\n",
            "\u001b[K     |████████████████████████████████| 98 kB 7.5 MB/s \n",
            "\u001b[?25hCollecting nodeenv>=0.11.1\n",
            "  Downloading nodeenv-1.6.0-py2.py3-none-any.whl (21 kB)\n",
            "Collecting platformdirs<3,>=2\n",
            "  Downloading platformdirs-2.4.1-py3-none-any.whl (14 kB)\n",
            "Collecting distlib<1,>=0.3.1\n",
            "  Downloading distlib-0.3.4-py2.py3-none-any.whl (461 kB)\n",
            "\u001b[K     |████████████████████████████████| 461 kB 54.9 MB/s \n",
            "\u001b[?25hRequirement already satisfied: filelock<4,>=3.2 in /usr/local/lib/python3.7/dist-packages (from virtualenv>=20.0.8->pre-commit->pypaml==1.0a1) (3.4.2)\n",
            "Collecting ordered-set\n",
            "  Downloading ordered_set-4.1.0-py3-none-any.whl (7.6 kB)\n",
            "Requirement already satisfied: urllib3!=1.25.0,!=1.25.1,<1.26,>=1.21.1 in /usr/local/lib/python3.7/dist-packages (from requests->pypaml==1.0a1) (1.24.3)\n",
            "Requirement already satisfied: chardet<4,>=3.0.2 in /usr/local/lib/python3.7/dist-packages (from requests->pypaml==1.0a1) (3.0.4)\n",
            "Requirement already satisfied: certifi>=2017.4.17 in /usr/local/lib/python3.7/dist-packages (from requests->pypaml==1.0a1) (2021.10.8)\n",
            "Requirement already satisfied: idna<3,>=2.5 in /usr/local/lib/python3.7/dist-packages (from requests->pypaml==1.0a1) (2.10)\n",
            "Collecting w3lib\n",
            "  Downloading w3lib-1.22.0-py2.py3-none-any.whl (20 kB)\n",
            "Collecting pyquery\n",
            "  Downloading pyquery-1.4.3-py3-none-any.whl (22 kB)\n",
            "Collecting pyppeteer>=0.0.14\n",
            "  Downloading pyppeteer-1.0.2-py3-none-any.whl (83 kB)\n",
            "\u001b[K     |████████████████████████████████| 83 kB 1.8 MB/s \n",
            "\u001b[?25hCollecting parse\n",
            "  Downloading parse-1.19.0.tar.gz (30 kB)\n",
            "Collecting fake-useragent\n",
            "  Downloading fake-useragent-0.1.11.tar.gz (13 kB)\n",
            "Requirement already satisfied: bs4 in /usr/local/lib/python3.7/dist-packages (from requests_html->pypaml==1.0a1) (0.0.1)\n",
            "Collecting websockets<11.0,>=10.0\n",
            "  Downloading websockets-10.1-cp37-cp37m-manylinux_2_5_x86_64.manylinux1_x86_64.manylinux_2_12_x86_64.manylinux2010_x86_64.whl (111 kB)\n",
            "\u001b[K     |████████████████████████████████| 111 kB 51.4 MB/s \n",
            "\u001b[?25hCollecting urllib3!=1.25.0,!=1.25.1,<1.26,>=1.21.1\n",
            "  Downloading urllib3-1.25.11-py2.py3-none-any.whl (127 kB)\n",
            "\u001b[K     |████████████████████████████████| 127 kB 44.6 MB/s \n",
            "\u001b[?25hRequirement already satisfied: appdirs<2.0.0,>=1.4.3 in /usr/local/lib/python3.7/dist-packages (from pyppeteer>=0.0.14->requests_html->pypaml==1.0a1) (1.4.4)\n",
            "Collecting pyee<9.0.0,>=8.1.0\n",
            "  Downloading pyee-8.2.2-py2.py3-none-any.whl (12 kB)\n",
            "Requirement already satisfied: tqdm<5.0.0,>=4.42.1 in /usr/local/lib/python3.7/dist-packages (from pyppeteer>=0.0.14->requests_html->pypaml==1.0a1) (4.62.3)\n",
            "Requirement already satisfied: beautifulsoup4 in /usr/local/lib/python3.7/dist-packages (from bs4->requests_html->pypaml==1.0a1) (4.6.3)\n",
            "Requirement already satisfied: lxml>=2.1 in /usr/local/lib/python3.7/dist-packages (from pyquery->requests_html->pypaml==1.0a1) (4.2.6)\n",
            "Collecting cssselect>0.7.9\n",
            "  Downloading cssselect-1.1.0-py2.py3-none-any.whl (16 kB)\n",
            "Collecting jinja2\n",
            "  Downloading Jinja2-3.0.3-py3-none-any.whl (133 kB)\n",
            "\u001b[K     |████████████████████████████████| 133 kB 50.5 MB/s \n",
            "\u001b[?25hCollecting responses>=0.13.4\n",
            "  Downloading responses-0.18.0-py3-none-any.whl (38 kB)\n",
            "Collecting httpsig==1.3.0\n",
            "  Downloading httpsig-1.3.0-py2.py3-none-any.whl (17 kB)\n",
            "Requirement already satisfied: Click<8,>=7.0 in /usr/local/lib/python3.7/dist-packages (from transcriptic->pypaml==1.0a1) (7.1.2)\n",
            "Collecting python-magic<1,>=0.4\n",
            "  Downloading python_magic-0.4.25-py2.py3-none-any.whl (13 kB)\n",
            "Collecting pycryptodome==3.9.6\n",
            "  Downloading pycryptodome-3.9.6-cp37-cp37m-manylinux1_x86_64.whl (13.7 MB)\n",
            "\u001b[K     |████████████████████████████████| 13.7 MB 46.9 MB/s \n",
            "\u001b[?25hCollecting pyparsing\n",
            "  Downloading pyparsing-2.4.7-py2.py3-none-any.whl (67 kB)\n",
            "\u001b[K     |████████████████████████████████| 67 kB 6.1 MB/s \n",
            "\u001b[?25hBuilding wheels for collected packages: pypaml, pylatex, PyPDF2, fake-useragent, parse\n",
            "  Building wheel for pypaml (setup.py) ... \u001b[?25l\u001b[?25hdone\n",
            "  Created wheel for pypaml: filename=pypaml-1.0a1-py3-none-any.whl size=86150 sha256=98844f114cdf0706d7a89fe066784e43fb4fe0f1f79c865a0edbf0f150e57599\n",
            "  Stored in directory: /tmp/pip-ephem-wheel-cache-6piieabl/wheels/3f/60/d1/41105d6d85d4fd0a457d7fc0fcb90c9ca9ff1cab7e5bb9dabf\n",
            "  Building wheel for pylatex (setup.py) ... \u001b[?25l\u001b[?25hdone\n",
            "  Created wheel for pylatex: filename=PyLaTeX-1.4.1-py3-none-any.whl size=42815 sha256=1540c611d49e2a518d6328b23c7a4530ef723d1985d6137579448dbc2d6d2cf5\n",
            "  Stored in directory: /root/.cache/pip/wheels/4c/62/73/7688c83647b2103ef0c1b783730c8dc50fbbc3667eea6b1cb8\n",
            "  Building wheel for PyPDF2 (setup.py) ... \u001b[?25l\u001b[?25hdone\n",
            "  Created wheel for PyPDF2: filename=PyPDF2-1.26.0-py3-none-any.whl size=61102 sha256=4cfea2d3e857fbf8b5fefcfc3f96f7d62c19da6637cf29bb6b484bce6ecd88a9\n",
            "  Stored in directory: /root/.cache/pip/wheels/80/1a/24/648467ade3a77ed20f35cfd2badd32134e96dd25ca811e64b3\n",
            "  Building wheel for fake-useragent (setup.py) ... \u001b[?25l\u001b[?25hdone\n",
            "  Created wheel for fake-useragent: filename=fake_useragent-0.1.11-py3-none-any.whl size=13502 sha256=bf438301abacff60ad4a294b3dc478b5536eb99253e74c76d6cc3ebb74d33e50\n",
            "  Stored in directory: /root/.cache/pip/wheels/ed/f7/62/50ab6c9a0b5567267ab76a9daa9d06315704209b2c5d032031\n",
            "  Building wheel for parse (setup.py) ... \u001b[?25l\u001b[?25hdone\n",
            "  Created wheel for parse: filename=parse-1.19.0-py3-none-any.whl size=24591 sha256=cd2d27241b4d6a41806b96b0c2b624627a623e47d6bb4748c330cb99d9345c6b\n",
            "  Stored in directory: /root/.cache/pip/wheels/9c/aa/cc/f2228050ccb40f22144b073f15a2c84f11204f29fc0dce028e\n",
            "Successfully built pypaml pylatex PyPDF2 fake-useragent parse\n",
            "Installing collected packages: pyparsing, isodate, rdflib, jinja2, urllib3, prettytable, owlrl, websockets, pyshacl, pyee, pycryptodome, platformdirs, ordered-set, distlib, cssselect, w3lib, virtualenv, sparqlwrapper, sbol3, responses, rdflib-jsonld, pyyaml, python-magic, pyquery, pyppeteer, PyPDF2, pylatex, Pint, parse, nodeenv, identify, httpsig, fake-useragent, cfgv, tyto, transcriptic, sbol-factory, requests-html, pre-commit, autoprotocol, pypaml\n",
            "  Attempting uninstall: pyparsing\n",
            "    Found existing installation: pyparsing 3.0.7\n",
            "    Uninstalling pyparsing-3.0.7:\n",
            "      Successfully uninstalled pyparsing-3.0.7\n",
            "  Attempting uninstall: jinja2\n",
            "    Found existing installation: Jinja2 2.11.3\n",
            "    Uninstalling Jinja2-2.11.3:\n",
            "      Successfully uninstalled Jinja2-2.11.3\n",
            "  Attempting uninstall: urllib3\n",
            "    Found existing installation: urllib3 1.24.3\n",
            "    Uninstalling urllib3-1.24.3:\n",
            "      Successfully uninstalled urllib3-1.24.3\n",
            "  Attempting uninstall: prettytable\n",
            "    Found existing installation: prettytable 3.0.0\n",
            "    Uninstalling prettytable-3.0.0:\n",
            "      Successfully uninstalled prettytable-3.0.0\n",
            "  Attempting uninstall: pyyaml\n",
            "    Found existing installation: PyYAML 3.13\n",
            "    Uninstalling PyYAML-3.13:\n",
            "      Successfully uninstalled PyYAML-3.13\n",
            "\u001b[31mERROR: pip's dependency resolver does not currently take into account all the packages that are installed. This behaviour is the source of the following dependency conflicts.\n",
            "flask 1.1.4 requires Jinja2<3.0,>=2.10.1, but you have jinja2 3.0.3 which is incompatible.\n",
            "datascience 0.10.6 requires folium==0.2.1, but you have folium 0.8.3 which is incompatible.\n",
            "albumentations 0.1.12 requires imgaug<0.2.7,>=0.2.5, but you have imgaug 0.2.9 which is incompatible.\u001b[0m\n",
            "Successfully installed Pint-0.9 PyPDF2-1.26.0 autoprotocol-7.14.2 cfgv-3.3.1 cssselect-1.1.0 distlib-0.3.4 fake-useragent-0.1.11 httpsig-1.3.0 identify-2.4.8 isodate-0.6.1 jinja2-3.0.3 nodeenv-1.6.0 ordered-set-4.1.0 owlrl-6.0.2 parse-1.19.0 platformdirs-2.4.1 pre-commit-2.17.0 prettytable-2.5.0 pycryptodome-3.9.6 pyee-8.2.2 pylatex-1.4.1 pypaml-1.0a1 pyparsing-2.4.7 pyppeteer-1.0.2 pyquery-1.4.3 pyshacl-0.17.3 python-magic-0.4.25 pyyaml-6.0 rdflib-6.1.1 rdflib-jsonld-0.6.2 requests-html-0.10.0 responses-0.18.0 sbol-factory-1.0a11 sbol3-1.0b12 sparqlwrapper-1.8.5 transcriptic-9.5.0 tyto-1.0 urllib3-1.25.11 virtualenv-20.13.1 w3lib-1.22.0 websockets-10.1\n"
          ]
        },
        {
          "output_type": "display_data",
          "data": {
            "application/vnd.colab-display-data+json": {
              "pip_warning": {
                "packages": [
                  "pyparsing"
                ]
              }
            }
          },
          "metadata": {}
        },
        {
          "output_type": "stream",
          "name": "stdout",
          "text": [
            "Requirement already satisfied: distributed in /usr/local/lib/python3.7/dist-packages (1.25.3)\n",
            "Collecting distributed\n",
            "  Downloading distributed-2022.1.1-py3-none-any.whl (830 kB)\n",
            "\u001b[K     |████████████████████████████████| 830 kB 21.3 MB/s \n",
            "\u001b[?25hRequirement already satisfied: sortedcontainers!=2.0.0,!=2.0.1 in /usr/local/lib/python3.7/dist-packages (from distributed) (2.4.0)\n",
            "Requirement already satisfied: click>=6.6 in /usr/local/lib/python3.7/dist-packages (from distributed) (7.1.2)\n",
            "Collecting dask==2022.01.1\n",
            "  Downloading dask-2022.1.1-py3-none-any.whl (1.1 MB)\n",
            "\u001b[K     |████████████████████████████████| 1.1 MB 52.0 MB/s \n",
            "\u001b[?25hRequirement already satisfied: psutil>=5.0 in /usr/local/lib/python3.7/dist-packages (from distributed) (5.4.8)\n",
            "Requirement already satisfied: setuptools in /usr/local/lib/python3.7/dist-packages (from distributed) (57.4.0)\n",
            "Requirement already satisfied: msgpack>=0.6.0 in /usr/local/lib/python3.7/dist-packages (from distributed) (1.0.3)\n",
            "Requirement already satisfied: tblib>=1.6.0 in /usr/local/lib/python3.7/dist-packages (from distributed) (1.7.0)\n",
            "Requirement already satisfied: toolz>=0.8.2 in /usr/local/lib/python3.7/dist-packages (from distributed) (0.11.2)\n",
            "Requirement already satisfied: zict>=0.1.3 in /usr/local/lib/python3.7/dist-packages (from distributed) (2.0.0)\n",
            "Requirement already satisfied: pyyaml in /usr/local/lib/python3.7/dist-packages (from distributed) (6.0)\n",
            "Requirement already satisfied: packaging>=20.0 in /usr/local/lib/python3.7/dist-packages (from distributed) (21.3)\n",
            "Collecting cloudpickle>=1.5.0\n",
            "  Downloading cloudpickle-2.0.0-py3-none-any.whl (25 kB)\n",
            "Requirement already satisfied: tornado>=5 in /usr/local/lib/python3.7/dist-packages (from distributed) (5.1.1)\n",
            "Requirement already satisfied: jinja2 in /usr/local/lib/python3.7/dist-packages (from distributed) (3.0.3)\n",
            "Collecting fsspec>=0.6.0\n",
            "  Downloading fsspec-2022.1.0-py3-none-any.whl (133 kB)\n",
            "\u001b[K     |████████████████████████████████| 133 kB 57.9 MB/s \n",
            "\u001b[?25hCollecting partd>=0.3.10\n",
            "  Downloading partd-1.2.0-py3-none-any.whl (19 kB)\n",
            "Requirement already satisfied: pyparsing!=3.0.5,>=2.0.2 in /usr/local/lib/python3.7/dist-packages (from packaging>=20.0->distributed) (2.4.7)\n",
            "Collecting locket\n",
            "  Downloading locket-0.2.1-py2.py3-none-any.whl (4.1 kB)\n",
            "Requirement already satisfied: heapdict in /usr/local/lib/python3.7/dist-packages (from zict>=0.1.3->distributed) (1.0.1)\n",
            "Requirement already satisfied: MarkupSafe>=2.0 in /usr/local/lib/python3.7/dist-packages (from jinja2->distributed) (2.0.1)\n",
            "Installing collected packages: locket, partd, fsspec, cloudpickle, dask, distributed\n",
            "  Attempting uninstall: cloudpickle\n",
            "    Found existing installation: cloudpickle 1.3.0\n",
            "    Uninstalling cloudpickle-1.3.0:\n",
            "      Successfully uninstalled cloudpickle-1.3.0\n",
            "  Attempting uninstall: dask\n",
            "    Found existing installation: dask 2.12.0\n",
            "    Uninstalling dask-2.12.0:\n",
            "      Successfully uninstalled dask-2.12.0\n",
            "  Attempting uninstall: distributed\n",
            "    Found existing installation: distributed 1.25.3\n",
            "    Uninstalling distributed-1.25.3:\n",
            "      Successfully uninstalled distributed-1.25.3\n",
            "\u001b[31mERROR: pip's dependency resolver does not currently take into account all the packages that are installed. This behaviour is the source of the following dependency conflicts.\n",
            "gym 0.17.3 requires cloudpickle<1.7.0,>=1.2.0, but you have cloudpickle 2.0.0 which is incompatible.\u001b[0m\n",
            "Successfully installed cloudpickle-2.0.0 dask-2022.1.1 distributed-2022.1.1 fsspec-2022.1.0 locket-0.2.1 partd-1.2.0\n"
          ]
        },
        {
          "output_type": "display_data",
          "data": {
            "application/vnd.colab-display-data+json": {
              "pip_warning": {
                "packages": [
                  "cloudpickle"
                ]
              }
            }
          },
          "metadata": {}
        }
      ]
    },
    {
      "cell_type": "code",
      "metadata": {
        "id": "607f88bd",
        "colab": {
          "base_uri": "https://localhost:8080/"
        },
        "outputId": "df5829ce-a8b3-45dc-d6cb-95c50013e475"
      },
      "source": [
        "import os\n",
        "import tempfile\n",
        "import sbol3\n",
        "import paml\n",
        "import tyto\n",
        "import uml\n",
        "import json\n",
        "import rdflib as rdfl\n",
        "from IPython.display import Markdown\n",
        "\n",
        "\n",
        "from paml.execution_engine import ExecutionEngine\n",
        "# from paml_check.paml_check import check_doc\n",
        "from paml_convert.markdown.markdown_specialization import MarkdownSpecialization\n",
        "\n",
        "%load_ext autoreload\n",
        "%autoreload 2"
      ],
      "id": "607f88bd",
      "execution_count": null,
      "outputs": [
        {
          "output_type": "stream",
          "name": "stderr",
          "text": [
            "/usr/local/lib/python3.7/dist-packages/rdflib_jsonld/__init__.py:12: DeprecationWarning: The rdflib-jsonld package has been integrated into rdflib as of rdflib==6.0.1.  Please remove rdflib-jsonld from your project's dependencies.\n",
            "  DeprecationWarning,\n"
          ]
        }
      ]
    },
    {
      "cell_type": "code",
      "metadata": {
        "id": "8cfaa137",
        "colab": {
          "base_uri": "https://localhost:8080/"
        },
        "outputId": "0e12e530-6936-4bbd-ce7c-183ac497850a"
      },
      "source": [
        "#############################################\n",
        "# set up the document\n",
        "print('Setting up document')\n",
        "doc = sbol3.Document()\n",
        "sbol3.set_namespace('https://bbn.com/scratch/')\n",
        "\n",
        "#############################################\n",
        "# Import the primitive libraries\n",
        "print('Importing libraries')\n",
        "paml.import_library('liquid_handling')\n",
        "print('... Imported liquid handling')\n",
        "paml.import_library('plate_handling')\n",
        "print('... Imported plate handling')\n",
        "paml.import_library('spectrophotometry')\n",
        "print('... Imported spectrophotometry')\n",
        "paml.import_library('sample_arrays')\n",
        "print('... Imported sample arrays')"
      ],
      "id": "8cfaa137",
      "execution_count": null,
      "outputs": [
        {
          "output_type": "stream",
          "name": "stdout",
          "text": [
            "Setting up document\n",
            "Importing libraries\n",
            "... Imported liquid handling\n",
            "... Imported plate handling\n",
            "... Imported spectrophotometry\n",
            "... Imported sample arrays\n"
          ]
        }
      ]
    },
    {
      "cell_type": "code",
      "metadata": {
        "id": "2f4c171e",
        "colab": {
          "base_uri": "https://localhost:8080/"
        },
        "outputId": "8fff8f11-c78c-486b-b795-55fac8eb64e4"
      },
      "source": [
        "# Print descriptions of the primitives avaiable in each library\n",
        "\n",
        "dashes = \"-\" * 80\n",
        "print(dashes)\n",
        "primitives = {}\n",
        "for lib, lib_doc in paml.loaded_libraries.items():\n",
        "    print(f\"{dashes}\\nlibrary: {lib}\")\n",
        "    for primitive in lib_doc.objects:\n",
        "        primitives[str(primitive.identity)] = primitive\n",
        "        print(primitive)\n",
        "    print(dashes)"
      ],
      "id": "2f4c171e",
      "execution_count": null,
      "outputs": [
        {
          "output_type": "stream",
          "name": "stdout",
          "text": [
            "--------------------------------------------------------------------------------\n",
            "--------------------------------------------------------------------------------\n",
            "library: liquid_handling\n",
            "\n",
            "Primitive: https://bioprotocols.org/paml/primitives/liquid_handling/Dispense\n",
            "Input Parameters:\n",
            "\tsource: http://bioprotocols.org/paml#SampleCollection \n",
            "\tamount: http://www.ontology-of-units-of-measure.org/resource/om-2/Measure \n",
            "\tdestination: http://bioprotocols.org/paml#SampleCollection \n",
            "\tdispenseVelocity: http://www.ontology-of-units-of-measure.org/resource/om-2/Measure (Optional) \n",
            "\n",
            "            \n",
            "\n",
            "Primitive: https://bioprotocols.org/paml/primitives/liquid_handling/PipetteMix\n",
            "Input Parameters:\n",
            "\tamount: http://www.ontology-of-units-of-measure.org/resource/om-2/Measure \n",
            "\tsamples: http://bioprotocols.org/paml#SampleCollection \n",
            "\tdispenseVelocity: http://www.ontology-of-units-of-measure.org/resource/om-2/Measure (Optional) \n",
            "\tcycleCount: http://www.ontology-of-units-of-measure.org/resource/om-2/Measure (Optional) \n",
            "\n",
            "            \n",
            "\n",
            "Primitive: https://bioprotocols.org/paml/primitives/liquid_handling/Provision\n",
            "Input Parameters:\n",
            "\tdispenseVelocity: http://www.ontology-of-units-of-measure.org/resource/om-2/Measure (Optional) \n",
            "\tamount: http://www.ontology-of-units-of-measure.org/resource/om-2/Measure \n",
            "\tresource: http://sbols.org/v3#Component \n",
            "\tdestination: http://bioprotocols.org/paml#SampleCollection \n",
            "\n",
            "            \n",
            "\n",
            "Primitive: https://bioprotocols.org/paml/primitives/liquid_handling/Transfer\n",
            "Input Parameters:\n",
            "\tsource: http://bioprotocols.org/paml#SampleCollection \n",
            "\tdispenseVelocity: http://www.ontology-of-units-of-measure.org/resource/om-2/Measure (Optional) \n",
            "\tamount: http://www.ontology-of-units-of-measure.org/resource/om-2/Measure \n",
            "\tdestination: http://bioprotocols.org/paml#SampleCollection \n",
            "\n",
            "            \n",
            "\n",
            "Primitive: https://bioprotocols.org/paml/primitives/liquid_handling/TransferByMap\n",
            "Input Parameters:\n",
            "\tsource: http://bioprotocols.org/paml#SampleCollection \n",
            "\tdispenseVelocity: http://www.ontology-of-units-of-measure.org/resource/om-2/Measure (Optional) \n",
            "\tplan: http://bioprotocols.org/paml#SampleData \n",
            "\tdestination: http://bioprotocols.org/paml#SampleCollection \n",
            "\n",
            "            \n",
            "\n",
            "Primitive: https://bioprotocols.org/paml/primitives/liquid_handling/TransferInto\n",
            "Input Parameters:\n",
            "\tamount: http://www.ontology-of-units-of-measure.org/resource/om-2/Measure \n",
            "\tsource: http://bioprotocols.org/paml#SampleCollection \n",
            "\tdestination: http://bioprotocols.org/paml#SampleCollection \n",
            "\tmixCycles: http://www.ontology-of-units-of-measure.org/resource/om-2/Measure (Optional) \n",
            "\tdispenseVelocity: http://www.ontology-of-units-of-measure.org/resource/om-2/Measure (Optional) \n",
            "\n",
            "            \n",
            "--------------------------------------------------------------------------------\n",
            "--------------------------------------------------------------------------------\n",
            "library: plate_handling\n",
            "\n",
            "Primitive: https://bioprotocols.org/paml/primitives/plate_handling/AdhesiveSeal\n",
            "Input Parameters:\n",
            "\ttype: http://www.w3.org/2001/XMLSchema#anyURI \n",
            "\tlocation: http://bioprotocols.org/paml#SampleArray \n",
            "\n",
            "            \n",
            "\n",
            "Primitive: https://bioprotocols.org/paml/primitives/plate_handling/Cover\n",
            "Input Parameters:\n",
            "\tlocation: http://bioprotocols.org/paml#SampleArray \n",
            "\ttype: http://www.w3.org/2001/XMLSchema#anyURI \n",
            "\n",
            "            \n",
            "\n",
            "Primitive: https://bioprotocols.org/paml/primitives/plate_handling/Incubate\n",
            "Input Parameters:\n",
            "\tduration: http://www.ontology-of-units-of-measure.org/resource/om-2/Measure \n",
            "\ttemperature: http://www.ontology-of-units-of-measure.org/resource/om-2/Measure \n",
            "\tshakingFrequency: http://www.ontology-of-units-of-measure.org/resource/om-2/Measure (Optional) \n",
            "\tlocation: http://bioprotocols.org/paml#SampleArray \n",
            "\n",
            "            \n",
            "\n",
            "Primitive: https://bioprotocols.org/paml/primitives/plate_handling/Seal\n",
            "Input Parameters:\n",
            "\ttype: http://www.w3.org/2001/XMLSchema#anyURI \n",
            "\tlocation: http://bioprotocols.org/paml#SampleArray \n",
            "\n",
            "            \n",
            "\n",
            "Primitive: https://bioprotocols.org/paml/primitives/plate_handling/Spin\n",
            "Input Parameters:\n",
            "\tduration: http://www.ontology-of-units-of-measure.org/resource/om-2/Measure \n",
            "\tlocation: http://bioprotocols.org/paml#SampleArray \n",
            "\tacceleration: http://www.ontology-of-units-of-measure.org/resource/om-2/Measure \n",
            "\n",
            "            \n",
            "\n",
            "Primitive: https://bioprotocols.org/paml/primitives/plate_handling/ThermalSeal\n",
            "Input Parameters:\n",
            "\ttemperature: http://www.ontology-of-units-of-measure.org/resource/om-2/Measure \n",
            "\tduration: http://www.ontology-of-units-of-measure.org/resource/om-2/Measure \n",
            "\tlocation: http://bioprotocols.org/paml#SampleArray \n",
            "\ttype: http://www.w3.org/2001/XMLSchema#anyURI \n",
            "\n",
            "            \n",
            "\n",
            "Primitive: https://bioprotocols.org/paml/primitives/plate_handling/Uncover\n",
            "Input Parameters:\n",
            "\tlocation: http://bioprotocols.org/paml#SampleArray \n",
            "\n",
            "            \n",
            "\n",
            "Primitive: https://bioprotocols.org/paml/primitives/plate_handling/Unseal\n",
            "Input Parameters:\n",
            "\tlocation: http://bioprotocols.org/paml#SampleArray \n",
            "\n",
            "            \n",
            "--------------------------------------------------------------------------------\n",
            "--------------------------------------------------------------------------------\n",
            "library: spectrophotometry\n",
            "\n",
            "Primitive: https://bioprotocols.org/paml/primitives/spectrophotometry/MeasureAbsorbance\n",
            "Input Parameters:\n",
            "\twavelength: http://www.ontology-of-units-of-measure.org/resource/om-2/Measure \n",
            "\tnumFlashes: http://www.w3.org/2001/XMLSchema#integer (Optional) \n",
            "\tsamples: http://bioprotocols.org/paml#SampleCollection \n",
            "Output Parameters:\n",
            "\tmeasurements: http://bioprotocols.org/paml#SampleData \n",
            "            \n",
            "\n",
            "Primitive: https://bioprotocols.org/paml/primitives/spectrophotometry/MeasureFluorescence\n",
            "Input Parameters:\n",
            "\temissionLowpassCutoff: http://www.ontology-of-units-of-measure.org/resource/om-2/Measure (Optional) \n",
            "\tsamples: http://bioprotocols.org/paml#SampleCollection \n",
            "\temissionBandpassWavelength: http://www.ontology-of-units-of-measure.org/resource/om-2/Measure (Optional) \n",
            "\temissionBandpassWidth: http://www.ontology-of-units-of-measure.org/resource/om-2/Measure (Optional) \n",
            "\tgain: http://www.w3.org/2001/XMLSchema#double (Optional) \n",
            "\texcitationWavelength: http://www.ontology-of-units-of-measure.org/resource/om-2/Measure \n",
            "\tnumFlashes: http://www.w3.org/2001/XMLSchema#integer (Optional) \n",
            "Output Parameters:\n",
            "\tmeasurements: http://bioprotocols.org/paml#SampleData \n",
            "            \n",
            "\n",
            "Primitive: https://bioprotocols.org/paml/primitives/spectrophotometry/MeasureFluorescenceSpectrum\n",
            "Input Parameters:\n",
            "\tsamples: http://bioprotocols.org/paml#SampleCollection \n",
            "\tnumFlashes: http://www.w3.org/2001/XMLSchema#integer (Optional) \n",
            "\texcitationWavelength: http://www.ontology-of-units-of-measure.org/resource/om-2/Measure \n",
            "\tgain: http://www.w3.org/2001/XMLSchema#double (Optional) \n",
            "Output Parameters:\n",
            "\tmeasurements: http://bioprotocols.org/paml#SampleData \n",
            "            \n",
            "--------------------------------------------------------------------------------\n",
            "--------------------------------------------------------------------------------\n",
            "library: sample_arrays\n",
            "\n",
            "Primitive: https://bioprotocols.org/paml/primitives/sample_arrays/Columns\n",
            "Input Parameters:\n",
            "\tsource: http://bioprotocols.org/paml#SampleCollection \n",
            "\tcol: http://bioprotocols.org/uml#ValueSpecification \n",
            "Output Parameters:\n",
            "\tsamples: http://bioprotocols.org/paml#SampleCollection \n",
            "            \n",
            "\n",
            "Primitive: https://bioprotocols.org/paml/primitives/sample_arrays/DuplicateCollection\n",
            "Input Parameters:\n",
            "\tsource: http://bioprotocols.org/paml#SampleCollection \n",
            "Output Parameters:\n",
            "\tsamples: http://bioprotocols.org/paml#SampleCollection \n",
            "            \n",
            "\n",
            "Primitive: https://bioprotocols.org/paml/primitives/sample_arrays/EmptyContainer\n",
            "Input Parameters:\n",
            "\tspecification: http://sbols.org/v3#Identified \n",
            "Output Parameters:\n",
            "\tsamples: http://bioprotocols.org/paml#SampleArray \n",
            "            \n",
            "\n",
            "Primitive: https://bioprotocols.org/paml/primitives/sample_arrays/PlateCoordinates\n",
            "Input Parameters:\n",
            "\tsource: http://bioprotocols.org/paml#SampleCollection \n",
            "\tcoordinates: http://bioprotocols.org/uml#ValueSpecification \n",
            "Output Parameters:\n",
            "\tsamples: http://bioprotocols.org/paml#SampleCollection \n",
            "            \n",
            "\n",
            "Primitive: https://bioprotocols.org/paml/primitives/sample_arrays/ReplicateCollection\n",
            "Input Parameters:\n",
            "\tsource: http://bioprotocols.org/paml#SampleCollection \n",
            "\treplicates: http://bioprotocols.org/uml#ValueSpecification \n",
            "Output Parameters:\n",
            "\tsamples: http://bioprotocols.org/paml#SampleCollection \n",
            "            \n",
            "\n",
            "Primitive: https://bioprotocols.org/paml/primitives/sample_arrays/Rows\n",
            "Input Parameters:\n",
            "\trow: http://bioprotocols.org/uml#ValueSpecification \n",
            "\tsource: http://bioprotocols.org/paml#SampleCollection \n",
            "Output Parameters:\n",
            "\tsamples: http://bioprotocols.org/paml#SampleCollection \n",
            "            \n",
            "--------------------------------------------------------------------------------\n"
          ]
        }
      ]
    },
    {
      "cell_type": "code",
      "metadata": {
        "id": "b6fe2221",
        "colab": {
          "base_uri": "https://localhost:8080/"
        },
        "outputId": "b9096270-6357-42de-f6ff-53caddd47159"
      },
      "source": [
        "protocol = paml.Protocol('iGEM_LUDOX_OD_calibration_2018')\n",
        "protocol.name = \"iGEM 2018 LUDOX OD calibration protocol\"\n",
        "protocol.description = '''\n",
        "With this protocol you will use LUDOX CL-X (a 45% colloidal silica suspension) as a single point reference to\n",
        "obtain a conversion factor to transform absorbance (OD600) data from your plate reader into a comparable\n",
        "OD600 measurement as would be obtained in a spectrophotometer. This conversion is necessary because plate\n",
        "reader measurements of absorbance are volume dependent; the depth of the fluid in the well defines the path\n",
        "length of the light passing through the sample, which can vary slightly from well to well. In a standard\n",
        "spectrophotometer, the path length is fixed and is defined by the width of the cuvette, which is constant.\n",
        "Therefore this conversion calculation can transform OD600 measurements from a plate reader (i.e. absorbance\n",
        "at 600 nm, the basic output of most instruments) into comparable OD600 measurements. The LUDOX solution\n",
        "is only weakly scattering and so will give a low absorbance value.\n",
        "'''\n",
        "doc.add(protocol)"
      ],
      "id": "b6fe2221",
      "execution_count": null,
      "outputs": [
        {
          "output_type": "execute_result",
          "data": {
            "text/plain": [
              "<sbol_factory.sbol_factory.Protocol at 0x7f41f89b2150>"
            ]
          },
          "metadata": {},
          "execution_count": 5
        }
      ]
    },
    {
      "cell_type": "code",
      "metadata": {
        "id": "0fefac39",
        "colab": {
          "base_uri": "https://localhost:8080/",
          "height": 218
        },
        "outputId": "7fc77927-7bbd-4317-c1dd-53528b0853a5"
      },
      "source": [
        "# Add an optional parameter for specifying the wavelength\n",
        "wavelength_param = protocol.input_value(\n",
        "    'wavelength', sbol3.OM_MEASURE, optional=True,\n",
        "    default_value=sbol3.Measure(600, tyto.OM.nanometer))\n",
        "\n",
        "protocol.to_dot()"
      ],
      "id": "0fefac39",
      "execution_count": null,
      "outputs": [
        {
          "output_type": "stream",
          "name": "stdout",
          "text": [
            "wavelength: http://www.ontology-of-units-of-measure.org/resource/om-2/Measure  <OrderedPropertyValue None>\n",
            "(<class 'sbol_factory.sbol_factory.OrderedPropertyValue'>, <class 'sbol3.custom.CustomIdentified'>, <class 'sbol3.identified.Identified'>, <class 'sbol3.object.SBOLObject'>, <class 'object'>)\n"
          ]
        },
        {
          "output_type": "execute_result",
          "data": {
            "text/plain": [
              "<graphviz.dot.Digraph at 0x7f41f69b2350>"
            ],
            "image/svg+xml": "<?xml version=\"1.0\" encoding=\"UTF-8\" standalone=\"no\"?>\n<!DOCTYPE svg PUBLIC \"-//W3C//DTD SVG 1.1//EN\"\n \"http://www.w3.org/Graphics/SVG/1.1/DTD/svg11.dtd\">\n<!-- Generated by graphviz version 2.40.1 (20161225.0304)\n -->\n<!-- Title: _root Pages: 1 -->\n<svg width=\"305pt\" height=\"107pt\"\n viewBox=\"0.00 0.00 305.00 107.00\" xmlns=\"http://www.w3.org/2000/svg\" xmlns:xlink=\"http://www.w3.org/1999/xlink\">\n<g id=\"graph0\" class=\"graph\" transform=\"scale(1 1) rotate(0) translate(4 103)\">\n<title>_root</title>\n<polygon fill=\"#ffffff\" stroke=\"transparent\" points=\"-4,4 -4,-103 301,-103 301,4 -4,4\"/>\n<g id=\"clust1\" class=\"cluster\">\n<title>cluster_https_//bbn.com/scratch/iGEM_LUDOX_OD_calibration_2018</title>\n<polygon fill=\"none\" stroke=\"#000000\" points=\"8,-8 8,-91 289,-91 289,-8 8,-8\"/>\n<text text-anchor=\"middle\" x=\"148.5\" y=\"-75.8\" font-family=\"Times,serif\" font-size=\"14.00\" fill=\"#000000\">iGEM 2018 LUDOX OD calibration protocol</text>\n</g>\n<!-- ActivityParameterNode1 -->\n<g id=\"node1\" class=\"node\">\n<title>ActivityParameterNode1</title>\n<polygon fill=\"none\" stroke=\"#000000\" points=\"189.5,-56 106.5,-56 106.5,-20 189.5,-20 189.5,-56\"/>\n<polygon fill=\"none\" stroke=\"#000000\" points=\"193.5,-60 102.5,-60 102.5,-16 193.5,-16 193.5,-60\"/>\n<text text-anchor=\"middle\" x=\"148\" y=\"-34.3\" font-family=\"Times,serif\" font-size=\"14.00\" fill=\"#000000\">wavelength</text>\n</g>\n</g>\n</svg>\n"
          },
          "metadata": {},
          "execution_count": 6
        }
      ]
    },
    {
      "cell_type": "code",
      "metadata": {
        "id": "be09367e",
        "colab": {
          "base_uri": "https://localhost:8080/"
        },
        "outputId": "99312c01-d2c2-44ea-f620-24e4c70eeae3"
      },
      "source": [
        "# create the materials to be provisioned\n",
        "ddh2o = sbol3.Component('ddH2O', 'https://identifiers.org/pubchem.substance:24901740')\n",
        "ddh2o.name = 'Water, sterile-filtered, BioReagent, suitable for cell culture'  \n",
        "doc.add(ddh2o)\n",
        "\n",
        "ludox = sbol3.Component('LUDOX', 'https://identifiers.org/pubchem.substance:24866361')\n",
        "ludox.name = 'LUDOX(R) CL-X colloidal silica, 45 wt. % suspension in H2O'\n",
        "doc.add(ludox)"
      ],
      "id": "be09367e",
      "execution_count": null,
      "outputs": [
        {
          "output_type": "execute_result",
          "data": {
            "text/plain": [
              "<sbol3.component.Component at 0x7f41f698fd50>"
            ]
          },
          "metadata": {},
          "execution_count": 7
        }
      ]
    },
    {
      "cell_type": "code",
      "metadata": {
        "id": "f036f677"
      },
      "source": [
        "# specify the type of plate to use\n",
        "\n",
        "PLATE_SPECIFICATION = \\\n",
        "    \"\"\"cont:ClearPlate and \n",
        " cont:SLAS-4-2004 and\n",
        " (cont:wellVolume some \n",
        "    ((om:hasUnit value om:microlitre) and\n",
        "     (om:hasNumericalValue only xsd:decimal[>= \"200\"^^xsd:decimal])))\"\"\"\n",
        "\n",
        "CONT_NS = rdfl.Namespace('https://sift.net/container-ontology/container-ontology#')\n",
        "OM_NS = rdfl.Namespace('http://www.ontology-of-units-of-measure.org/resource/om-2/')\n",
        "\n",
        "PREFIX_MAP = json.dumps({\"cont\": CONT_NS, \"om\": OM_NS})\n",
        "\n",
        "spec = paml.ContainerSpec(queryString=PLATE_SPECIFICATION, prefixMap=PREFIX_MAP, name='plateRequirement')"
      ],
      "id": "f036f677",
      "execution_count": null,
      "outputs": []
    },
    {
      "cell_type": "code",
      "metadata": {
        "id": "4217ac26",
        "colab": {
          "base_uri": "https://localhost:8080/",
          "height": 306
        },
        "outputId": "8dd95402-db50-4480-c1ab-2cd7f120bc5b"
      },
      "source": [
        "# actual steps of the protocol\n",
        "# get a plate\n",
        "plate = protocol.primitive_step('EmptyContainer', specification=spec)\n",
        "\n",
        "protocol.to_dot()"
      ],
      "id": "4217ac26",
      "execution_count": null,
      "outputs": [
        {
          "output_type": "execute_result",
          "data": {
            "text/plain": [
              "<graphviz.dot.Digraph at 0x7f41f696ad50>"
            ],
            "image/svg+xml": "<?xml version=\"1.0\" encoding=\"UTF-8\" standalone=\"no\"?>\n<!DOCTYPE svg PUBLIC \"-//W3C//DTD SVG 1.1//EN\"\n \"http://www.w3.org/Graphics/SVG/1.1/DTD/svg11.dtd\">\n<!-- Generated by graphviz version 2.40.1 (20161225.0304)\n -->\n<!-- Title: _root Pages: 1 -->\n<svg width=\"305pt\" height=\"214pt\"\n viewBox=\"0.00 0.00 305.00 214.00\" xmlns=\"http://www.w3.org/2000/svg\" xmlns:xlink=\"http://www.w3.org/1999/xlink\">\n<g id=\"graph0\" class=\"graph\" transform=\"scale(1 1) rotate(0) translate(4 210)\">\n<title>_root</title>\n<polygon fill=\"#ffffff\" stroke=\"transparent\" points=\"-4,4 -4,-210 301,-210 301,4 -4,4\"/>\n<g id=\"clust1\" class=\"cluster\">\n<title>cluster_https_//bbn.com/scratch/iGEM_LUDOX_OD_calibration_2018</title>\n<polygon fill=\"none\" stroke=\"#000000\" points=\"8,-8 8,-198 289,-198 289,-8 8,-8\"/>\n<text text-anchor=\"middle\" x=\"148.5\" y=\"-182.8\" font-family=\"Times,serif\" font-size=\"14.00\" fill=\"#000000\">iGEM 2018 LUDOX OD calibration protocol</text>\n</g>\n<!-- InitialNode1 -->\n<g id=\"node1\" class=\"node\">\n<title>InitialNode1</title>\n<ellipse fill=\"#000000\" stroke=\"#000000\" cx=\"166\" cy=\"-145\" rx=\"18\" ry=\"18\"/>\n</g>\n<!-- CallBehaviorAction1 -->\n<g id=\"node2\" class=\"node\">\n<title>CallBehaviorAction1</title>\n<text text-anchor=\"start\" x=\"69\" y=\"-68.3\" font-family=\"Times,serif\" font-size=\"14.00\" fill=\"#000000\"> </text>\n<polygon fill=\"none\" stroke=\"#000000\" points=\"73,-61.5 73,-82.5 259,-82.5 259,-61.5 73,-61.5\"/>\n<text text-anchor=\"start\" x=\"76\" y=\"-68.3\" font-family=\"Times,serif\" font-size=\"14.00\" fill=\"#000000\">specification: plateRequirement</text>\n<text text-anchor=\"start\" x=\"259\" y=\"-68.3\" font-family=\"Times,serif\" font-size=\"14.00\" fill=\"#000000\"> </text>\n<polygon fill=\"none\" stroke=\"#000000\" points=\"67,-40.5 67,-61.5 265,-61.5 265,-40.5 67,-40.5\"/>\n<text text-anchor=\"start\" x=\"118\" y=\"-47.3\" font-family=\"Times,serif\" font-size=\"14.00\" fill=\"#000000\">EmptyContainer</text>\n<text text-anchor=\"start\" x=\"91.5\" y=\"-26.3\" font-family=\"Times,serif\" font-size=\"14.00\" fill=\"#000000\"> </text>\n<polygon fill=\"none\" stroke=\"#000000\" points=\"118,-19.5 118,-40.5 215,-40.5 215,-19.5 118,-19.5\"/>\n<text text-anchor=\"start\" x=\"143.5\" y=\"-26.3\" font-family=\"Times,serif\" font-size=\"14.00\" fill=\"#000000\">samples</text>\n<text text-anchor=\"start\" x=\"237\" y=\"-26.3\" font-family=\"Times,serif\" font-size=\"14.00\" fill=\"#000000\"> </text>\n</g>\n<!-- InitialNode1&#45;&gt;CallBehaviorAction1 -->\n<g id=\"edge1\" class=\"edge\">\n<title>InitialNode1&#45;&gt;CallBehaviorAction1:node</title>\n<path fill=\"none\" stroke=\"#0000ff\" d=\"M183.4559,-140.5783C206.8533,-133.6065 247.468,-117.5905 265,-87 270.6717,-77.1038 276.3876,-63.0791 273.6425,-55.6241\"/>\n<polygon fill=\"#0000ff\" stroke=\"#0000ff\" points=\"275.3868,-52.5894 265,-50.5 271.8168,-58.6107 275.3868,-52.5894\"/>\n</g>\n<!-- ActivityParameterNode1 -->\n<g id=\"node3\" class=\"node\">\n<title>ActivityParameterNode1</title>\n<polygon fill=\"none\" stroke=\"#000000\" points=\"118.5,-163 35.5,-163 35.5,-127 118.5,-127 118.5,-163\"/>\n<polygon fill=\"none\" stroke=\"#000000\" points=\"122.5,-167 31.5,-167 31.5,-123 122.5,-123 122.5,-167\"/>\n<text text-anchor=\"middle\" x=\"77\" y=\"-141.3\" font-family=\"Times,serif\" font-size=\"14.00\" fill=\"#000000\">wavelength</text>\n</g>\n</g>\n</svg>\n"
          },
          "metadata": {},
          "execution_count": 9
        }
      ]
    },
    {
      "cell_type": "code",
      "metadata": {
        "id": "e1a83b05",
        "colab": {
          "base_uri": "https://localhost:8080/",
          "height": 564
        },
        "outputId": "dd7f5cd3-33fe-49bb-a93d-5ad20220110f"
      },
      "source": [
        "# identify wells to use\n",
        "c_ddh2o = protocol.primitive_step(\n",
        "    'PlateCoordinates', source=plate.output_pin('samples'), coordinates='A1:D1')\n",
        "\n",
        "# put water in selected wells\n",
        "provision_ddh2o = protocol.primitive_step(\n",
        "    'Provision', resource=ddh2o, destination=c_ddh2o.output_pin('samples'),\n",
        "    amount=sbol3.Measure(100, tyto.OM.microliter))\n",
        "\n",
        "protocol.to_dot()"
      ],
      "id": "e1a83b05",
      "execution_count": null,
      "outputs": [
        {
          "output_type": "execute_result",
          "data": {
            "text/plain": [
              "<graphviz.dot.Digraph at 0x7f41f6863ad0>"
            ],
            "image/svg+xml": "<?xml version=\"1.0\" encoding=\"UTF-8\" standalone=\"no\"?>\n<!DOCTYPE svg PUBLIC \"-//W3C//DTD SVG 1.1//EN\"\n \"http://www.w3.org/Graphics/SVG/1.1/DTD/svg11.dtd\">\n<!-- Generated by graphviz version 2.40.1 (20161225.0304)\n -->\n<!-- Title: _root Pages: 1 -->\n<svg width=\"686pt\" height=\"407pt\"\n viewBox=\"0.00 0.00 686.00 407.00\" xmlns=\"http://www.w3.org/2000/svg\" xmlns:xlink=\"http://www.w3.org/1999/xlink\">\n<g id=\"graph0\" class=\"graph\" transform=\"scale(1 1) rotate(0) translate(4 403)\">\n<title>_root</title>\n<polygon fill=\"#ffffff\" stroke=\"transparent\" points=\"-4,4 -4,-403 682,-403 682,4 -4,4\"/>\n<g id=\"clust1\" class=\"cluster\">\n<title>cluster_https_//bbn.com/scratch/iGEM_LUDOX_OD_calibration_2018</title>\n<polygon fill=\"none\" stroke=\"#000000\" points=\"8,-8 8,-391 670,-391 670,-8 8,-8\"/>\n<text text-anchor=\"middle\" x=\"339\" y=\"-375.8\" font-family=\"Times,serif\" font-size=\"14.00\" fill=\"#000000\">iGEM 2018 LUDOX OD calibration protocol</text>\n</g>\n<!-- InitialNode1 -->\n<g id=\"node1\" class=\"node\">\n<title>InitialNode1</title>\n<ellipse fill=\"#000000\" stroke=\"#000000\" cx=\"368\" cy=\"-338\" rx=\"18\" ry=\"18\"/>\n</g>\n<!-- CallBehaviorAction1 -->\n<g id=\"node2\" class=\"node\">\n<title>CallBehaviorAction1</title>\n<text text-anchor=\"start\" x=\"271\" y=\"-261.3\" font-family=\"Times,serif\" font-size=\"14.00\" fill=\"#000000\"> </text>\n<polygon fill=\"none\" stroke=\"#000000\" points=\"275,-254.5 275,-275.5 461,-275.5 461,-254.5 275,-254.5\"/>\n<text text-anchor=\"start\" x=\"278\" y=\"-261.3\" font-family=\"Times,serif\" font-size=\"14.00\" fill=\"#000000\">specification: plateRequirement</text>\n<text text-anchor=\"start\" x=\"461\" y=\"-261.3\" font-family=\"Times,serif\" font-size=\"14.00\" fill=\"#000000\"> </text>\n<polygon fill=\"none\" stroke=\"#000000\" points=\"269,-233.5 269,-254.5 467,-254.5 467,-233.5 269,-233.5\"/>\n<text text-anchor=\"start\" x=\"320\" y=\"-240.3\" font-family=\"Times,serif\" font-size=\"14.00\" fill=\"#000000\">EmptyContainer</text>\n<text text-anchor=\"start\" x=\"293.5\" y=\"-219.3\" font-family=\"Times,serif\" font-size=\"14.00\" fill=\"#000000\"> </text>\n<polygon fill=\"none\" stroke=\"#000000\" points=\"320,-212.5 320,-233.5 417,-233.5 417,-212.5 320,-212.5\"/>\n<text text-anchor=\"start\" x=\"345.5\" y=\"-219.3\" font-family=\"Times,serif\" font-size=\"14.00\" fill=\"#000000\">samples</text>\n<text text-anchor=\"start\" x=\"439\" y=\"-219.3\" font-family=\"Times,serif\" font-size=\"14.00\" fill=\"#000000\"> </text>\n</g>\n<!-- InitialNode1&#45;&gt;CallBehaviorAction1 -->\n<g id=\"edge1\" class=\"edge\">\n<title>InitialNode1&#45;&gt;CallBehaviorAction1:node</title>\n<path fill=\"none\" stroke=\"#0000ff\" d=\"M385.4559,-333.5783C408.8533,-326.6065 449.468,-310.5905 467,-280 472.6717,-270.1038 478.3876,-256.0791 475.6425,-248.6241\"/>\n<polygon fill=\"#0000ff\" stroke=\"#0000ff\" points=\"477.3868,-245.5894 467,-243.5 473.8168,-251.6107 477.3868,-245.5894\"/>\n</g>\n<!-- CallBehaviorAction2 -->\n<g id=\"node3\" class=\"node\">\n<title>CallBehaviorAction2</title>\n<text text-anchor=\"start\" x=\"312\" y=\"-154.3\" font-family=\"Times,serif\" font-size=\"14.00\" fill=\"#000000\"> </text>\n<polygon fill=\"none\" stroke=\"#000000\" points=\"316,-147.5 316,-168.5 359,-168.5 359,-147.5 316,-147.5\"/>\n<text text-anchor=\"start\" x=\"319\" y=\"-154.3\" font-family=\"Times,serif\" font-size=\"14.00\" fill=\"#000000\">source</text>\n<text text-anchor=\"start\" x=\"359\" y=\"-154.3\" font-family=\"Times,serif\" font-size=\"14.00\" fill=\"#000000\"> </text>\n<polygon fill=\"none\" stroke=\"#000000\" points=\"363,-147.5 363,-168.5 481,-168.5 481,-147.5 363,-147.5\"/>\n<text text-anchor=\"start\" x=\"366\" y=\"-154.3\" font-family=\"Times,serif\" font-size=\"14.00\" fill=\"#000000\">coordinates: A1:D1</text>\n<text text-anchor=\"start\" x=\"481\" y=\"-154.3\" font-family=\"Times,serif\" font-size=\"14.00\" fill=\"#000000\"> </text>\n<polygon fill=\"none\" stroke=\"#000000\" points=\"310,-126.5 310,-147.5 487,-147.5 487,-126.5 310,-126.5\"/>\n<text text-anchor=\"start\" x=\"350\" y=\"-133.3\" font-family=\"Times,serif\" font-size=\"14.00\" fill=\"#000000\">PlateCoordinates</text>\n<text text-anchor=\"start\" x=\"331\" y=\"-112.3\" font-family=\"Times,serif\" font-size=\"14.00\" fill=\"#000000\"> </text>\n<polygon fill=\"none\" stroke=\"#000000\" points=\"354,-105.5 354,-126.5 444,-126.5 444,-105.5 354,-105.5\"/>\n<text text-anchor=\"start\" x=\"376\" y=\"-112.3\" font-family=\"Times,serif\" font-size=\"14.00\" fill=\"#000000\">samples</text>\n<text text-anchor=\"start\" x=\"462.5\" y=\"-112.3\" font-family=\"Times,serif\" font-size=\"14.00\" fill=\"#000000\"> </text>\n</g>\n<!-- CallBehaviorAction1&#45;&gt;CallBehaviorAction2 -->\n<g id=\"edge2\" class=\"edge\">\n<title>CallBehaviorAction1:OutputPin1&#45;&gt;CallBehaviorAction2:InputPin1</title>\n<path fill=\"none\" stroke=\"#000000\" d=\"M369,-212.5C369,-192.2867 346.6387,-192.0177 339.3014,-178.3487\"/>\n<polygon fill=\"#000000\" stroke=\"#000000\" points=\"342.6837,-177.4413 337,-168.5 335.8673,-179.0341 342.6837,-177.4413\"/>\n</g>\n<!-- CallBehaviorAction1&#45;&gt;CallBehaviorAction2 -->\n<g id=\"edge3\" class=\"edge\">\n<title>CallBehaviorAction1:node&#45;&gt;CallBehaviorAction2:node</title>\n<path fill=\"none\" stroke=\"#0000ff\" d=\"M467,-243.5C482.3333,-243.5 476.5542,-220.9929 467,-209 422.3933,-153.0073 354.6067,-228.9927 310,-173 302.7349,-163.8804 297.5329,-149.0143 301.205,-141.3734\"/>\n<polygon fill=\"#0000ff\" stroke=\"#0000ff\" points=\"302.9495,-144.4083 310,-136.5 299.5567,-138.2854 302.9495,-144.4083\"/>\n</g>\n<!-- CallBehaviorAction3 -->\n<g id=\"node4\" class=\"node\">\n<title>CallBehaviorAction3</title>\n<text text-anchor=\"start\" x=\"26\" y=\"-47.8\" font-family=\"Times,serif\" font-size=\"14.00\" fill=\"#000000\"> </text>\n<polygon fill=\"none\" stroke=\"#000000\" points=\"30,-41 30,-62 421,-62 421,-41 30,-41\"/>\n<text text-anchor=\"start\" x=\"33\" y=\"-47.8\" font-family=\"Times,serif\" font-size=\"14.00\" fill=\"#000000\">resource: Water, sterile&#45;filtered, BioReagent, suitable for cell culture</text>\n<text text-anchor=\"start\" x=\"421\" y=\"-47.8\" font-family=\"Times,serif\" font-size=\"14.00\" fill=\"#000000\"> </text>\n<polygon fill=\"none\" stroke=\"#000000\" points=\"425,-41 425,-62 494,-62 494,-41 425,-41\"/>\n<text text-anchor=\"start\" x=\"428\" y=\"-47.8\" font-family=\"Times,serif\" font-size=\"14.00\" fill=\"#000000\">destination</text>\n<text text-anchor=\"start\" x=\"494\" y=\"-47.8\" font-family=\"Times,serif\" font-size=\"14.00\" fill=\"#000000\"> </text>\n<polygon fill=\"none\" stroke=\"#000000\" points=\"498,-41 498,-62 648,-62 648,-41 498,-41\"/>\n<text text-anchor=\"start\" x=\"501\" y=\"-47.8\" font-family=\"Times,serif\" font-size=\"14.00\" fill=\"#000000\">amount: 100.0 microliter</text>\n<text text-anchor=\"start\" x=\"648\" y=\"-47.8\" font-family=\"Times,serif\" font-size=\"14.00\" fill=\"#000000\"> </text>\n<polygon fill=\"none\" stroke=\"#000000\" points=\"24,-20 24,-41 654,-41 654,-20 24,-20\"/>\n<text text-anchor=\"start\" x=\"311\" y=\"-26.8\" font-family=\"Times,serif\" font-size=\"14.00\" fill=\"#000000\">Provision</text>\n</g>\n<!-- CallBehaviorAction2&#45;&gt;CallBehaviorAction3 -->\n<g id=\"edge4\" class=\"edge\">\n<title>CallBehaviorAction2:OutputPin1&#45;&gt;CallBehaviorAction3:InputPin1</title>\n<path fill=\"none\" stroke=\"#000000\" d=\"M399,-105.5C399,-76.2337 446.121,-90.5317 457.5332,-71.8161\"/>\n<polygon fill=\"#000000\" stroke=\"#000000\" points=\"460.9571,-72.5515 460,-62 454.1682,-70.8454 460.9571,-72.5515\"/>\n</g>\n<!-- CallBehaviorAction2&#45;&gt;CallBehaviorAction3 -->\n<g id=\"edge5\" class=\"edge\">\n<title>CallBehaviorAction2:node&#45;&gt;CallBehaviorAction3:node</title>\n<path fill=\"none\" stroke=\"#0000ff\" d=\"M310,-136.5C294.6667,-136.5 299.724,-113.3805 310,-102 362.6957,-43.6401 609.3043,-124.3599 662,-66 662,-66 403.5399,-29.1914 349.0209,-21.4271\"/>\n<polygon fill=\"#0000ff\" stroke=\"#0000ff\" points=\"349.3936,-17.945 339,-20 348.4066,-24.875 349.3936,-17.945\"/>\n</g>\n<!-- ActivityParameterNode1 -->\n<g id=\"node5\" class=\"node\">\n<title>ActivityParameterNode1</title>\n<polygon fill=\"none\" stroke=\"#000000\" points=\"230.5,-356 147.5,-356 147.5,-320 230.5,-320 230.5,-356\"/>\n<polygon fill=\"none\" stroke=\"#000000\" points=\"234.5,-360 143.5,-360 143.5,-316 234.5,-316 234.5,-360\"/>\n<text text-anchor=\"middle\" x=\"189\" y=\"-334.3\" font-family=\"Times,serif\" font-size=\"14.00\" fill=\"#000000\">wavelength</text>\n</g>\n</g>\n</svg>\n"
          },
          "metadata": {},
          "execution_count": 10
        }
      ]
    },
    {
      "cell_type": "code",
      "metadata": {
        "id": "34d9541e",
        "colab": {
          "base_uri": "https://localhost:8080/",
          "height": 870
        },
        "outputId": "1a9350d5-68f9-4a47-bff5-3e182ac78394"
      },
      "source": [
        "#identify wells to use\n",
        "c_ludox = protocol.primitive_step(\n",
        "    'PlateCoordinates', source=plate.output_pin('samples'), coordinates='A2:D2')\n",
        "\n",
        "# put ludox in selected wells\n",
        "provision_ludox = protocol.primitive_step(\n",
        "    'Provision', resource=ludox, destination=c_ludox.output_pin('samples'),\n",
        "    amount=sbol3.Measure(100, tyto.OM.microliter))\n",
        "\n",
        "protocol.to_dot()"
      ],
      "id": "34d9541e",
      "execution_count": null,
      "outputs": [
        {
          "output_type": "execute_result",
          "data": {
            "text/plain": [
              "<graphviz.dot.Digraph at 0x7f41f67d8490>"
            ],
            "image/svg+xml": "<?xml version=\"1.0\" encoding=\"UTF-8\" standalone=\"no\"?>\n<!DOCTYPE svg PUBLIC \"-//W3C//DTD SVG 1.1//EN\"\n \"http://www.w3.org/Graphics/SVG/1.1/DTD/svg11.dtd\">\n<!-- Generated by graphviz version 2.40.1 (20161225.0304)\n -->\n<!-- Title: _root Pages: 1 -->\n<svg width=\"724pt\" height=\"637pt\"\n viewBox=\"0.00 0.00 724.00 637.00\" xmlns=\"http://www.w3.org/2000/svg\" xmlns:xlink=\"http://www.w3.org/1999/xlink\">\n<g id=\"graph0\" class=\"graph\" transform=\"scale(1 1) rotate(0) translate(4 633)\">\n<title>_root</title>\n<polygon fill=\"#ffffff\" stroke=\"transparent\" points=\"-4,4 -4,-633 720,-633 720,4 -4,4\"/>\n<g id=\"clust1\" class=\"cluster\">\n<title>cluster_https_//bbn.com/scratch/iGEM_LUDOX_OD_calibration_2018</title>\n<polygon fill=\"none\" stroke=\"#000000\" points=\"8,-8 8,-621 708,-621 708,-8 8,-8\"/>\n<text text-anchor=\"middle\" x=\"358\" y=\"-605.8\" font-family=\"Times,serif\" font-size=\"14.00\" fill=\"#000000\">iGEM 2018 LUDOX OD calibration protocol</text>\n</g>\n<!-- InitialNode1 -->\n<g id=\"node1\" class=\"node\">\n<title>InitialNode1</title>\n<ellipse fill=\"#000000\" stroke=\"#000000\" cx=\"333\" cy=\"-568\" rx=\"18\" ry=\"18\"/>\n</g>\n<!-- CallBehaviorAction1 -->\n<g id=\"node2\" class=\"node\">\n<title>CallBehaviorAction1</title>\n<text text-anchor=\"start\" x=\"236\" y=\"-491.3\" font-family=\"Times,serif\" font-size=\"14.00\" fill=\"#000000\"> </text>\n<polygon fill=\"none\" stroke=\"#000000\" points=\"240,-484.5 240,-505.5 426,-505.5 426,-484.5 240,-484.5\"/>\n<text text-anchor=\"start\" x=\"243\" y=\"-491.3\" font-family=\"Times,serif\" font-size=\"14.00\" fill=\"#000000\">specification: plateRequirement</text>\n<text text-anchor=\"start\" x=\"426\" y=\"-491.3\" font-family=\"Times,serif\" font-size=\"14.00\" fill=\"#000000\"> </text>\n<polygon fill=\"none\" stroke=\"#000000\" points=\"234,-463.5 234,-484.5 432,-484.5 432,-463.5 234,-463.5\"/>\n<text text-anchor=\"start\" x=\"285\" y=\"-470.3\" font-family=\"Times,serif\" font-size=\"14.00\" fill=\"#000000\">EmptyContainer</text>\n<text text-anchor=\"start\" x=\"258.5\" y=\"-449.3\" font-family=\"Times,serif\" font-size=\"14.00\" fill=\"#000000\"> </text>\n<polygon fill=\"none\" stroke=\"#000000\" points=\"285,-442.5 285,-463.5 382,-463.5 382,-442.5 285,-442.5\"/>\n<text text-anchor=\"start\" x=\"310.5\" y=\"-449.3\" font-family=\"Times,serif\" font-size=\"14.00\" fill=\"#000000\">samples</text>\n<text text-anchor=\"start\" x=\"404\" y=\"-449.3\" font-family=\"Times,serif\" font-size=\"14.00\" fill=\"#000000\"> </text>\n</g>\n<!-- InitialNode1&#45;&gt;CallBehaviorAction1 -->\n<g id=\"edge1\" class=\"edge\">\n<title>InitialNode1&#45;&gt;CallBehaviorAction1:node</title>\n<path fill=\"none\" stroke=\"#0000ff\" d=\"M350.4559,-563.5783C373.8533,-556.6065 414.468,-540.5905 432,-510 437.6717,-500.1038 443.3876,-486.0791 440.6425,-478.6241\"/>\n<polygon fill=\"#0000ff\" stroke=\"#0000ff\" points=\"442.3868,-475.5894 432,-473.5 438.8168,-481.6107 442.3868,-475.5894\"/>\n</g>\n<!-- ForkNode1 -->\n<g id=\"node3\" class=\"node\">\n<title>ForkNode1</title>\n<polygon fill=\"#000000\" stroke=\"#000000\" points=\"333,-403 279,-403 279,-402 333,-402 333,-403\"/>\n</g>\n<!-- CallBehaviorAction1&#45;&gt;ForkNode1 -->\n<g id=\"edge6\" class=\"edge\">\n<title>CallBehaviorAction1:OutputPin1&#45;&gt;ForkNode1</title>\n<path fill=\"none\" stroke=\"#000000\" d=\"M334,-442.5C334,-429.1491 323.4016,-417.0855 315.2458,-409.7788\"/>\n<polygon fill=\"#000000\" stroke=\"#000000\" points=\"317.194,-406.8547 307.2031,-403.3287 312.8146,-412.3155 317.194,-406.8547\"/>\n</g>\n<!-- CallBehaviorAction2 -->\n<g id=\"node4\" class=\"node\">\n<title>CallBehaviorAction2</title>\n<text text-anchor=\"start\" x=\"281\" y=\"-347.3\" font-family=\"Times,serif\" font-size=\"14.00\" fill=\"#000000\"> </text>\n<polygon fill=\"none\" stroke=\"#000000\" points=\"285,-340.5 285,-361.5 328,-361.5 328,-340.5 285,-340.5\"/>\n<text text-anchor=\"start\" x=\"288\" y=\"-347.3\" font-family=\"Times,serif\" font-size=\"14.00\" fill=\"#000000\">source</text>\n<text text-anchor=\"start\" x=\"328\" y=\"-347.3\" font-family=\"Times,serif\" font-size=\"14.00\" fill=\"#000000\"> </text>\n<polygon fill=\"none\" stroke=\"#000000\" points=\"332,-340.5 332,-361.5 450,-361.5 450,-340.5 332,-340.5\"/>\n<text text-anchor=\"start\" x=\"335\" y=\"-347.3\" font-family=\"Times,serif\" font-size=\"14.00\" fill=\"#000000\">coordinates: A1:D1</text>\n<text text-anchor=\"start\" x=\"450\" y=\"-347.3\" font-family=\"Times,serif\" font-size=\"14.00\" fill=\"#000000\"> </text>\n<polygon fill=\"none\" stroke=\"#000000\" points=\"279,-319.5 279,-340.5 456,-340.5 456,-319.5 279,-319.5\"/>\n<text text-anchor=\"start\" x=\"319\" y=\"-326.3\" font-family=\"Times,serif\" font-size=\"14.00\" fill=\"#000000\">PlateCoordinates</text>\n<text text-anchor=\"start\" x=\"300\" y=\"-305.3\" font-family=\"Times,serif\" font-size=\"14.00\" fill=\"#000000\"> </text>\n<polygon fill=\"none\" stroke=\"#000000\" points=\"323,-298.5 323,-319.5 413,-319.5 413,-298.5 323,-298.5\"/>\n<text text-anchor=\"start\" x=\"345\" y=\"-305.3\" font-family=\"Times,serif\" font-size=\"14.00\" fill=\"#000000\">samples</text>\n<text text-anchor=\"start\" x=\"431.5\" y=\"-305.3\" font-family=\"Times,serif\" font-size=\"14.00\" fill=\"#000000\"> </text>\n</g>\n<!-- CallBehaviorAction1&#45;&gt;CallBehaviorAction2 -->\n<g id=\"edge3\" class=\"edge\">\n<title>CallBehaviorAction1:node&#45;&gt;CallBehaviorAction2:node</title>\n<path fill=\"none\" stroke=\"#0000ff\" d=\"M432,-473.5C447.3333,-473.5 440.1813,-451.9683 432,-439 391.7995,-375.2775 319.2005,-429.7225 279,-366 272.914,-356.353 267.3664,-342.2271 270.248,-334.69\"/>\n<polygon fill=\"#0000ff\" stroke=\"#0000ff\" points=\"272.1839,-337.6112 279,-329.5 268.6134,-331.5903 272.1839,-337.6112\"/>\n</g>\n<!-- ForkNode1&#45;&gt;CallBehaviorAction2 -->\n<g id=\"edge2\" class=\"edge\">\n<title>ForkNode1&#45;&gt;CallBehaviorAction2:InputPin1</title>\n<path fill=\"none\" stroke=\"#000000\" d=\"M306,-401.9219C306,-399.0112 306,-385.5576 306,-371.8558\"/>\n<polygon fill=\"#000000\" stroke=\"#000000\" points=\"309.5001,-371.5 306,-361.5 302.5001,-371.5 309.5001,-371.5\"/>\n</g>\n<!-- CallBehaviorAction4 -->\n<g id=\"node6\" class=\"node\">\n<title>CallBehaviorAction4</title>\n<text text-anchor=\"start\" x=\"276\" y=\"-154.3\" font-family=\"Times,serif\" font-size=\"14.00\" fill=\"#000000\"> </text>\n<polygon fill=\"none\" stroke=\"#000000\" points=\"280,-147.5 280,-168.5 323,-168.5 323,-147.5 280,-147.5\"/>\n<text text-anchor=\"start\" x=\"283\" y=\"-154.3\" font-family=\"Times,serif\" font-size=\"14.00\" fill=\"#000000\">source</text>\n<text text-anchor=\"start\" x=\"323\" y=\"-154.3\" font-family=\"Times,serif\" font-size=\"14.00\" fill=\"#000000\"> </text>\n<polygon fill=\"none\" stroke=\"#000000\" points=\"327,-147.5 327,-168.5 445,-168.5 445,-147.5 327,-147.5\"/>\n<text text-anchor=\"start\" x=\"330\" y=\"-154.3\" font-family=\"Times,serif\" font-size=\"14.00\" fill=\"#000000\">coordinates: A2:D2</text>\n<text text-anchor=\"start\" x=\"445\" y=\"-154.3\" font-family=\"Times,serif\" font-size=\"14.00\" fill=\"#000000\"> </text>\n<polygon fill=\"none\" stroke=\"#000000\" points=\"274,-126.5 274,-147.5 451,-147.5 451,-126.5 274,-126.5\"/>\n<text text-anchor=\"start\" x=\"314\" y=\"-133.3\" font-family=\"Times,serif\" font-size=\"14.00\" fill=\"#000000\">PlateCoordinates</text>\n<text text-anchor=\"start\" x=\"295\" y=\"-112.3\" font-family=\"Times,serif\" font-size=\"14.00\" fill=\"#000000\"> </text>\n<polygon fill=\"none\" stroke=\"#000000\" points=\"318,-105.5 318,-126.5 408,-126.5 408,-105.5 318,-105.5\"/>\n<text text-anchor=\"start\" x=\"340\" y=\"-112.3\" font-family=\"Times,serif\" font-size=\"14.00\" fill=\"#000000\">samples</text>\n<text text-anchor=\"start\" x=\"426.5\" y=\"-112.3\" font-family=\"Times,serif\" font-size=\"14.00\" fill=\"#000000\"> </text>\n</g>\n<!-- ForkNode1&#45;&gt;CallBehaviorAction4 -->\n<g id=\"edge7\" class=\"edge\">\n<title>ForkNode1&#45;&gt;CallBehaviorAction4:InputPin1</title>\n<path fill=\"none\" stroke=\"#000000\" d=\"M303.6715,-401.968C272.6861,-394.7925 -55.6764,-315.7518 36,-209 72.3863,-166.6303 273.4584,-220.4669 298.4503,-178.2756\"/>\n<polygon fill=\"#000000\" stroke=\"#000000\" points=\"301.8629,-179.0596 301,-168.5 295.0894,-177.2929 301.8629,-179.0596\"/>\n</g>\n<!-- CallBehaviorAction3 -->\n<g id=\"node5\" class=\"node\">\n<title>CallBehaviorAction3</title>\n<text text-anchor=\"start\" x=\"55\" y=\"-240.8\" font-family=\"Times,serif\" font-size=\"14.00\" fill=\"#000000\"> </text>\n<polygon fill=\"none\" stroke=\"#000000\" points=\"59,-234 59,-255 450,-255 450,-234 59,-234\"/>\n<text text-anchor=\"start\" x=\"62\" y=\"-240.8\" font-family=\"Times,serif\" font-size=\"14.00\" fill=\"#000000\">resource: Water, sterile&#45;filtered, BioReagent, suitable for cell culture</text>\n<text text-anchor=\"start\" x=\"450\" y=\"-240.8\" font-family=\"Times,serif\" font-size=\"14.00\" fill=\"#000000\"> </text>\n<polygon fill=\"none\" stroke=\"#000000\" points=\"454,-234 454,-255 523,-255 523,-234 454,-234\"/>\n<text text-anchor=\"start\" x=\"457\" y=\"-240.8\" font-family=\"Times,serif\" font-size=\"14.00\" fill=\"#000000\">destination</text>\n<text text-anchor=\"start\" x=\"523\" y=\"-240.8\" font-family=\"Times,serif\" font-size=\"14.00\" fill=\"#000000\"> </text>\n<polygon fill=\"none\" stroke=\"#000000\" points=\"527,-234 527,-255 677,-255 677,-234 527,-234\"/>\n<text text-anchor=\"start\" x=\"530\" y=\"-240.8\" font-family=\"Times,serif\" font-size=\"14.00\" fill=\"#000000\">amount: 100.0 microliter</text>\n<text text-anchor=\"start\" x=\"677\" y=\"-240.8\" font-family=\"Times,serif\" font-size=\"14.00\" fill=\"#000000\"> </text>\n<polygon fill=\"none\" stroke=\"#000000\" points=\"53,-213 53,-234 683,-234 683,-213 53,-213\"/>\n<text text-anchor=\"start\" x=\"340\" y=\"-219.8\" font-family=\"Times,serif\" font-size=\"14.00\" fill=\"#000000\">Provision</text>\n</g>\n<!-- CallBehaviorAction2&#45;&gt;CallBehaviorAction3 -->\n<g id=\"edge4\" class=\"edge\">\n<title>CallBehaviorAction2:OutputPin1&#45;&gt;CallBehaviorAction3:InputPin1</title>\n<path fill=\"none\" stroke=\"#000000\" d=\"M368,-298.5C368,-245.3708 472.5826,-302.8244 487.2895,-265.2459\"/>\n<polygon fill=\"#000000\" stroke=\"#000000\" points=\"490.8055,-265.4399 489,-255 483.901,-264.2871 490.8055,-265.4399\"/>\n</g>\n<!-- CallBehaviorAction2&#45;&gt;CallBehaviorAction3 -->\n<g id=\"edge5\" class=\"edge\">\n<title>CallBehaviorAction2:node&#45;&gt;CallBehaviorAction3:node</title>\n<path fill=\"none\" stroke=\"#0000ff\" d=\"M456,-329.5C572.5744,-329.5 773.4305,-295.4305 691,-213 679.6001,-201.6001 427.962,-196.1998 376.9657,-208.234\"/>\n<polygon fill=\"#0000ff\" stroke=\"#0000ff\" points=\"375.1871,-205.2156 368,-213 378.4728,-211.3965 375.1871,-205.2156\"/>\n</g>\n<!-- CallBehaviorAction3&#45;&gt;CallBehaviorAction4 -->\n<g id=\"edge8\" class=\"edge\">\n<title>CallBehaviorAction3:node&#45;&gt;CallBehaviorAction4:node</title>\n<path fill=\"none\" stroke=\"#0000ff\" d=\"M368,-213C368,-172.0508 429.2187,-207.6758 451,-173 457.0671,-163.3412 462.6224,-149.22 459.747,-141.6869\"/>\n<polygon fill=\"#0000ff\" stroke=\"#0000ff\" points=\"461.3866,-138.5901 451,-136.5 457.8162,-144.6111 461.3866,-138.5901\"/>\n</g>\n<!-- CallBehaviorAction5 -->\n<g id=\"node7\" class=\"node\">\n<title>CallBehaviorAction5</title>\n<text text-anchor=\"start\" x=\"27\" y=\"-47.8\" font-family=\"Times,serif\" font-size=\"14.00\" fill=\"#000000\"> </text>\n<polygon fill=\"none\" stroke=\"#000000\" points=\"31,-41 31,-62 459,-62 459,-41 31,-41\"/>\n<text text-anchor=\"start\" x=\"34\" y=\"-47.8\" font-family=\"Times,serif\" font-size=\"14.00\" fill=\"#000000\">resource: LUDOX(R) CL&#45;X colloidal silica, 45 wt. % suspension in H2O</text>\n<text text-anchor=\"start\" x=\"459\" y=\"-47.8\" font-family=\"Times,serif\" font-size=\"14.00\" fill=\"#000000\"> </text>\n<polygon fill=\"none\" stroke=\"#000000\" points=\"463,-41 463,-62 532,-62 532,-41 463,-41\"/>\n<text text-anchor=\"start\" x=\"466\" y=\"-47.8\" font-family=\"Times,serif\" font-size=\"14.00\" fill=\"#000000\">destination</text>\n<text text-anchor=\"start\" x=\"532\" y=\"-47.8\" font-family=\"Times,serif\" font-size=\"14.00\" fill=\"#000000\"> </text>\n<polygon fill=\"none\" stroke=\"#000000\" points=\"536,-41 536,-62 686,-62 686,-41 536,-41\"/>\n<text text-anchor=\"start\" x=\"539\" y=\"-47.8\" font-family=\"Times,serif\" font-size=\"14.00\" fill=\"#000000\">amount: 100.0 microliter</text>\n<text text-anchor=\"start\" x=\"686\" y=\"-47.8\" font-family=\"Times,serif\" font-size=\"14.00\" fill=\"#000000\"> </text>\n<polygon fill=\"none\" stroke=\"#000000\" points=\"25,-20 25,-41 692,-41 692,-20 25,-20\"/>\n<text text-anchor=\"start\" x=\"330.5\" y=\"-26.8\" font-family=\"Times,serif\" font-size=\"14.00\" fill=\"#000000\">Provision</text>\n</g>\n<!-- CallBehaviorAction4&#45;&gt;CallBehaviorAction5 -->\n<g id=\"edge9\" class=\"edge\">\n<title>CallBehaviorAction4:OutputPin1&#45;&gt;CallBehaviorAction5:InputPin1</title>\n<path fill=\"none\" stroke=\"#000000\" d=\"M363,-105.5C363,-46.2788 482.1472,-115.5723 496.5752,-71.9135\"/>\n<polygon fill=\"#000000\" stroke=\"#000000\" points=\"500.0417,-72.3962 498,-62 493.1129,-71.4004 500.0417,-72.3962\"/>\n</g>\n<!-- CallBehaviorAction4&#45;&gt;CallBehaviorAction5 -->\n<g id=\"edge10\" class=\"edge\">\n<title>CallBehaviorAction4:node&#45;&gt;CallBehaviorAction5:node</title>\n<path fill=\"none\" stroke=\"#0000ff\" d=\"M274,-136.5C258.6667,-136.5 263.6248,-113.2901 274,-102 338.2091,-32.129 635.2909,-135.871 699.5,-66 699.5,-66 425.8455,-29.0305 369.1905,-21.3767\"/>\n<polygon fill=\"#0000ff\" stroke=\"#0000ff\" points=\"369.3786,-17.8704 359,-20 368.4414,-24.8074 369.3786,-17.8704\"/>\n</g>\n<!-- ActivityParameterNode1 -->\n<g id=\"node8\" class=\"node\">\n<title>ActivityParameterNode1</title>\n<polygon fill=\"none\" stroke=\"#000000\" points=\"193.5,-586 110.5,-586 110.5,-550 193.5,-550 193.5,-586\"/>\n<polygon fill=\"none\" stroke=\"#000000\" points=\"197.5,-590 106.5,-590 106.5,-546 197.5,-546 197.5,-590\"/>\n<text text-anchor=\"middle\" x=\"152\" y=\"-564.3\" font-family=\"Times,serif\" font-size=\"14.00\" fill=\"#000000\">wavelength</text>\n</g>\n</g>\n</svg>\n"
          },
          "metadata": {},
          "execution_count": 11
        }
      ]
    },
    {
      "cell_type": "code",
      "metadata": {
        "id": "a6022275",
        "colab": {
          "base_uri": "https://localhost:8080/",
          "height": 1000
        },
        "outputId": "6550e8bd-26bd-4eac-f4bf-5028c770cc63"
      },
      "source": [
        "# identify wells to use\n",
        "c_measure = protocol.primitive_step(\n",
        "    'PlateCoordinates', source=plate.output_pin('samples'), coordinates='A1:D2')\n",
        "\n",
        "# measure the absorbance\n",
        "measure = protocol.primitive_step(\n",
        "    'MeasureAbsorbance', samples=c_measure.output_pin('samples'))\n",
        "\n",
        "# link input parameter to measure primitive input\n",
        "protocol.use_value(wavelength_param, measure.input_pin('wavelength'))\n",
        "\n",
        "protocol.to_dot()"
      ],
      "id": "a6022275",
      "execution_count": null,
      "outputs": [
        {
          "output_type": "execute_result",
          "data": {
            "text/plain": [
              "<graphviz.dot.Digraph at 0x7f41f68069d0>"
            ],
            "image/svg+xml": "<?xml version=\"1.0\" encoding=\"UTF-8\" standalone=\"no\"?>\n<!DOCTYPE svg PUBLIC \"-//W3C//DTD SVG 1.1//EN\"\n \"http://www.w3.org/Graphics/SVG/1.1/DTD/svg11.dtd\">\n<!-- Generated by graphviz version 2.40.1 (20161225.0304)\n -->\n<!-- Title: _root Pages: 1 -->\n<svg width=\"744pt\" height=\"843pt\"\n viewBox=\"0.00 0.00 744.00 843.00\" xmlns=\"http://www.w3.org/2000/svg\" xmlns:xlink=\"http://www.w3.org/1999/xlink\">\n<g id=\"graph0\" class=\"graph\" transform=\"scale(1 1) rotate(0) translate(4 839)\">\n<title>_root</title>\n<polygon fill=\"#ffffff\" stroke=\"transparent\" points=\"-4,4 -4,-839 740,-839 740,4 -4,4\"/>\n<g id=\"clust1\" class=\"cluster\">\n<title>cluster_https_//bbn.com/scratch/iGEM_LUDOX_OD_calibration_2018</title>\n<polygon fill=\"none\" stroke=\"#000000\" points=\"8,-8 8,-827 728,-827 728,-8 8,-8\"/>\n<text text-anchor=\"middle\" x=\"368\" y=\"-811.8\" font-family=\"Times,serif\" font-size=\"14.00\" fill=\"#000000\">iGEM 2018 LUDOX OD calibration protocol</text>\n</g>\n<!-- InitialNode1 -->\n<g id=\"node1\" class=\"node\">\n<title>InitialNode1</title>\n<ellipse fill=\"#000000\" stroke=\"#000000\" cx=\"130\" cy=\"-778\" rx=\"18\" ry=\"18\"/>\n</g>\n<!-- CallBehaviorAction1 -->\n<g id=\"node2\" class=\"node\">\n<title>CallBehaviorAction1</title>\n<text text-anchor=\"start\" x=\"33\" y=\"-705.3\" font-family=\"Times,serif\" font-size=\"14.00\" fill=\"#000000\"> </text>\n<polygon fill=\"none\" stroke=\"#000000\" points=\"37,-698.5 37,-719.5 223,-719.5 223,-698.5 37,-698.5\"/>\n<text text-anchor=\"start\" x=\"40\" y=\"-705.3\" font-family=\"Times,serif\" font-size=\"14.00\" fill=\"#000000\">specification: plateRequirement</text>\n<text text-anchor=\"start\" x=\"223\" y=\"-705.3\" font-family=\"Times,serif\" font-size=\"14.00\" fill=\"#000000\"> </text>\n<polygon fill=\"none\" stroke=\"#000000\" points=\"31,-677.5 31,-698.5 229,-698.5 229,-677.5 31,-677.5\"/>\n<text text-anchor=\"start\" x=\"82\" y=\"-684.3\" font-family=\"Times,serif\" font-size=\"14.00\" fill=\"#000000\">EmptyContainer</text>\n<text text-anchor=\"start\" x=\"55.5\" y=\"-663.3\" font-family=\"Times,serif\" font-size=\"14.00\" fill=\"#000000\"> </text>\n<polygon fill=\"none\" stroke=\"#000000\" points=\"82,-656.5 82,-677.5 179,-677.5 179,-656.5 82,-656.5\"/>\n<text text-anchor=\"start\" x=\"107.5\" y=\"-663.3\" font-family=\"Times,serif\" font-size=\"14.00\" fill=\"#000000\">samples</text>\n<text text-anchor=\"start\" x=\"201\" y=\"-663.3\" font-family=\"Times,serif\" font-size=\"14.00\" fill=\"#000000\"> </text>\n</g>\n<!-- InitialNode1&#45;&gt;CallBehaviorAction1 -->\n<g id=\"edge1\" class=\"edge\">\n<title>InitialNode1&#45;&gt;CallBehaviorAction1:node</title>\n<path fill=\"none\" stroke=\"#0000ff\" d=\"M147.8083,-774.1562C171.2137,-768.0421 211.4107,-753.6299 229,-724 234.8225,-714.1918 240.4771,-700.1313 237.6823,-692.6474\"/>\n<polygon fill=\"#0000ff\" stroke=\"#0000ff\" points=\"239.3868,-689.5891 229,-687.5 235.817,-695.6104 239.3868,-689.5891\"/>\n</g>\n<!-- ForkNode1 -->\n<g id=\"node3\" class=\"node\">\n<title>ForkNode1</title>\n<polygon fill=\"#000000\" stroke=\"#000000\" points=\"124,-617 70,-617 70,-616 124,-616 124,-617\"/>\n</g>\n<!-- CallBehaviorAction1&#45;&gt;ForkNode1 -->\n<g id=\"edge6\" class=\"edge\">\n<title>CallBehaviorAction1:OutputPin1&#45;&gt;ForkNode1</title>\n<path fill=\"none\" stroke=\"#000000\" d=\"M131,-656.5C131,-641.6667 117.2583,-629.527 107.2472,-622.6511\"/>\n<polygon fill=\"#000000\" stroke=\"#000000\" points=\"108.8152,-619.5069 98.4609,-617.2618 105.1551,-625.4739 108.8152,-619.5069\"/>\n</g>\n<!-- CallBehaviorAction2 -->\n<g id=\"node4\" class=\"node\">\n<title>CallBehaviorAction2</title>\n<text text-anchor=\"start\" x=\"179\" y=\"-561.3\" font-family=\"Times,serif\" font-size=\"14.00\" fill=\"#000000\"> </text>\n<polygon fill=\"none\" stroke=\"#000000\" points=\"183,-554.5 183,-575.5 226,-575.5 226,-554.5 183,-554.5\"/>\n<text text-anchor=\"start\" x=\"186\" y=\"-561.3\" font-family=\"Times,serif\" font-size=\"14.00\" fill=\"#000000\">source</text>\n<text text-anchor=\"start\" x=\"226\" y=\"-561.3\" font-family=\"Times,serif\" font-size=\"14.00\" fill=\"#000000\"> </text>\n<polygon fill=\"none\" stroke=\"#000000\" points=\"230,-554.5 230,-575.5 348,-575.5 348,-554.5 230,-554.5\"/>\n<text text-anchor=\"start\" x=\"233\" y=\"-561.3\" font-family=\"Times,serif\" font-size=\"14.00\" fill=\"#000000\">coordinates: A1:D1</text>\n<text text-anchor=\"start\" x=\"348\" y=\"-561.3\" font-family=\"Times,serif\" font-size=\"14.00\" fill=\"#000000\"> </text>\n<polygon fill=\"none\" stroke=\"#000000\" points=\"177,-533.5 177,-554.5 354,-554.5 354,-533.5 177,-533.5\"/>\n<text text-anchor=\"start\" x=\"217\" y=\"-540.3\" font-family=\"Times,serif\" font-size=\"14.00\" fill=\"#000000\">PlateCoordinates</text>\n<text text-anchor=\"start\" x=\"198\" y=\"-519.3\" font-family=\"Times,serif\" font-size=\"14.00\" fill=\"#000000\"> </text>\n<polygon fill=\"none\" stroke=\"#000000\" points=\"221,-512.5 221,-533.5 311,-533.5 311,-512.5 221,-512.5\"/>\n<text text-anchor=\"start\" x=\"243\" y=\"-519.3\" font-family=\"Times,serif\" font-size=\"14.00\" fill=\"#000000\">samples</text>\n<text text-anchor=\"start\" x=\"329.5\" y=\"-519.3\" font-family=\"Times,serif\" font-size=\"14.00\" fill=\"#000000\"> </text>\n</g>\n<!-- CallBehaviorAction1&#45;&gt;CallBehaviorAction2 -->\n<g id=\"edge3\" class=\"edge\">\n<title>CallBehaviorAction1:node&#45;&gt;CallBehaviorAction2:node</title>\n<path fill=\"none\" stroke=\"#0000ff\" d=\"M229,-687.5C292.7922,-687.5 131.4657,-560.9375 167.1181,-545.1172\"/>\n<polygon fill=\"#0000ff\" stroke=\"#0000ff\" points=\"167.6966,-548.5692 177,-543.5 166.566,-541.6611 167.6966,-548.5692\"/>\n</g>\n<!-- ForkNode1&#45;&gt;CallBehaviorAction2 -->\n<g id=\"edge2\" class=\"edge\">\n<title>ForkNode1&#45;&gt;CallBehaviorAction2:InputPin1</title>\n<path fill=\"none\" stroke=\"#000000\" d=\"M100.5601,-615.9498C116.5154,-613.3999 181.4405,-602.1081 199.3852,-584.5893\"/>\n<polygon fill=\"#000000\" stroke=\"#000000\" points=\"202.5936,-586.0011 204,-575.5 196.352,-582.8321 202.5936,-586.0011\"/>\n</g>\n<!-- CallBehaviorAction4 -->\n<g id=\"node6\" class=\"node\">\n<title>CallBehaviorAction4</title>\n<text text-anchor=\"start\" x=\"292\" y=\"-368.3\" font-family=\"Times,serif\" font-size=\"14.00\" fill=\"#000000\"> </text>\n<polygon fill=\"none\" stroke=\"#000000\" points=\"296,-361.5 296,-382.5 339,-382.5 339,-361.5 296,-361.5\"/>\n<text text-anchor=\"start\" x=\"299\" y=\"-368.3\" font-family=\"Times,serif\" font-size=\"14.00\" fill=\"#000000\">source</text>\n<text text-anchor=\"start\" x=\"339\" y=\"-368.3\" font-family=\"Times,serif\" font-size=\"14.00\" fill=\"#000000\"> </text>\n<polygon fill=\"none\" stroke=\"#000000\" points=\"343,-361.5 343,-382.5 461,-382.5 461,-361.5 343,-361.5\"/>\n<text text-anchor=\"start\" x=\"346\" y=\"-368.3\" font-family=\"Times,serif\" font-size=\"14.00\" fill=\"#000000\">coordinates: A2:D2</text>\n<text text-anchor=\"start\" x=\"461\" y=\"-368.3\" font-family=\"Times,serif\" font-size=\"14.00\" fill=\"#000000\"> </text>\n<polygon fill=\"none\" stroke=\"#000000\" points=\"290,-340.5 290,-361.5 467,-361.5 467,-340.5 290,-340.5\"/>\n<text text-anchor=\"start\" x=\"330\" y=\"-347.3\" font-family=\"Times,serif\" font-size=\"14.00\" fill=\"#000000\">PlateCoordinates</text>\n<text text-anchor=\"start\" x=\"311\" y=\"-326.3\" font-family=\"Times,serif\" font-size=\"14.00\" fill=\"#000000\"> </text>\n<polygon fill=\"none\" stroke=\"#000000\" points=\"334,-319.5 334,-340.5 424,-340.5 424,-319.5 334,-319.5\"/>\n<text text-anchor=\"start\" x=\"356\" y=\"-326.3\" font-family=\"Times,serif\" font-size=\"14.00\" fill=\"#000000\">samples</text>\n<text text-anchor=\"start\" x=\"442.5\" y=\"-326.3\" font-family=\"Times,serif\" font-size=\"14.00\" fill=\"#000000\"> </text>\n</g>\n<!-- ForkNode1&#45;&gt;CallBehaviorAction4 -->\n<g id=\"edge7\" class=\"edge\">\n<title>ForkNode1&#45;&gt;CallBehaviorAction4:InputPin1</title>\n<path fill=\"none\" stroke=\"#000000\" d=\"M96.3165,-615.6872C87.243,-604.7987 -8.2461,-487.1511 47,-423 84.1169,-379.9003 288.9443,-435.3412 314.4027,-392.4481\"/>\n<polygon fill=\"#000000\" stroke=\"#000000\" points=\"317.8603,-393.0598 317,-382.5 311.0873,-391.2915 317.8603,-393.0598\"/>\n</g>\n<!-- CallBehaviorAction6 -->\n<g id=\"node8\" class=\"node\">\n<title>CallBehaviorAction6</title>\n<text text-anchor=\"start\" x=\"159\" y=\"-175.3\" font-family=\"Times,serif\" font-size=\"14.00\" fill=\"#000000\"> </text>\n<polygon fill=\"none\" stroke=\"#000000\" points=\"163,-168.5 163,-189.5 206,-189.5 206,-168.5 163,-168.5\"/>\n<text text-anchor=\"start\" x=\"166\" y=\"-175.3\" font-family=\"Times,serif\" font-size=\"14.00\" fill=\"#000000\">source</text>\n<text text-anchor=\"start\" x=\"206\" y=\"-175.3\" font-family=\"Times,serif\" font-size=\"14.00\" fill=\"#000000\"> </text>\n<polygon fill=\"none\" stroke=\"#000000\" points=\"210,-168.5 210,-189.5 328,-189.5 328,-168.5 210,-168.5\"/>\n<text text-anchor=\"start\" x=\"213\" y=\"-175.3\" font-family=\"Times,serif\" font-size=\"14.00\" fill=\"#000000\">coordinates: A1:D2</text>\n<text text-anchor=\"start\" x=\"328\" y=\"-175.3\" font-family=\"Times,serif\" font-size=\"14.00\" fill=\"#000000\"> </text>\n<polygon fill=\"none\" stroke=\"#000000\" points=\"157,-147.5 157,-168.5 334,-168.5 334,-147.5 157,-147.5\"/>\n<text text-anchor=\"start\" x=\"197\" y=\"-154.3\" font-family=\"Times,serif\" font-size=\"14.00\" fill=\"#000000\">PlateCoordinates</text>\n<text text-anchor=\"start\" x=\"178\" y=\"-133.3\" font-family=\"Times,serif\" font-size=\"14.00\" fill=\"#000000\"> </text>\n<polygon fill=\"none\" stroke=\"#000000\" points=\"201,-126.5 201,-147.5 291,-147.5 291,-126.5 201,-126.5\"/>\n<text text-anchor=\"start\" x=\"223\" y=\"-133.3\" font-family=\"Times,serif\" font-size=\"14.00\" fill=\"#000000\">samples</text>\n<text text-anchor=\"start\" x=\"309.5\" y=\"-133.3\" font-family=\"Times,serif\" font-size=\"14.00\" fill=\"#000000\"> </text>\n</g>\n<!-- ForkNode1&#45;&gt;CallBehaviorAction6 -->\n<g id=\"edge11\" class=\"edge\">\n<title>ForkNode1&#45;&gt;CallBehaviorAction6:InputPin1</title>\n<path fill=\"none\" stroke=\"#000000\" d=\"M94.3962,-615.9618C84.2209,-613.7079 46.9224,-604.006 31,-580 -1.6092,-530.8357 17,-506.9957 17,-448 17,-448 17,-448 17,-351.5 17,-297.3174 -7.9149,-271.4331 27,-230 70.9875,-177.8005 172.5173,-252.8156 183.1032,-199.6203\"/>\n<polygon fill=\"#000000\" stroke=\"#000000\" points=\"186.6036,-199.7699 184,-189.5 179.6309,-199.152 186.6036,-199.7699\"/>\n</g>\n<!-- CallBehaviorAction3 -->\n<g id=\"node5\" class=\"node\">\n<title>CallBehaviorAction3</title>\n<text text-anchor=\"start\" x=\"66\" y=\"-454.8\" font-family=\"Times,serif\" font-size=\"14.00\" fill=\"#000000\"> </text>\n<polygon fill=\"none\" stroke=\"#000000\" points=\"70,-448 70,-469 461,-469 461,-448 70,-448\"/>\n<text text-anchor=\"start\" x=\"73\" y=\"-454.8\" font-family=\"Times,serif\" font-size=\"14.00\" fill=\"#000000\">resource: Water, sterile&#45;filtered, BioReagent, suitable for cell culture</text>\n<text text-anchor=\"start\" x=\"461\" y=\"-454.8\" font-family=\"Times,serif\" font-size=\"14.00\" fill=\"#000000\"> </text>\n<polygon fill=\"none\" stroke=\"#000000\" points=\"465,-448 465,-469 534,-469 534,-448 465,-448\"/>\n<text text-anchor=\"start\" x=\"468\" y=\"-454.8\" font-family=\"Times,serif\" font-size=\"14.00\" fill=\"#000000\">destination</text>\n<text text-anchor=\"start\" x=\"534\" y=\"-454.8\" font-family=\"Times,serif\" font-size=\"14.00\" fill=\"#000000\"> </text>\n<polygon fill=\"none\" stroke=\"#000000\" points=\"538,-448 538,-469 688,-469 688,-448 538,-448\"/>\n<text text-anchor=\"start\" x=\"541\" y=\"-454.8\" font-family=\"Times,serif\" font-size=\"14.00\" fill=\"#000000\">amount: 100.0 microliter</text>\n<text text-anchor=\"start\" x=\"688\" y=\"-454.8\" font-family=\"Times,serif\" font-size=\"14.00\" fill=\"#000000\"> </text>\n<polygon fill=\"none\" stroke=\"#000000\" points=\"64,-427 64,-448 694,-448 694,-427 64,-427\"/>\n<text text-anchor=\"start\" x=\"351\" y=\"-433.8\" font-family=\"Times,serif\" font-size=\"14.00\" fill=\"#000000\">Provision</text>\n</g>\n<!-- CallBehaviorAction2&#45;&gt;CallBehaviorAction3 -->\n<g id=\"edge4\" class=\"edge\">\n<title>CallBehaviorAction2:OutputPin1&#45;&gt;CallBehaviorAction3:InputPin1</title>\n<path fill=\"none\" stroke=\"#000000\" d=\"M266,-512.5C266,-410.4371 483.8361,-563.3032 499.1527,-479.1651\"/>\n<polygon fill=\"#000000\" stroke=\"#000000\" points=\"502.6571,-479.2562 500,-469 495.6813,-478.6747 502.6571,-479.2562\"/>\n</g>\n<!-- CallBehaviorAction2&#45;&gt;CallBehaviorAction3 -->\n<g id=\"edge5\" class=\"edge\">\n<title>CallBehaviorAction2:node&#45;&gt;CallBehaviorAction3:node</title>\n<path fill=\"none\" stroke=\"#0000ff\" d=\"M354,-543.5C517.1034,-543.5 817.3315,-542.3315 702,-427 690.6001,-415.6001 438.962,-410.1998 387.9657,-422.234\"/>\n<polygon fill=\"#0000ff\" stroke=\"#0000ff\" points=\"386.1871,-419.2156 379,-427 389.4728,-425.3965 386.1871,-419.2156\"/>\n</g>\n<!-- CallBehaviorAction3&#45;&gt;CallBehaviorAction4 -->\n<g id=\"edge8\" class=\"edge\">\n<title>CallBehaviorAction3:node&#45;&gt;CallBehaviorAction4:node</title>\n<path fill=\"none\" stroke=\"#0000ff\" d=\"M379,-427C379,-384.0381 443.741,-423.1213 467,-387 473.1752,-377.4099 478.6865,-363.2608 475.7756,-355.7051\"/>\n<polygon fill=\"#0000ff\" stroke=\"#0000ff\" points=\"477.3864,-352.5912 467,-350.5 473.8154,-358.6118 477.3864,-352.5912\"/>\n</g>\n<!-- CallBehaviorAction5 -->\n<g id=\"node7\" class=\"node\">\n<title>CallBehaviorAction5</title>\n<text text-anchor=\"start\" x=\"47\" y=\"-261.8\" font-family=\"Times,serif\" font-size=\"14.00\" fill=\"#000000\"> </text>\n<polygon fill=\"none\" stroke=\"#000000\" points=\"51,-255 51,-276 479,-276 479,-255 51,-255\"/>\n<text text-anchor=\"start\" x=\"54\" y=\"-261.8\" font-family=\"Times,serif\" font-size=\"14.00\" fill=\"#000000\">resource: LUDOX(R) CL&#45;X colloidal silica, 45 wt. % suspension in H2O</text>\n<text text-anchor=\"start\" x=\"479\" y=\"-261.8\" font-family=\"Times,serif\" font-size=\"14.00\" fill=\"#000000\"> </text>\n<polygon fill=\"none\" stroke=\"#000000\" points=\"483,-255 483,-276 552,-276 552,-255 483,-255\"/>\n<text text-anchor=\"start\" x=\"486\" y=\"-261.8\" font-family=\"Times,serif\" font-size=\"14.00\" fill=\"#000000\">destination</text>\n<text text-anchor=\"start\" x=\"552\" y=\"-261.8\" font-family=\"Times,serif\" font-size=\"14.00\" fill=\"#000000\"> </text>\n<polygon fill=\"none\" stroke=\"#000000\" points=\"556,-255 556,-276 706,-276 706,-255 556,-255\"/>\n<text text-anchor=\"start\" x=\"559\" y=\"-261.8\" font-family=\"Times,serif\" font-size=\"14.00\" fill=\"#000000\">amount: 100.0 microliter</text>\n<text text-anchor=\"start\" x=\"706\" y=\"-261.8\" font-family=\"Times,serif\" font-size=\"14.00\" fill=\"#000000\"> </text>\n<polygon fill=\"none\" stroke=\"#000000\" points=\"45,-234 45,-255 712,-255 712,-234 45,-234\"/>\n<text text-anchor=\"start\" x=\"350.5\" y=\"-240.8\" font-family=\"Times,serif\" font-size=\"14.00\" fill=\"#000000\">Provision</text>\n</g>\n<!-- CallBehaviorAction4&#45;&gt;CallBehaviorAction5 -->\n<g id=\"edge9\" class=\"edge\">\n<title>CallBehaviorAction4:OutputPin1&#45;&gt;CallBehaviorAction5:InputPin1</title>\n<path fill=\"none\" stroke=\"#000000\" d=\"M379,-319.5C379,-258.687 501.6775,-330.875 516.533,-286.1676\"/>\n<polygon fill=\"#000000\" stroke=\"#000000\" points=\"520.036,-286.3973 518,-276 513.1078,-285.3977 520.036,-286.3973\"/>\n</g>\n<!-- CallBehaviorAction4&#45;&gt;CallBehaviorAction5 -->\n<g id=\"edge10\" class=\"edge\">\n<title>CallBehaviorAction4:node&#45;&gt;CallBehaviorAction5:node</title>\n<path fill=\"none\" stroke=\"#0000ff\" d=\"M290,-350.5C274.6667,-350.5 279.6204,-327.286 290,-316 354.836,-245.5022 654.664,-350.4978 719.5,-280 719.5,-280 445.8455,-243.0305 389.1905,-235.3767\"/>\n<polygon fill=\"#0000ff\" stroke=\"#0000ff\" points=\"389.3786,-231.8704 379,-234 388.4414,-238.8074 389.3786,-231.8704\"/>\n</g>\n<!-- CallBehaviorAction5&#45;&gt;CallBehaviorAction6 -->\n<g id=\"edge12\" class=\"edge\">\n<title>CallBehaviorAction5:node&#45;&gt;CallBehaviorAction6:node</title>\n<path fill=\"none\" stroke=\"#0000ff\" d=\"M379,-234C379,-212.2995 361.8447,-212.7964 351,-194 344.4324,-182.6168 347.9939,-168.268 343.2618,-161.4483\"/>\n<polygon fill=\"#0000ff\" stroke=\"#0000ff\" points=\"344.5716,-158.202 334,-157.5 341.8264,-164.6413 344.5716,-158.202\"/>\n</g>\n<!-- CallBehaviorAction7 -->\n<g id=\"node9\" class=\"node\">\n<title>CallBehaviorAction7</title>\n<text text-anchor=\"start\" x=\"216\" y=\"-68.3\" font-family=\"Times,serif\" font-size=\"14.00\" fill=\"#000000\"> </text>\n<polygon fill=\"none\" stroke=\"#000000\" points=\"220,-61.5 220,-82.5 272,-82.5 272,-61.5 220,-61.5\"/>\n<text text-anchor=\"start\" x=\"223\" y=\"-68.3\" font-family=\"Times,serif\" font-size=\"14.00\" fill=\"#000000\">samples</text>\n<text text-anchor=\"start\" x=\"272\" y=\"-68.3\" font-family=\"Times,serif\" font-size=\"14.00\" fill=\"#000000\"> </text>\n<polygon fill=\"none\" stroke=\"#000000\" points=\"276,-61.5 276,-82.5 349,-82.5 349,-61.5 276,-61.5\"/>\n<text text-anchor=\"start\" x=\"279\" y=\"-68.3\" font-family=\"Times,serif\" font-size=\"14.00\" fill=\"#000000\">wavelength</text>\n<text text-anchor=\"start\" x=\"349\" y=\"-68.3\" font-family=\"Times,serif\" font-size=\"14.00\" fill=\"#000000\"> </text>\n<polygon fill=\"none\" stroke=\"#000000\" points=\"214,-40.5 214,-61.5 355,-61.5 355,-40.5 214,-40.5\"/>\n<text text-anchor=\"start\" x=\"226\" y=\"-47.3\" font-family=\"Times,serif\" font-size=\"14.00\" fill=\"#000000\">MeasureAbsorbance</text>\n<text text-anchor=\"start\" x=\"223\" y=\"-26.3\" font-family=\"Times,serif\" font-size=\"14.00\" fill=\"#000000\"> </text>\n<polygon fill=\"none\" stroke=\"#000000\" points=\"234,-19.5 234,-40.5 335,-40.5 335,-19.5 234,-19.5\"/>\n<text text-anchor=\"start\" x=\"244\" y=\"-26.3\" font-family=\"Times,serif\" font-size=\"14.00\" fill=\"#000000\">measurements</text>\n<text text-anchor=\"start\" x=\"342\" y=\"-26.3\" font-family=\"Times,serif\" font-size=\"14.00\" fill=\"#000000\"> </text>\n</g>\n<!-- CallBehaviorAction6&#45;&gt;CallBehaviorAction7 -->\n<g id=\"edge13\" class=\"edge\">\n<title>CallBehaviorAction6:OutputPin1&#45;&gt;CallBehaviorAction7:InputPin1</title>\n<path fill=\"none\" stroke=\"#000000\" d=\"M246,-126.5C246,-110.9167 246,-104.6468 246,-92.8471\"/>\n<polygon fill=\"#000000\" stroke=\"#000000\" points=\"249.5001,-92.5 246,-82.5 242.5001,-92.5 249.5001,-92.5\"/>\n</g>\n<!-- CallBehaviorAction6&#45;&gt;CallBehaviorAction7 -->\n<g id=\"edge14\" class=\"edge\">\n<title>CallBehaviorAction6:node&#45;&gt;CallBehaviorAction7:node</title>\n<path fill=\"none\" stroke=\"#0000ff\" d=\"M334,-157.5C349.3333,-157.5 343.1529,-135.3018 334,-123 300.7619,-78.327 247.2381,-131.673 214,-87 207.1156,-77.7472 201.8207,-63.2024 205.164,-55.5669\"/>\n<polygon fill=\"#0000ff\" stroke=\"#0000ff\" points=\"207.0662,-58.5108 214,-50.5 203.584,-52.4384 207.0662,-58.5108\"/>\n</g>\n<!-- ActivityParameterNode1 -->\n<g id=\"node10\" class=\"node\">\n<title>ActivityParameterNode1</title>\n<polygon fill=\"none\" stroke=\"#000000\" points=\"446.5,-176.5 363.5,-176.5 363.5,-140.5 446.5,-140.5 446.5,-176.5\"/>\n<polygon fill=\"none\" stroke=\"#000000\" points=\"450.5,-180.5 359.5,-180.5 359.5,-136.5 450.5,-136.5 450.5,-180.5\"/>\n<text text-anchor=\"middle\" x=\"405\" y=\"-154.8\" font-family=\"Times,serif\" font-size=\"14.00\" fill=\"#000000\">wavelength</text>\n</g>\n<!-- ActivityParameterNode1&#45;&gt;CallBehaviorAction7 -->\n<g id=\"edge15\" class=\"edge\">\n<title>ActivityParameterNode1&#45;&gt;CallBehaviorAction7:InputPin2</title>\n<path fill=\"none\" stroke=\"#000000\" d=\"M373.853,-136.4685C353.627,-121.7408 329.1094,-102.9818 318.42,-91.243\"/>\n<polygon fill=\"#000000\" stroke=\"#000000\" points=\"321.2438,-89.1552 313,-82.5 315.2943,-92.8435 321.2438,-89.1552\"/>\n</g>\n</g>\n</svg>\n"
          },
          "metadata": {},
          "execution_count": 12
        }
      ]
    },
    {
      "cell_type": "code",
      "metadata": {
        "id": "fd7bf51a",
        "colab": {
          "base_uri": "https://localhost:8080/",
          "height": 1000
        },
        "outputId": "3680ee38-3794-427e-803b-0f80639eb96b"
      },
      "source": [
        "# link measurement output to protocol output\n",
        "output = protocol.designate_output(\n",
        "    'absorbance', sbol3.OM_MEASURE, measure.output_pin('measurements'))\n",
        "\n",
        "# add control flow from last step to output\n",
        "#protocol.order(protocol.get_last_step(), output)\n",
        "\n",
        "protocol.to_dot()"
      ],
      "id": "fd7bf51a",
      "execution_count": null,
      "outputs": [
        {
          "output_type": "stream",
          "name": "stdout",
          "text": [
            "absorbance: http://www.ontology-of-units-of-measure.org/resource/om-2/Measure  <OrderedPropertyValue None>\n",
            "(<class 'sbol_factory.sbol_factory.OrderedPropertyValue'>, <class 'sbol3.custom.CustomIdentified'>, <class 'sbol3.identified.Identified'>, <class 'sbol3.object.SBOLObject'>, <class 'object'>)\n"
          ]
        },
        {
          "output_type": "execute_result",
          "data": {
            "text/plain": [
              "<graphviz.dot.Digraph at 0x7f41f684c390>"
            ],
            "image/svg+xml": "<?xml version=\"1.0\" encoding=\"UTF-8\" standalone=\"no\"?>\n<!DOCTYPE svg PUBLIC \"-//W3C//DTD SVG 1.1//EN\"\n \"http://www.w3.org/Graphics/SVG/1.1/DTD/svg11.dtd\">\n<!-- Generated by graphviz version 2.40.1 (20161225.0304)\n -->\n<!-- Title: _root Pages: 1 -->\n<svg width=\"744pt\" height=\"923pt\"\n viewBox=\"0.00 0.00 744.00 923.00\" xmlns=\"http://www.w3.org/2000/svg\" xmlns:xlink=\"http://www.w3.org/1999/xlink\">\n<g id=\"graph0\" class=\"graph\" transform=\"scale(1 1) rotate(0) translate(4 919)\">\n<title>_root</title>\n<polygon fill=\"#ffffff\" stroke=\"transparent\" points=\"-4,4 -4,-919 740,-919 740,4 -4,4\"/>\n<g id=\"clust1\" class=\"cluster\">\n<title>cluster_https_//bbn.com/scratch/iGEM_LUDOX_OD_calibration_2018</title>\n<polygon fill=\"none\" stroke=\"#000000\" points=\"8,-8 8,-907 728,-907 728,-8 8,-8\"/>\n<text text-anchor=\"middle\" x=\"368\" y=\"-891.8\" font-family=\"Times,serif\" font-size=\"14.00\" fill=\"#000000\">iGEM 2018 LUDOX OD calibration protocol</text>\n</g>\n<!-- InitialNode1 -->\n<g id=\"node1\" class=\"node\">\n<title>InitialNode1</title>\n<ellipse fill=\"#000000\" stroke=\"#000000\" cx=\"130\" cy=\"-858\" rx=\"18\" ry=\"18\"/>\n</g>\n<!-- CallBehaviorAction1 -->\n<g id=\"node2\" class=\"node\">\n<title>CallBehaviorAction1</title>\n<text text-anchor=\"start\" x=\"33\" y=\"-785.3\" font-family=\"Times,serif\" font-size=\"14.00\" fill=\"#000000\"> </text>\n<polygon fill=\"none\" stroke=\"#000000\" points=\"37,-778.5 37,-799.5 223,-799.5 223,-778.5 37,-778.5\"/>\n<text text-anchor=\"start\" x=\"40\" y=\"-785.3\" font-family=\"Times,serif\" font-size=\"14.00\" fill=\"#000000\">specification: plateRequirement</text>\n<text text-anchor=\"start\" x=\"223\" y=\"-785.3\" font-family=\"Times,serif\" font-size=\"14.00\" fill=\"#000000\"> </text>\n<polygon fill=\"none\" stroke=\"#000000\" points=\"31,-757.5 31,-778.5 229,-778.5 229,-757.5 31,-757.5\"/>\n<text text-anchor=\"start\" x=\"82\" y=\"-764.3\" font-family=\"Times,serif\" font-size=\"14.00\" fill=\"#000000\">EmptyContainer</text>\n<text text-anchor=\"start\" x=\"55.5\" y=\"-743.3\" font-family=\"Times,serif\" font-size=\"14.00\" fill=\"#000000\"> </text>\n<polygon fill=\"none\" stroke=\"#000000\" points=\"82,-736.5 82,-757.5 179,-757.5 179,-736.5 82,-736.5\"/>\n<text text-anchor=\"start\" x=\"107.5\" y=\"-743.3\" font-family=\"Times,serif\" font-size=\"14.00\" fill=\"#000000\">samples</text>\n<text text-anchor=\"start\" x=\"201\" y=\"-743.3\" font-family=\"Times,serif\" font-size=\"14.00\" fill=\"#000000\"> </text>\n</g>\n<!-- InitialNode1&#45;&gt;CallBehaviorAction1 -->\n<g id=\"edge1\" class=\"edge\">\n<title>InitialNode1&#45;&gt;CallBehaviorAction1:node</title>\n<path fill=\"none\" stroke=\"#0000ff\" d=\"M147.8083,-854.1562C171.2137,-848.0421 211.4107,-833.6299 229,-804 234.8225,-794.1918 240.4771,-780.1313 237.6823,-772.6474\"/>\n<polygon fill=\"#0000ff\" stroke=\"#0000ff\" points=\"239.3868,-769.5891 229,-767.5 235.817,-775.6104 239.3868,-769.5891\"/>\n</g>\n<!-- ForkNode1 -->\n<g id=\"node3\" class=\"node\">\n<title>ForkNode1</title>\n<polygon fill=\"#000000\" stroke=\"#000000\" points=\"124,-697 70,-697 70,-696 124,-696 124,-697\"/>\n</g>\n<!-- CallBehaviorAction1&#45;&gt;ForkNode1 -->\n<g id=\"edge6\" class=\"edge\">\n<title>CallBehaviorAction1:OutputPin1&#45;&gt;ForkNode1</title>\n<path fill=\"none\" stroke=\"#000000\" d=\"M131,-736.5C131,-721.6667 117.2583,-709.527 107.2472,-702.6511\"/>\n<polygon fill=\"#000000\" stroke=\"#000000\" points=\"108.8152,-699.5069 98.4609,-697.2618 105.1551,-705.4739 108.8152,-699.5069\"/>\n</g>\n<!-- CallBehaviorAction2 -->\n<g id=\"node4\" class=\"node\">\n<title>CallBehaviorAction2</title>\n<text text-anchor=\"start\" x=\"179\" y=\"-641.3\" font-family=\"Times,serif\" font-size=\"14.00\" fill=\"#000000\"> </text>\n<polygon fill=\"none\" stroke=\"#000000\" points=\"183,-634.5 183,-655.5 226,-655.5 226,-634.5 183,-634.5\"/>\n<text text-anchor=\"start\" x=\"186\" y=\"-641.3\" font-family=\"Times,serif\" font-size=\"14.00\" fill=\"#000000\">source</text>\n<text text-anchor=\"start\" x=\"226\" y=\"-641.3\" font-family=\"Times,serif\" font-size=\"14.00\" fill=\"#000000\"> </text>\n<polygon fill=\"none\" stroke=\"#000000\" points=\"230,-634.5 230,-655.5 348,-655.5 348,-634.5 230,-634.5\"/>\n<text text-anchor=\"start\" x=\"233\" y=\"-641.3\" font-family=\"Times,serif\" font-size=\"14.00\" fill=\"#000000\">coordinates: A1:D1</text>\n<text text-anchor=\"start\" x=\"348\" y=\"-641.3\" font-family=\"Times,serif\" font-size=\"14.00\" fill=\"#000000\"> </text>\n<polygon fill=\"none\" stroke=\"#000000\" points=\"177,-613.5 177,-634.5 354,-634.5 354,-613.5 177,-613.5\"/>\n<text text-anchor=\"start\" x=\"217\" y=\"-620.3\" font-family=\"Times,serif\" font-size=\"14.00\" fill=\"#000000\">PlateCoordinates</text>\n<text text-anchor=\"start\" x=\"198\" y=\"-599.3\" font-family=\"Times,serif\" font-size=\"14.00\" fill=\"#000000\"> </text>\n<polygon fill=\"none\" stroke=\"#000000\" points=\"221,-592.5 221,-613.5 311,-613.5 311,-592.5 221,-592.5\"/>\n<text text-anchor=\"start\" x=\"243\" y=\"-599.3\" font-family=\"Times,serif\" font-size=\"14.00\" fill=\"#000000\">samples</text>\n<text text-anchor=\"start\" x=\"329.5\" y=\"-599.3\" font-family=\"Times,serif\" font-size=\"14.00\" fill=\"#000000\"> </text>\n</g>\n<!-- CallBehaviorAction1&#45;&gt;CallBehaviorAction2 -->\n<g id=\"edge3\" class=\"edge\">\n<title>CallBehaviorAction1:node&#45;&gt;CallBehaviorAction2:node</title>\n<path fill=\"none\" stroke=\"#0000ff\" d=\"M229,-767.5C292.7922,-767.5 131.4657,-640.9375 167.1181,-625.1172\"/>\n<polygon fill=\"#0000ff\" stroke=\"#0000ff\" points=\"167.6966,-628.5692 177,-623.5 166.566,-621.6611 167.6966,-628.5692\"/>\n</g>\n<!-- ForkNode1&#45;&gt;CallBehaviorAction2 -->\n<g id=\"edge2\" class=\"edge\">\n<title>ForkNode1&#45;&gt;CallBehaviorAction2:InputPin1</title>\n<path fill=\"none\" stroke=\"#000000\" d=\"M100.5601,-695.9498C116.5154,-693.3999 181.4405,-682.1081 199.3852,-664.5893\"/>\n<polygon fill=\"#000000\" stroke=\"#000000\" points=\"202.5936,-666.0011 204,-655.5 196.352,-662.8321 202.5936,-666.0011\"/>\n</g>\n<!-- CallBehaviorAction4 -->\n<g id=\"node6\" class=\"node\">\n<title>CallBehaviorAction4</title>\n<text text-anchor=\"start\" x=\"292\" y=\"-448.3\" font-family=\"Times,serif\" font-size=\"14.00\" fill=\"#000000\"> </text>\n<polygon fill=\"none\" stroke=\"#000000\" points=\"296,-441.5 296,-462.5 339,-462.5 339,-441.5 296,-441.5\"/>\n<text text-anchor=\"start\" x=\"299\" y=\"-448.3\" font-family=\"Times,serif\" font-size=\"14.00\" fill=\"#000000\">source</text>\n<text text-anchor=\"start\" x=\"339\" y=\"-448.3\" font-family=\"Times,serif\" font-size=\"14.00\" fill=\"#000000\"> </text>\n<polygon fill=\"none\" stroke=\"#000000\" points=\"343,-441.5 343,-462.5 461,-462.5 461,-441.5 343,-441.5\"/>\n<text text-anchor=\"start\" x=\"346\" y=\"-448.3\" font-family=\"Times,serif\" font-size=\"14.00\" fill=\"#000000\">coordinates: A2:D2</text>\n<text text-anchor=\"start\" x=\"461\" y=\"-448.3\" font-family=\"Times,serif\" font-size=\"14.00\" fill=\"#000000\"> </text>\n<polygon fill=\"none\" stroke=\"#000000\" points=\"290,-420.5 290,-441.5 467,-441.5 467,-420.5 290,-420.5\"/>\n<text text-anchor=\"start\" x=\"330\" y=\"-427.3\" font-family=\"Times,serif\" font-size=\"14.00\" fill=\"#000000\">PlateCoordinates</text>\n<text text-anchor=\"start\" x=\"311\" y=\"-406.3\" font-family=\"Times,serif\" font-size=\"14.00\" fill=\"#000000\"> </text>\n<polygon fill=\"none\" stroke=\"#000000\" points=\"334,-399.5 334,-420.5 424,-420.5 424,-399.5 334,-399.5\"/>\n<text text-anchor=\"start\" x=\"356\" y=\"-406.3\" font-family=\"Times,serif\" font-size=\"14.00\" fill=\"#000000\">samples</text>\n<text text-anchor=\"start\" x=\"442.5\" y=\"-406.3\" font-family=\"Times,serif\" font-size=\"14.00\" fill=\"#000000\"> </text>\n</g>\n<!-- ForkNode1&#45;&gt;CallBehaviorAction4 -->\n<g id=\"edge7\" class=\"edge\">\n<title>ForkNode1&#45;&gt;CallBehaviorAction4:InputPin1</title>\n<path fill=\"none\" stroke=\"#000000\" d=\"M96.3165,-695.6872C87.243,-684.7987 -8.2461,-567.1511 47,-503 84.1169,-459.9003 288.9443,-515.3412 314.4027,-472.4481\"/>\n<polygon fill=\"#000000\" stroke=\"#000000\" points=\"317.8603,-473.0598 317,-462.5 311.0873,-471.2915 317.8603,-473.0598\"/>\n</g>\n<!-- CallBehaviorAction6 -->\n<g id=\"node8\" class=\"node\">\n<title>CallBehaviorAction6</title>\n<text text-anchor=\"start\" x=\"159\" y=\"-255.3\" font-family=\"Times,serif\" font-size=\"14.00\" fill=\"#000000\"> </text>\n<polygon fill=\"none\" stroke=\"#000000\" points=\"163,-248.5 163,-269.5 206,-269.5 206,-248.5 163,-248.5\"/>\n<text text-anchor=\"start\" x=\"166\" y=\"-255.3\" font-family=\"Times,serif\" font-size=\"14.00\" fill=\"#000000\">source</text>\n<text text-anchor=\"start\" x=\"206\" y=\"-255.3\" font-family=\"Times,serif\" font-size=\"14.00\" fill=\"#000000\"> </text>\n<polygon fill=\"none\" stroke=\"#000000\" points=\"210,-248.5 210,-269.5 328,-269.5 328,-248.5 210,-248.5\"/>\n<text text-anchor=\"start\" x=\"213\" y=\"-255.3\" font-family=\"Times,serif\" font-size=\"14.00\" fill=\"#000000\">coordinates: A1:D2</text>\n<text text-anchor=\"start\" x=\"328\" y=\"-255.3\" font-family=\"Times,serif\" font-size=\"14.00\" fill=\"#000000\"> </text>\n<polygon fill=\"none\" stroke=\"#000000\" points=\"157,-227.5 157,-248.5 334,-248.5 334,-227.5 157,-227.5\"/>\n<text text-anchor=\"start\" x=\"197\" y=\"-234.3\" font-family=\"Times,serif\" font-size=\"14.00\" fill=\"#000000\">PlateCoordinates</text>\n<text text-anchor=\"start\" x=\"178\" y=\"-213.3\" font-family=\"Times,serif\" font-size=\"14.00\" fill=\"#000000\"> </text>\n<polygon fill=\"none\" stroke=\"#000000\" points=\"201,-206.5 201,-227.5 291,-227.5 291,-206.5 201,-206.5\"/>\n<text text-anchor=\"start\" x=\"223\" y=\"-213.3\" font-family=\"Times,serif\" font-size=\"14.00\" fill=\"#000000\">samples</text>\n<text text-anchor=\"start\" x=\"309.5\" y=\"-213.3\" font-family=\"Times,serif\" font-size=\"14.00\" fill=\"#000000\"> </text>\n</g>\n<!-- ForkNode1&#45;&gt;CallBehaviorAction6 -->\n<g id=\"edge11\" class=\"edge\">\n<title>ForkNode1&#45;&gt;CallBehaviorAction6:InputPin1</title>\n<path fill=\"none\" stroke=\"#000000\" d=\"M94.3962,-695.9618C84.2209,-693.7079 46.9224,-684.006 31,-660 -1.6092,-610.8357 17,-586.9957 17,-528 17,-528 17,-528 17,-431.5 17,-377.3174 -7.9149,-351.4331 27,-310 70.9875,-257.8005 172.5173,-332.8156 183.1032,-279.6203\"/>\n<polygon fill=\"#000000\" stroke=\"#000000\" points=\"186.6036,-279.7699 184,-269.5 179.6309,-279.152 186.6036,-279.7699\"/>\n</g>\n<!-- CallBehaviorAction3 -->\n<g id=\"node5\" class=\"node\">\n<title>CallBehaviorAction3</title>\n<text text-anchor=\"start\" x=\"66\" y=\"-534.8\" font-family=\"Times,serif\" font-size=\"14.00\" fill=\"#000000\"> </text>\n<polygon fill=\"none\" stroke=\"#000000\" points=\"70,-528 70,-549 461,-549 461,-528 70,-528\"/>\n<text text-anchor=\"start\" x=\"73\" y=\"-534.8\" font-family=\"Times,serif\" font-size=\"14.00\" fill=\"#000000\">resource: Water, sterile&#45;filtered, BioReagent, suitable for cell culture</text>\n<text text-anchor=\"start\" x=\"461\" y=\"-534.8\" font-family=\"Times,serif\" font-size=\"14.00\" fill=\"#000000\"> </text>\n<polygon fill=\"none\" stroke=\"#000000\" points=\"465,-528 465,-549 534,-549 534,-528 465,-528\"/>\n<text text-anchor=\"start\" x=\"468\" y=\"-534.8\" font-family=\"Times,serif\" font-size=\"14.00\" fill=\"#000000\">destination</text>\n<text text-anchor=\"start\" x=\"534\" y=\"-534.8\" font-family=\"Times,serif\" font-size=\"14.00\" fill=\"#000000\"> </text>\n<polygon fill=\"none\" stroke=\"#000000\" points=\"538,-528 538,-549 688,-549 688,-528 538,-528\"/>\n<text text-anchor=\"start\" x=\"541\" y=\"-534.8\" font-family=\"Times,serif\" font-size=\"14.00\" fill=\"#000000\">amount: 100.0 microliter</text>\n<text text-anchor=\"start\" x=\"688\" y=\"-534.8\" font-family=\"Times,serif\" font-size=\"14.00\" fill=\"#000000\"> </text>\n<polygon fill=\"none\" stroke=\"#000000\" points=\"64,-507 64,-528 694,-528 694,-507 64,-507\"/>\n<text text-anchor=\"start\" x=\"351\" y=\"-513.8\" font-family=\"Times,serif\" font-size=\"14.00\" fill=\"#000000\">Provision</text>\n</g>\n<!-- CallBehaviorAction2&#45;&gt;CallBehaviorAction3 -->\n<g id=\"edge4\" class=\"edge\">\n<title>CallBehaviorAction2:OutputPin1&#45;&gt;CallBehaviorAction3:InputPin1</title>\n<path fill=\"none\" stroke=\"#000000\" d=\"M266,-592.5C266,-490.4371 483.8361,-643.3032 499.1527,-559.1651\"/>\n<polygon fill=\"#000000\" stroke=\"#000000\" points=\"502.6571,-559.2562 500,-549 495.6813,-558.6747 502.6571,-559.2562\"/>\n</g>\n<!-- CallBehaviorAction2&#45;&gt;CallBehaviorAction3 -->\n<g id=\"edge5\" class=\"edge\">\n<title>CallBehaviorAction2:node&#45;&gt;CallBehaviorAction3:node</title>\n<path fill=\"none\" stroke=\"#0000ff\" d=\"M354,-623.5C517.1034,-623.5 817.3315,-622.3315 702,-507 690.6001,-495.6001 438.962,-490.1998 387.9657,-502.234\"/>\n<polygon fill=\"#0000ff\" stroke=\"#0000ff\" points=\"386.1871,-499.2156 379,-507 389.4728,-505.3965 386.1871,-499.2156\"/>\n</g>\n<!-- CallBehaviorAction3&#45;&gt;CallBehaviorAction4 -->\n<g id=\"edge8\" class=\"edge\">\n<title>CallBehaviorAction3:node&#45;&gt;CallBehaviorAction4:node</title>\n<path fill=\"none\" stroke=\"#0000ff\" d=\"M379,-507C379,-464.0381 443.741,-503.1213 467,-467 473.1752,-457.4099 478.6865,-443.2608 475.7756,-435.7051\"/>\n<polygon fill=\"#0000ff\" stroke=\"#0000ff\" points=\"477.3864,-432.5912 467,-430.5 473.8154,-438.6118 477.3864,-432.5912\"/>\n</g>\n<!-- CallBehaviorAction5 -->\n<g id=\"node7\" class=\"node\">\n<title>CallBehaviorAction5</title>\n<text text-anchor=\"start\" x=\"47\" y=\"-341.8\" font-family=\"Times,serif\" font-size=\"14.00\" fill=\"#000000\"> </text>\n<polygon fill=\"none\" stroke=\"#000000\" points=\"51,-335 51,-356 479,-356 479,-335 51,-335\"/>\n<text text-anchor=\"start\" x=\"54\" y=\"-341.8\" font-family=\"Times,serif\" font-size=\"14.00\" fill=\"#000000\">resource: LUDOX(R) CL&#45;X colloidal silica, 45 wt. % suspension in H2O</text>\n<text text-anchor=\"start\" x=\"479\" y=\"-341.8\" font-family=\"Times,serif\" font-size=\"14.00\" fill=\"#000000\"> </text>\n<polygon fill=\"none\" stroke=\"#000000\" points=\"483,-335 483,-356 552,-356 552,-335 483,-335\"/>\n<text text-anchor=\"start\" x=\"486\" y=\"-341.8\" font-family=\"Times,serif\" font-size=\"14.00\" fill=\"#000000\">destination</text>\n<text text-anchor=\"start\" x=\"552\" y=\"-341.8\" font-family=\"Times,serif\" font-size=\"14.00\" fill=\"#000000\"> </text>\n<polygon fill=\"none\" stroke=\"#000000\" points=\"556,-335 556,-356 706,-356 706,-335 556,-335\"/>\n<text text-anchor=\"start\" x=\"559\" y=\"-341.8\" font-family=\"Times,serif\" font-size=\"14.00\" fill=\"#000000\">amount: 100.0 microliter</text>\n<text text-anchor=\"start\" x=\"706\" y=\"-341.8\" font-family=\"Times,serif\" font-size=\"14.00\" fill=\"#000000\"> </text>\n<polygon fill=\"none\" stroke=\"#000000\" points=\"45,-314 45,-335 712,-335 712,-314 45,-314\"/>\n<text text-anchor=\"start\" x=\"350.5\" y=\"-320.8\" font-family=\"Times,serif\" font-size=\"14.00\" fill=\"#000000\">Provision</text>\n</g>\n<!-- CallBehaviorAction4&#45;&gt;CallBehaviorAction5 -->\n<g id=\"edge9\" class=\"edge\">\n<title>CallBehaviorAction4:OutputPin1&#45;&gt;CallBehaviorAction5:InputPin1</title>\n<path fill=\"none\" stroke=\"#000000\" d=\"M379,-399.5C379,-338.687 501.6775,-410.875 516.533,-366.1676\"/>\n<polygon fill=\"#000000\" stroke=\"#000000\" points=\"520.036,-366.3973 518,-356 513.1078,-365.3977 520.036,-366.3973\"/>\n</g>\n<!-- CallBehaviorAction4&#45;&gt;CallBehaviorAction5 -->\n<g id=\"edge10\" class=\"edge\">\n<title>CallBehaviorAction4:node&#45;&gt;CallBehaviorAction5:node</title>\n<path fill=\"none\" stroke=\"#0000ff\" d=\"M290,-430.5C274.6667,-430.5 279.6204,-407.286 290,-396 354.836,-325.5022 654.664,-430.4978 719.5,-360 719.5,-360 445.8455,-323.0305 389.1905,-315.3767\"/>\n<polygon fill=\"#0000ff\" stroke=\"#0000ff\" points=\"389.3786,-311.8704 379,-314 388.4414,-318.8074 389.3786,-311.8704\"/>\n</g>\n<!-- CallBehaviorAction5&#45;&gt;CallBehaviorAction6 -->\n<g id=\"edge12\" class=\"edge\">\n<title>CallBehaviorAction5:node&#45;&gt;CallBehaviorAction6:node</title>\n<path fill=\"none\" stroke=\"#0000ff\" d=\"M379,-314C379,-292.2995 361.8447,-292.7964 351,-274 344.4324,-262.6168 347.9939,-248.268 343.2618,-241.4483\"/>\n<polygon fill=\"#0000ff\" stroke=\"#0000ff\" points=\"344.5716,-238.202 334,-237.5 341.8264,-244.6413 344.5716,-238.202\"/>\n</g>\n<!-- CallBehaviorAction7 -->\n<g id=\"node9\" class=\"node\">\n<title>CallBehaviorAction7</title>\n<text text-anchor=\"start\" x=\"216\" y=\"-148.3\" font-family=\"Times,serif\" font-size=\"14.00\" fill=\"#000000\"> </text>\n<polygon fill=\"none\" stroke=\"#000000\" points=\"220,-141.5 220,-162.5 272,-162.5 272,-141.5 220,-141.5\"/>\n<text text-anchor=\"start\" x=\"223\" y=\"-148.3\" font-family=\"Times,serif\" font-size=\"14.00\" fill=\"#000000\">samples</text>\n<text text-anchor=\"start\" x=\"272\" y=\"-148.3\" font-family=\"Times,serif\" font-size=\"14.00\" fill=\"#000000\"> </text>\n<polygon fill=\"none\" stroke=\"#000000\" points=\"276,-141.5 276,-162.5 349,-162.5 349,-141.5 276,-141.5\"/>\n<text text-anchor=\"start\" x=\"279\" y=\"-148.3\" font-family=\"Times,serif\" font-size=\"14.00\" fill=\"#000000\">wavelength</text>\n<text text-anchor=\"start\" x=\"349\" y=\"-148.3\" font-family=\"Times,serif\" font-size=\"14.00\" fill=\"#000000\"> </text>\n<polygon fill=\"none\" stroke=\"#000000\" points=\"214,-120.5 214,-141.5 355,-141.5 355,-120.5 214,-120.5\"/>\n<text text-anchor=\"start\" x=\"226\" y=\"-127.3\" font-family=\"Times,serif\" font-size=\"14.00\" fill=\"#000000\">MeasureAbsorbance</text>\n<text text-anchor=\"start\" x=\"223\" y=\"-106.3\" font-family=\"Times,serif\" font-size=\"14.00\" fill=\"#000000\"> </text>\n<polygon fill=\"none\" stroke=\"#000000\" points=\"234,-99.5 234,-120.5 335,-120.5 335,-99.5 234,-99.5\"/>\n<text text-anchor=\"start\" x=\"244\" y=\"-106.3\" font-family=\"Times,serif\" font-size=\"14.00\" fill=\"#000000\">measurements</text>\n<text text-anchor=\"start\" x=\"342\" y=\"-106.3\" font-family=\"Times,serif\" font-size=\"14.00\" fill=\"#000000\"> </text>\n</g>\n<!-- CallBehaviorAction6&#45;&gt;CallBehaviorAction7 -->\n<g id=\"edge13\" class=\"edge\">\n<title>CallBehaviorAction6:OutputPin1&#45;&gt;CallBehaviorAction7:InputPin1</title>\n<path fill=\"none\" stroke=\"#000000\" d=\"M246,-206.5C246,-190.9167 246,-184.6468 246,-172.8471\"/>\n<polygon fill=\"#000000\" stroke=\"#000000\" points=\"249.5001,-172.5 246,-162.5 242.5001,-172.5 249.5001,-172.5\"/>\n</g>\n<!-- CallBehaviorAction6&#45;&gt;CallBehaviorAction7 -->\n<g id=\"edge14\" class=\"edge\">\n<title>CallBehaviorAction6:node&#45;&gt;CallBehaviorAction7:node</title>\n<path fill=\"none\" stroke=\"#0000ff\" d=\"M334,-237.5C349.3333,-237.5 343.1529,-215.3018 334,-203 300.7619,-158.327 247.2381,-211.673 214,-167 207.1156,-157.7472 201.8207,-143.2024 205.164,-135.5669\"/>\n<polygon fill=\"#0000ff\" stroke=\"#0000ff\" points=\"207.0662,-138.5108 214,-130.5 203.584,-132.4384 207.0662,-138.5108\"/>\n</g>\n<!-- ActivityParameterNode2 -->\n<g id=\"node11\" class=\"node\">\n<title>ActivityParameterNode2</title>\n<polygon fill=\"none\" stroke=\"#000000\" points=\"325,-56 245,-56 245,-20 325,-20 325,-56\"/>\n<polygon fill=\"none\" stroke=\"#000000\" points=\"329,-60 241,-60 241,-16 329,-16 329,-60\"/>\n<text text-anchor=\"middle\" x=\"285\" y=\"-34.3\" font-family=\"Times,serif\" font-size=\"14.00\" fill=\"#000000\">absorbance</text>\n</g>\n<!-- CallBehaviorAction7&#45;&gt;ActivityParameterNode2 -->\n<g id=\"edge16\" class=\"edge\">\n<title>CallBehaviorAction7:OutputPin1&#45;&gt;ActivityParameterNode2</title>\n<path fill=\"none\" stroke=\"#000000\" d=\"M285,-99.5C285,-90.0358 285,-79.7523 285,-70.3516\"/>\n<polygon fill=\"#000000\" stroke=\"#000000\" points=\"288.5001,-70.2036 285,-60.2036 281.5001,-70.2037 288.5001,-70.2036\"/>\n</g>\n<!-- ActivityParameterNode1 -->\n<g id=\"node10\" class=\"node\">\n<title>ActivityParameterNode1</title>\n<polygon fill=\"none\" stroke=\"#000000\" points=\"446.5,-256.5 363.5,-256.5 363.5,-220.5 446.5,-220.5 446.5,-256.5\"/>\n<polygon fill=\"none\" stroke=\"#000000\" points=\"450.5,-260.5 359.5,-260.5 359.5,-216.5 450.5,-216.5 450.5,-260.5\"/>\n<text text-anchor=\"middle\" x=\"405\" y=\"-234.8\" font-family=\"Times,serif\" font-size=\"14.00\" fill=\"#000000\">wavelength</text>\n</g>\n<!-- ActivityParameterNode1&#45;&gt;CallBehaviorAction7 -->\n<g id=\"edge15\" class=\"edge\">\n<title>ActivityParameterNode1&#45;&gt;CallBehaviorAction7:InputPin2</title>\n<path fill=\"none\" stroke=\"#000000\" d=\"M373.853,-216.4685C353.627,-201.7408 329.1094,-182.9818 318.42,-171.243\"/>\n<polygon fill=\"#000000\" stroke=\"#000000\" points=\"321.2438,-169.1552 313,-162.5 315.2943,-172.8435 321.2438,-169.1552\"/>\n</g>\n</g>\n</svg>\n"
          },
          "metadata": {},
          "execution_count": 13
        }
      ]
    },
    {
      "cell_type": "code",
      "metadata": {
        "id": "c1d5f154",
        "colab": {
          "base_uri": "https://localhost:8080/"
        },
        "outputId": "63d7acdf-6bad-4ed8-fbb8-93c4a65a52f4"
      },
      "source": [
        "import paml_time as pamlt\n",
        "\n",
        "# protocol starts at time 0\n",
        "protocol_start_time = pamlt.startTime(protocol, 0, units=tyto.OM.hour)\n",
        "\n",
        "# Provisioning requires 60s\n",
        "provision_ludox_duration = pamlt.duration(provision_ludox, 60, units=tyto.OM.second)\n",
        "provision_ddh2o_duration = pamlt.duration(provision_ddh2o, 60, units=tyto.OM.second)\n",
        "\n",
        "# Measurement requires 2m\n",
        "execute_measurement_duration = pamlt.duration(measure, 2, units=tyto.OM.minute)\n",
        "\n",
        "# Provisioning ddh2o precedes provisioning ludox by at most 60s\n",
        "ddh2o_before_ludox_constraint = pamlt.precedes(provision_ddh2o, [0, 60], \n",
        "                                               provision_ludox, units=tyto.OM.second)\n",
        "\n",
        "# Coonstraints are combined via Boolean logic\n",
        "time_constraints = pamlt.TimeConstraints(\"ludox_protocol_constraints\",\n",
        "    constraints=[pamlt.And([\n",
        "        protocol_start_time,\n",
        "        provision_ludox_duration,\n",
        "        provision_ddh2o_duration,\n",
        "        execute_measurement_duration,\n",
        "        ddh2o_before_ludox_constraint\n",
        "        ])],\n",
        "    protocols = [protocol]\n",
        ")\n",
        "\n",
        "doc.add(time_constraints)"
      ],
      "id": "c1d5f154",
      "execution_count": null,
      "outputs": [
        {
          "output_type": "execute_result",
          "data": {
            "text/plain": [
              "<sbol_factory.sbol_factory.TimeConstraints at 0x7f41f63d9890>"
            ]
          },
          "metadata": {},
          "execution_count": 14
        }
      ]
    },
    {
      "cell_type": "code",
      "metadata": {
        "id": "31b34a50"
      },
      "source": [
        "# Compute a Schedule for the protocol and get the constraint graph\n",
        "# schedule, graph = check_doc(doc)\n",
        "# schedule.plot()"
      ],
      "id": "31b34a50",
      "execution_count": null,
      "outputs": []
    },
    {
      "cell_type": "code",
      "metadata": {
        "id": "81f2d628"
      },
      "source": [
        "# Get minimum duration for the protocol (in seconds)\n",
        "# min_protocol_durations = graph.get_minimum_duration()\n",
        "# min_str = \"\\n\".join([f\"The minimum duration of {protocol} is {result['duration']}s \" \\\n",
        "#                      for protocol, result in min_protocol_durations.items()])\n",
        "# print(min_str) "
      ],
      "id": "81f2d628",
      "execution_count": null,
      "outputs": []
    },
    {
      "cell_type": "code",
      "metadata": {
        "id": "067e1361",
        "colab": {
          "base_uri": "https://localhost:8080/",
          "height": 1000
        },
        "outputId": "5922b7a2-7947-4edc-9a9d-17e985be68e4"
      },
      "source": [
        "# Simulate Execution of the Protocol\n",
        "\n",
        "agent = sbol3.Agent(\"test_agent\")\n",
        "ee = ExecutionEngine(specializations=[MarkdownSpecialization(\"test_LUDOX_markdown.md\")])\n",
        "parameter_values = [\n",
        "    paml.ParameterValue(parameter=protocol.get_input(\"wavelength\"), \n",
        "                        value=sbol3.Measure(100, tyto.OM.nanometer))\n",
        "]\n",
        "execution = ee.execute(protocol, agent, id=\"test_execution\", parameter_values=parameter_values)\n",
        "execution.to_dot()"
      ],
      "id": "067e1361",
      "execution_count": null,
      "outputs": [
        {
          "output_type": "stream",
          "name": "stdout",
          "text": [
            "<generator object behavior_get_input.<locals>.<genexpr> at 0x7f41f6e8bb50>\n"
          ]
        },
        {
          "output_type": "execute_result",
          "data": {
            "text/plain": [
              "<graphviz.dot.Digraph at 0x7f41f646d710>"
            ],
            "image/svg+xml": "<?xml version=\"1.0\" encoding=\"UTF-8\" standalone=\"no\"?>\n<!DOCTYPE svg PUBLIC \"-//W3C//DTD SVG 1.1//EN\"\n \"http://www.w3.org/Graphics/SVG/1.1/DTD/svg11.dtd\">\n<!-- Generated by graphviz version 2.40.1 (20161225.0304)\n -->\n<!-- Title: cluster_https://bbn.com/scratch/test_execution Pages: 1 -->\n<svg width=\"1568pt\" height=\"1395pt\"\n viewBox=\"0.00 0.00 1568.00 1395.00\" xmlns=\"http://www.w3.org/2000/svg\" xmlns:xlink=\"http://www.w3.org/1999/xlink\">\n<g id=\"graph0\" class=\"graph\" transform=\"scale(1 1) rotate(0) translate(4 1391)\">\n<title>cluster_https://bbn.com/scratch/test_execution</title>\n<polygon fill=\"#ffffff\" stroke=\"transparent\" points=\"-4,4 -4,-1391 1564,-1391 1564,4 -4,4\"/>\n<text text-anchor=\"middle\" x=\"780\" y=\"-7.8\" font-family=\"Times,serif\" font-size=\"14.00\" fill=\"#000000\">https://bbn.com/scratch/test_execution</text>\n<g id=\"clust2\" class=\"cluster\">\n<title>cluster_https_//bbn.com/scratch/iGEM_LUDOX_OD_calibration_2018</title>\n<polygon fill=\"none\" stroke=\"#000000\" points=\"8,-31 8,-1379 1552,-1379 1552,-31 8,-31\"/>\n<text text-anchor=\"middle\" x=\"780\" y=\"-1363.8\" font-family=\"Times,serif\" font-size=\"14.00\" fill=\"#000000\">iGEM 2018 LUDOX OD calibration protocol</text>\n</g>\n<!-- InitialNode1 -->\n<g id=\"node1\" class=\"node\">\n<title>InitialNode1</title>\n<ellipse fill=\"#000000\" stroke=\"#000000\" cx=\"813\" cy=\"-1330\" rx=\"18\" ry=\"18\"/>\n</g>\n<!-- CallBehaviorAction1 -->\n<g id=\"node2\" class=\"node\">\n<title>CallBehaviorAction1</title>\n<text text-anchor=\"start\" x=\"716\" y=\"-1218.3\" font-family=\"Times,serif\" font-size=\"14.00\" fill=\"#000000\"> </text>\n<polygon fill=\"none\" stroke=\"#000000\" points=\"720,-1211.5 720,-1232.5 906,-1232.5 906,-1211.5 720,-1211.5\"/>\n<text text-anchor=\"start\" x=\"723\" y=\"-1218.3\" font-family=\"Times,serif\" font-size=\"14.00\" fill=\"#000000\">specification: plateRequirement</text>\n<text text-anchor=\"start\" x=\"906\" y=\"-1218.3\" font-family=\"Times,serif\" font-size=\"14.00\" fill=\"#000000\"> </text>\n<polygon fill=\"none\" stroke=\"#000000\" points=\"714,-1190.5 714,-1211.5 912,-1211.5 912,-1190.5 714,-1190.5\"/>\n<text text-anchor=\"start\" x=\"765\" y=\"-1197.3\" font-family=\"Times,serif\" font-size=\"14.00\" fill=\"#000000\">EmptyContainer</text>\n<text text-anchor=\"start\" x=\"738.5\" y=\"-1176.3\" font-family=\"Times,serif\" font-size=\"14.00\" fill=\"#000000\"> </text>\n<polygon fill=\"none\" stroke=\"#000000\" points=\"765,-1169.5 765,-1190.5 862,-1190.5 862,-1169.5 765,-1169.5\"/>\n<text text-anchor=\"start\" x=\"790.5\" y=\"-1176.3\" font-family=\"Times,serif\" font-size=\"14.00\" fill=\"#000000\">samples</text>\n<text text-anchor=\"start\" x=\"884\" y=\"-1176.3\" font-family=\"Times,serif\" font-size=\"14.00\" fill=\"#000000\"> </text>\n</g>\n<!-- InitialNode1&#45;&gt;CallBehaviorAction1 -->\n<g id=\"edge1\" class=\"edge\">\n<title>InitialNode1&#45;&gt;CallBehaviorAction1:node</title>\n<path fill=\"none\" stroke=\"#0000ff\" d=\"M827.4807,-1318.7343C864.4414,-1289.443 956.9737,-1212.4231 922.1626,-1201.737\"/>\n<polygon fill=\"#0000ff\" stroke=\"#0000ff\" points=\"922.3497,-1198.234 912,-1200.5 921.5038,-1205.1827 922.3497,-1198.234\"/>\n</g>\n<!-- CallBehaviorAction1&#45;&gt;CallBehaviorAction1 -->\n<g id=\"edge17\" class=\"edge\">\n<title>CallBehaviorAction1:w&#45;&gt;CallBehaviorAction1:w</title>\n<path fill=\"none\" stroke=\"transparent\" d=\"M706,-1201.5C700,-1215 688,-1215 688,-1201.5 688,-1191.7969 694.1992,-1189.0679 699.9141,-1193.313\"/>\n<polygon fill=\"transparent\" stroke=\"transparent\" points=\"697.2252,-1195.5625 706,-1201.5 702.8431,-1191.3864 697.2252,-1195.5625\"/>\n<text text-anchor=\"middle\" x=\"612.5\" y=\"-1220.3\" font-family=\"Times,serif\" font-size=\"14.00\" fill=\"#000000\">[2022&#45;02&#45;08 23:08:25.226031,</text>\n<text text-anchor=\"middle\" x=\"612.5\" y=\"-1205.3\" font-family=\"Times,serif\" font-size=\"14.00\" fill=\"#000000\"> &#160;2022&#45;02&#45;08 23:08:25.226053]</text>\n</g>\n<!-- ForkNode1 -->\n<g id=\"node3\" class=\"node\">\n<title>ForkNode1</title>\n<polygon fill=\"#000000\" stroke=\"#000000\" points=\"449,-1077 395,-1077 395,-1076 449,-1076 449,-1077\"/>\n</g>\n<!-- CallBehaviorAction1&#45;&gt;ForkNode1 -->\n<g id=\"edge6\" class=\"edge\">\n<title>CallBehaviorAction1:OutputPin1&#45;&gt;ForkNode1</title>\n<path fill=\"none\" stroke=\"#000000\" d=\"M814,-1169.5C814,-1096.1738 551.0481,-1080.575 455.8706,-1077.3306\"/>\n<polygon fill=\"#000000\" stroke=\"#000000\" points=\"455.744,-1073.825 445.6386,-1077.0079 455.5233,-1080.8215 455.744,-1073.825\"/>\n</g>\n<!-- CallBehaviorAction1&#45;&gt;ForkNode1 -->\n<g id=\"edge18\" class=\"edge\">\n<title>CallBehaviorAction1:OutputPin1&#45;&gt;ForkNode1</title>\n<path fill=\"none\" stroke=\"#ffa500\" d=\"M814,-1169.5C814,-1159.3432 822.8931,-1155.9005 818,-1147 804.8133,-1123.0136 791.4348,-1124.1146 766,-1114 707.303,-1090.6582 512.9119,-1080.3603 445.3686,-1077.4271\"/>\n<polygon fill=\"#ffa500\" stroke=\"#ffa500\" points=\"445.4509,-1073.9276 435.3128,-1077.0048 445.1571,-1080.9214 445.4509,-1073.9276\"/>\n<text text-anchor=\"middle\" x=\"1149\" y=\"-1117.8\" font-family=\"Times,serif\" font-size=\"14.00\" fill=\"#000000\">samples&#45;[&lt;SampleArray https://bbn.com/scratch/test_execution/ActivityEdgeFlow5/LiteralIdentified1/SampleArray1&gt;]&#45;&gt;</text>\n</g>\n<!-- CallBehaviorAction2 -->\n<g id=\"node4\" class=\"node\">\n<title>CallBehaviorAction2</title>\n<text text-anchor=\"start\" x=\"659\" y=\"-968.3\" font-family=\"Times,serif\" font-size=\"14.00\" fill=\"#000000\"> </text>\n<polygon fill=\"none\" stroke=\"#000000\" points=\"663,-961.5 663,-982.5 706,-982.5 706,-961.5 663,-961.5\"/>\n<text text-anchor=\"start\" x=\"666\" y=\"-968.3\" font-family=\"Times,serif\" font-size=\"14.00\" fill=\"#000000\">source</text>\n<text text-anchor=\"start\" x=\"706\" y=\"-968.3\" font-family=\"Times,serif\" font-size=\"14.00\" fill=\"#000000\"> </text>\n<polygon fill=\"none\" stroke=\"#000000\" points=\"710,-961.5 710,-982.5 828,-982.5 828,-961.5 710,-961.5\"/>\n<text text-anchor=\"start\" x=\"713\" y=\"-968.3\" font-family=\"Times,serif\" font-size=\"14.00\" fill=\"#000000\">coordinates: A1:D1</text>\n<text text-anchor=\"start\" x=\"828\" y=\"-968.3\" font-family=\"Times,serif\" font-size=\"14.00\" fill=\"#000000\"> </text>\n<polygon fill=\"none\" stroke=\"#000000\" points=\"657,-940.5 657,-961.5 834,-961.5 834,-940.5 657,-940.5\"/>\n<text text-anchor=\"start\" x=\"697\" y=\"-947.3\" font-family=\"Times,serif\" font-size=\"14.00\" fill=\"#000000\">PlateCoordinates</text>\n<text text-anchor=\"start\" x=\"678\" y=\"-926.3\" font-family=\"Times,serif\" font-size=\"14.00\" fill=\"#000000\"> </text>\n<polygon fill=\"none\" stroke=\"#000000\" points=\"701,-919.5 701,-940.5 791,-940.5 791,-919.5 701,-919.5\"/>\n<text text-anchor=\"start\" x=\"723\" y=\"-926.3\" font-family=\"Times,serif\" font-size=\"14.00\" fill=\"#000000\">samples</text>\n<text text-anchor=\"start\" x=\"809.5\" y=\"-926.3\" font-family=\"Times,serif\" font-size=\"14.00\" fill=\"#000000\"> </text>\n</g>\n<!-- CallBehaviorAction1&#45;&gt;CallBehaviorAction2 -->\n<g id=\"edge3\" class=\"edge\">\n<title>CallBehaviorAction1:node&#45;&gt;CallBehaviorAction2:node</title>\n<path fill=\"none\" stroke=\"#0000ff\" d=\"M912,-1200.5C927.3333,-1200.5 921.7697,-1177.818 912,-1166 884.8975,-1133.2153 845.1025,-1180.7847 818,-1148 808.3719,-1136.3533 808.8058,-1125.9922 818,-1114 897.2749,-1010.6003 1175.7618,-1127.7911 1097,-1024 1062.1793,-978.1138 911.1734,-953.115 844.0261,-950.6944\"/>\n<polygon fill=\"#0000ff\" stroke=\"#0000ff\" points=\"844.066,-947.1946 834,-950.5 843.9302,-954.1933 844.066,-947.1946\"/>\n</g>\n<!-- ForkNode1&#45;&gt;CallBehaviorAction2 -->\n<g id=\"edge2\" class=\"edge\">\n<title>ForkNode1&#45;&gt;CallBehaviorAction2:InputPin1</title>\n<path fill=\"none\" stroke=\"#000000\" d=\"M422.1109,-1075.8809C423.2381,-1069.8032 433.2172,-1020.6912 464,-1005 483.3264,-995.1486 639.9884,-1004.3059 676.4406,-989.6812\"/>\n<polygon fill=\"#000000\" stroke=\"#000000\" points=\"679.1605,-991.925 684,-982.5 674.3393,-986.8499 679.1605,-991.925\"/>\n</g>\n<!-- ForkNode1&#45;&gt;CallBehaviorAction2 -->\n<g id=\"edge20\" class=\"edge\">\n<title>ForkNode1&#45;&gt;CallBehaviorAction2:InputPin1</title>\n<path fill=\"none\" stroke=\"#ffa500\" d=\"M422.517,-1075.8553C426.5356,-1070.8914 453.4107,-1038.5542 483,-1024 520.5687,-1005.5209 658.5396,-1024.4306 680.9227,-992.377\"/>\n<polygon fill=\"#ffa500\" stroke=\"#ffa500\" points=\"684.3669,-993.0885 684,-982.5 677.6837,-991.0062 684.3669,-993.0885\"/>\n<text text-anchor=\"middle\" x=\"790\" y=\"-1027.8\" font-family=\"Times,serif\" font-size=\"14.00\" fill=\"#000000\">&#45;[&lt;LiteralIdentified https://bbn.com/scratch/test_execution/ActivityEdgeFlow5/LiteralIdentified1&gt;]&#45;&gt;source</text>\n</g>\n<!-- CallBehaviorAction4 -->\n<g id=\"node6\" class=\"node\">\n<title>CallBehaviorAction4</title>\n<text text-anchor=\"start\" x=\"672\" y=\"-669.3\" font-family=\"Times,serif\" font-size=\"14.00\" fill=\"#000000\"> </text>\n<polygon fill=\"none\" stroke=\"#000000\" points=\"676,-662.5 676,-683.5 719,-683.5 719,-662.5 676,-662.5\"/>\n<text text-anchor=\"start\" x=\"679\" y=\"-669.3\" font-family=\"Times,serif\" font-size=\"14.00\" fill=\"#000000\">source</text>\n<text text-anchor=\"start\" x=\"719\" y=\"-669.3\" font-family=\"Times,serif\" font-size=\"14.00\" fill=\"#000000\"> </text>\n<polygon fill=\"none\" stroke=\"#000000\" points=\"723,-662.5 723,-683.5 841,-683.5 841,-662.5 723,-662.5\"/>\n<text text-anchor=\"start\" x=\"726\" y=\"-669.3\" font-family=\"Times,serif\" font-size=\"14.00\" fill=\"#000000\">coordinates: A2:D2</text>\n<text text-anchor=\"start\" x=\"841\" y=\"-669.3\" font-family=\"Times,serif\" font-size=\"14.00\" fill=\"#000000\"> </text>\n<polygon fill=\"none\" stroke=\"#000000\" points=\"670,-641.5 670,-662.5 847,-662.5 847,-641.5 670,-641.5\"/>\n<text text-anchor=\"start\" x=\"710\" y=\"-648.3\" font-family=\"Times,serif\" font-size=\"14.00\" fill=\"#000000\">PlateCoordinates</text>\n<text text-anchor=\"start\" x=\"691\" y=\"-627.3\" font-family=\"Times,serif\" font-size=\"14.00\" fill=\"#000000\"> </text>\n<polygon fill=\"none\" stroke=\"#000000\" points=\"714,-620.5 714,-641.5 804,-641.5 804,-620.5 714,-620.5\"/>\n<text text-anchor=\"start\" x=\"736\" y=\"-627.3\" font-family=\"Times,serif\" font-size=\"14.00\" fill=\"#000000\">samples</text>\n<text text-anchor=\"start\" x=\"822.5\" y=\"-627.3\" font-family=\"Times,serif\" font-size=\"14.00\" fill=\"#000000\"> </text>\n</g>\n<!-- ForkNode1&#45;&gt;CallBehaviorAction4 -->\n<g id=\"edge7\" class=\"edge\">\n<title>ForkNode1&#45;&gt;CallBehaviorAction4:InputPin1</title>\n<path fill=\"none\" stroke=\"#000000\" d=\"M421.8831,-1075.6703C421.1923,-1070.4462 418.0673,-1041.7522 430,-1024 438.3897,-1011.5186 445.1403,-1012.7974 458,-1005 508.5011,-974.379 651.7895,-922.2564 692,-879 703.1069,-867.0518 707,-861.8133 707,-845.5 707,-845.5 707,-845.5 707,-732.5 707,-714.0935 700.1421,-707.8119 697.7847,-693.5733\"/>\n<polygon fill=\"#000000\" stroke=\"#000000\" points=\"701.2661,-693.1979 697,-683.5 694.2873,-693.7416 701.2661,-693.1979\"/>\n</g>\n<!-- ForkNode1&#45;&gt;CallBehaviorAction4 -->\n<g id=\"edge24\" class=\"edge\">\n<title>ForkNode1&#45;&gt;CallBehaviorAction4:InputPin1</title>\n<path fill=\"none\" stroke=\"#ffa500\" d=\"M400.4937,-1075.9933C324.6218,-1073.9246 74,-1064.587 74,-1031.5 74,-1031.5 74,-1031.5 74,-897.5 74,-882.6111 64.6013,-875.5475 74,-864 245.342,-653.484 460.8293,-910.5344 672,-740 690.5259,-725.0391 695.7213,-714.1872 696.7745,-693.6611\"/>\n<polygon fill=\"#ffa500\" stroke=\"#ffa500\" points=\"700.2772,-693.5752 697,-683.5 693.2789,-693.4199 700.2772,-693.5752\"/>\n<text text-anchor=\"middle\" x=\"381\" y=\"-867.8\" font-family=\"Times,serif\" font-size=\"14.00\" fill=\"#000000\">&#45;[&lt;LiteralIdentified https://bbn.com/scratch/test_execution/ActivityEdgeFlow5/LiteralIdentified1&gt;]&#45;&gt;source</text>\n</g>\n<!-- CallBehaviorAction6 -->\n<g id=\"node8\" class=\"node\">\n<title>CallBehaviorAction6</title>\n<text text-anchor=\"start\" x=\"240\" y=\"-384.3\" font-family=\"Times,serif\" font-size=\"14.00\" fill=\"#000000\"> </text>\n<polygon fill=\"none\" stroke=\"#000000\" points=\"244,-377.5 244,-398.5 287,-398.5 287,-377.5 244,-377.5\"/>\n<text text-anchor=\"start\" x=\"247\" y=\"-384.3\" font-family=\"Times,serif\" font-size=\"14.00\" fill=\"#000000\">source</text>\n<text text-anchor=\"start\" x=\"287\" y=\"-384.3\" font-family=\"Times,serif\" font-size=\"14.00\" fill=\"#000000\"> </text>\n<polygon fill=\"none\" stroke=\"#000000\" points=\"291,-377.5 291,-398.5 409,-398.5 409,-377.5 291,-377.5\"/>\n<text text-anchor=\"start\" x=\"294\" y=\"-384.3\" font-family=\"Times,serif\" font-size=\"14.00\" fill=\"#000000\">coordinates: A1:D2</text>\n<text text-anchor=\"start\" x=\"409\" y=\"-384.3\" font-family=\"Times,serif\" font-size=\"14.00\" fill=\"#000000\"> </text>\n<polygon fill=\"none\" stroke=\"#000000\" points=\"238,-356.5 238,-377.5 415,-377.5 415,-356.5 238,-356.5\"/>\n<text text-anchor=\"start\" x=\"278\" y=\"-363.3\" font-family=\"Times,serif\" font-size=\"14.00\" fill=\"#000000\">PlateCoordinates</text>\n<text text-anchor=\"start\" x=\"259\" y=\"-342.3\" font-family=\"Times,serif\" font-size=\"14.00\" fill=\"#000000\"> </text>\n<polygon fill=\"none\" stroke=\"#000000\" points=\"282,-335.5 282,-356.5 372,-356.5 372,-335.5 282,-335.5\"/>\n<text text-anchor=\"start\" x=\"304\" y=\"-342.3\" font-family=\"Times,serif\" font-size=\"14.00\" fill=\"#000000\">samples</text>\n<text text-anchor=\"start\" x=\"390.5\" y=\"-342.3\" font-family=\"Times,serif\" font-size=\"14.00\" fill=\"#000000\"> </text>\n</g>\n<!-- ForkNode1&#45;&gt;CallBehaviorAction6 -->\n<g id=\"edge11\" class=\"edge\">\n<title>ForkNode1&#45;&gt;CallBehaviorAction6:InputPin1</title>\n<path fill=\"none\" stroke=\"#000000\" d=\"M397.8403,-1075.9949C315.1359,-1074.1827 47.6058,-1067.6016 32,-1058 20.4733,-1050.9081 17,-1045.0337 17,-1031.5 17,-1031.5 17,-1031.5 17,-440.5 17,-423.8452 33.2199,-426.3265 49,-421 69.1833,-414.1872 222.0718,-420.6735 257.6278,-405.6853\"/>\n<polygon fill=\"#000000\" stroke=\"#000000\" points=\"260.2816,-407.9862 265,-398.5 255.3958,-402.9733 260.2816,-407.9862\"/>\n</g>\n<!-- ForkNode1&#45;&gt;CallBehaviorAction6 -->\n<g id=\"edge28\" class=\"edge\">\n<title>ForkNode1&#45;&gt;CallBehaviorAction6:InputPin1</title>\n<path fill=\"none\" stroke=\"#ffa500\" d=\"M394.9275,-1076.1807C307.2934,-1074.7928 37,-1067.5871 37,-1031.5 37,-1031.5 37,-1031.5 37,-897.5 37,-812.2755 54,-791.7245 54,-706.5 54,-706.5 54,-706.5 54,-440.5 54,-348.6175 248.8376,-482.8322 264.0593,-408.6135\"/>\n<polygon fill=\"#ffa500\" stroke=\"#ffa500\" points=\"267.5587,-408.7812 265,-398.5 260.5888,-408.1328 267.5587,-408.7812\"/>\n<text text-anchor=\"middle\" x=\"360\" y=\"-728.8\" font-family=\"Times,serif\" font-size=\"14.00\" fill=\"#000000\">&#45;[&lt;LiteralIdentified https://bbn.com/scratch/test_execution/ActivityEdgeFlow5/LiteralIdentified1&gt;]&#45;&gt;source</text>\n</g>\n<!-- CallBehaviorAction2&#45;&gt;CallBehaviorAction2 -->\n<g id=\"edge19\" class=\"edge\">\n<title>CallBehaviorAction2:w&#45;&gt;CallBehaviorAction2:w</title>\n<path fill=\"none\" stroke=\"transparent\" d=\"M648,-951.5C642.5,-965 630.5,-965 630.5,-951.5 630.5,-941.7969 636.6992,-939.0679 642.2285,-943.313\"/>\n<polygon fill=\"transparent\" stroke=\"transparent\" points=\"639.3775,-945.3434 648,-951.5 645.0988,-941.3101 639.3775,-945.3434\"/>\n<text text-anchor=\"middle\" x=\"554.5\" y=\"-970.3\" font-family=\"Times,serif\" font-size=\"14.00\" fill=\"#000000\">[2022&#45;02&#45;08 23:08:25.390144,</text>\n<text text-anchor=\"middle\" x=\"554.5\" y=\"-955.3\" font-family=\"Times,serif\" font-size=\"14.00\" fill=\"#000000\"> &#160;2022&#45;02&#45;08 23:08:25.390169]</text>\n</g>\n<!-- CallBehaviorAction3 -->\n<g id=\"node5\" class=\"node\">\n<title>CallBehaviorAction3</title>\n<text text-anchor=\"start\" x=\"736\" y=\"-808.8\" font-family=\"Times,serif\" font-size=\"14.00\" fill=\"#000000\"> </text>\n<polygon fill=\"none\" stroke=\"#000000\" points=\"740,-802 740,-823 1131,-823 1131,-802 740,-802\"/>\n<text text-anchor=\"start\" x=\"743\" y=\"-808.8\" font-family=\"Times,serif\" font-size=\"14.00\" fill=\"#000000\">resource: Water, sterile&#45;filtered, BioReagent, suitable for cell culture</text>\n<text text-anchor=\"start\" x=\"1131\" y=\"-808.8\" font-family=\"Times,serif\" font-size=\"14.00\" fill=\"#000000\"> </text>\n<polygon fill=\"none\" stroke=\"#000000\" points=\"1135,-802 1135,-823 1204,-823 1204,-802 1135,-802\"/>\n<text text-anchor=\"start\" x=\"1138\" y=\"-808.8\" font-family=\"Times,serif\" font-size=\"14.00\" fill=\"#000000\">destination</text>\n<text text-anchor=\"start\" x=\"1204\" y=\"-808.8\" font-family=\"Times,serif\" font-size=\"14.00\" fill=\"#000000\"> </text>\n<polygon fill=\"none\" stroke=\"#000000\" points=\"1208,-802 1208,-823 1358,-823 1358,-802 1208,-802\"/>\n<text text-anchor=\"start\" x=\"1211\" y=\"-808.8\" font-family=\"Times,serif\" font-size=\"14.00\" fill=\"#000000\">amount: 100.0 microliter</text>\n<text text-anchor=\"start\" x=\"1358\" y=\"-808.8\" font-family=\"Times,serif\" font-size=\"14.00\" fill=\"#000000\"> </text>\n<polygon fill=\"none\" stroke=\"#000000\" points=\"734,-781 734,-802 1364,-802 1364,-781 734,-781\"/>\n<text text-anchor=\"start\" x=\"1021\" y=\"-787.8\" font-family=\"Times,serif\" font-size=\"14.00\" fill=\"#000000\">Provision</text>\n</g>\n<!-- CallBehaviorAction2&#45;&gt;CallBehaviorAction3 -->\n<g id=\"edge4\" class=\"edge\">\n<title>CallBehaviorAction2:OutputPin1&#45;&gt;CallBehaviorAction3:InputPin1</title>\n<path fill=\"none\" stroke=\"#000000\" d=\"M746,-919.5C746,-875.9973 1498.045,-910.5465 1528,-879 1580.9556,-823.2309 1206.1994,-896.3587 1172.423,-832.8899\"/>\n<polygon fill=\"#000000\" stroke=\"#000000\" points=\"1175.7791,-831.8799 1170,-823 1168.9802,-833.5456 1175.7791,-831.8799\"/>\n</g>\n<!-- CallBehaviorAction2&#45;&gt;CallBehaviorAction3 -->\n<g id=\"edge5\" class=\"edge\">\n<title>CallBehaviorAction2:node&#45;&gt;CallBehaviorAction3:node</title>\n<path fill=\"none\" stroke=\"#0000ff\" d=\"M657,-950.5C641.6667,-950.5 649.7931,-929.5341 657,-916 670.847,-889.996 695.0795,-903.1173 712,-879 732.8027,-849.3493 701.442,-801.9445 724.094,-792.6212\"/>\n<polygon fill=\"#0000ff\" stroke=\"#0000ff\" points=\"724.6966,-796.0693 734,-791 723.566,-789.1612 724.6966,-796.0693\"/>\n</g>\n<!-- CallBehaviorAction2&#45;&gt;CallBehaviorAction3 -->\n<g id=\"edge22\" class=\"edge\">\n<title>CallBehaviorAction2:OutputPin1&#45;&gt;CallBehaviorAction3:InputPin1</title>\n<path fill=\"none\" stroke=\"#ffa500\" d=\"M746,-919.5C746,-893.5685 743.8186,-880.2836 764,-864 831.6787,-809.3928 1142.9301,-905.2098 1168.3486,-833.1872\"/>\n<polygon fill=\"#ffa500\" stroke=\"#ffa500\" points=\"1171.8546,-833.4312 1170,-823 1164.9448,-832.311 1171.8546,-833.4312\"/>\n<text text-anchor=\"middle\" x=\"1144\" y=\"-867.8\" font-family=\"Times,serif\" font-size=\"14.00\" fill=\"#000000\">samples&#45;[&lt;SampleMask https://bbn.com/scratch/test_execution/ActivityEdgeFlow12/LiteralIdentified1/SampleMask1&gt;]&#45;&gt;destination</text>\n</g>\n<!-- CallBehaviorAction3&#45;&gt;CallBehaviorAction3 -->\n<g id=\"edge21\" class=\"edge\">\n<title>CallBehaviorAction3:w&#45;&gt;CallBehaviorAction3:w</title>\n<path fill=\"none\" stroke=\"transparent\" d=\"M726,-802C720,-812.5 708,-812.5 708,-802 708,-794.9453 713.417,-792.6305 718.7917,-795.0555\"/>\n<polygon fill=\"transparent\" stroke=\"transparent\" points=\"716.37,-797.5825 726,-802 721.2266,-792.5414 716.37,-797.5825\"/>\n<text text-anchor=\"middle\" x=\"632.5\" y=\"-820.8\" font-family=\"Times,serif\" font-size=\"14.00\" fill=\"#000000\">[2022&#45;02&#45;08 23:08:25.528098,</text>\n<text text-anchor=\"middle\" x=\"632.5\" y=\"-805.8\" font-family=\"Times,serif\" font-size=\"14.00\" fill=\"#000000\"> &#160;2022&#45;02&#45;08 23:08:25.528121]</text>\n</g>\n<!-- CallBehaviorAction3&#45;&gt;CallBehaviorAction4 -->\n<g id=\"edge8\" class=\"edge\">\n<title>CallBehaviorAction3:node&#45;&gt;CallBehaviorAction4:node</title>\n<path fill=\"none\" stroke=\"#0000ff\" d=\"M1049,-781C1049,-677.7939 959.6899,-653.0602 857.2722,-651.5733\"/>\n<polygon fill=\"#0000ff\" stroke=\"#0000ff\" points=\"857.0247,-648.0715 847,-651.5 856.9748,-655.0713 857.0247,-648.0715\"/>\n</g>\n<!-- CallBehaviorAction4&#45;&gt;CallBehaviorAction4 -->\n<g id=\"edge23\" class=\"edge\">\n<title>CallBehaviorAction4:w&#45;&gt;CallBehaviorAction4:w</title>\n<path fill=\"none\" stroke=\"transparent\" d=\"M661,-652.5C655.5,-666 643.5,-666 643.5,-652.5 643.5,-642.7969 649.6992,-640.0679 655.2285,-644.313\"/>\n<polygon fill=\"transparent\" stroke=\"transparent\" points=\"652.3775,-646.3434 661,-652.5 658.0988,-642.3101 652.3775,-646.3434\"/>\n<text text-anchor=\"middle\" x=\"567.5\" y=\"-671.3\" font-family=\"Times,serif\" font-size=\"14.00\" fill=\"#000000\">[2022&#45;02&#45;08 23:08:25.595255,</text>\n<text text-anchor=\"middle\" x=\"567.5\" y=\"-656.3\" font-family=\"Times,serif\" font-size=\"14.00\" fill=\"#000000\"> &#160;2022&#45;02&#45;08 23:08:25.595277]</text>\n</g>\n<!-- CallBehaviorAction5 -->\n<g id=\"node7\" class=\"node\">\n<title>CallBehaviorAction5</title>\n<text text-anchor=\"start\" x=\"206\" y=\"-509.8\" font-family=\"Times,serif\" font-size=\"14.00\" fill=\"#000000\"> </text>\n<polygon fill=\"none\" stroke=\"#000000\" points=\"210,-503 210,-524 638,-524 638,-503 210,-503\"/>\n<text text-anchor=\"start\" x=\"213\" y=\"-509.8\" font-family=\"Times,serif\" font-size=\"14.00\" fill=\"#000000\">resource: LUDOX(R) CL&#45;X colloidal silica, 45 wt. % suspension in H2O</text>\n<text text-anchor=\"start\" x=\"638\" y=\"-509.8\" font-family=\"Times,serif\" font-size=\"14.00\" fill=\"#000000\"> </text>\n<polygon fill=\"none\" stroke=\"#000000\" points=\"642,-503 642,-524 711,-524 711,-503 642,-503\"/>\n<text text-anchor=\"start\" x=\"645\" y=\"-509.8\" font-family=\"Times,serif\" font-size=\"14.00\" fill=\"#000000\">destination</text>\n<text text-anchor=\"start\" x=\"711\" y=\"-509.8\" font-family=\"Times,serif\" font-size=\"14.00\" fill=\"#000000\"> </text>\n<polygon fill=\"none\" stroke=\"#000000\" points=\"715,-503 715,-524 865,-524 865,-503 715,-503\"/>\n<text text-anchor=\"start\" x=\"718\" y=\"-509.8\" font-family=\"Times,serif\" font-size=\"14.00\" fill=\"#000000\">amount: 100.0 microliter</text>\n<text text-anchor=\"start\" x=\"865\" y=\"-509.8\" font-family=\"Times,serif\" font-size=\"14.00\" fill=\"#000000\"> </text>\n<polygon fill=\"none\" stroke=\"#000000\" points=\"204,-482 204,-503 871,-503 871,-482 204,-482\"/>\n<text text-anchor=\"start\" x=\"509.5\" y=\"-488.8\" font-family=\"Times,serif\" font-size=\"14.00\" fill=\"#000000\">Provision</text>\n</g>\n<!-- CallBehaviorAction4&#45;&gt;CallBehaviorAction5 -->\n<g id=\"edge9\" class=\"edge\">\n<title>CallBehaviorAction4:OutputPin1&#45;&gt;CallBehaviorAction5:InputPin1</title>\n<path fill=\"none\" stroke=\"#000000\" d=\"M759,-620.5C759,-547.4723 1364.9779,-633.2056 1415,-580 1419.5665,-575.1429 1419.5814,-569.843 1415,-565 1360.9865,-507.9025 734.4175,-597.7613 680.6715,-533.6007\"/>\n<polygon fill=\"#000000\" stroke=\"#000000\" points=\"683.8411,-532.0901 677,-524 677.3028,-534.5905 683.8411,-532.0901\"/>\n</g>\n<!-- CallBehaviorAction4&#45;&gt;CallBehaviorAction5 -->\n<g id=\"edge10\" class=\"edge\">\n<title>CallBehaviorAction4:node&#45;&gt;CallBehaviorAction5:node</title>\n<path fill=\"none\" stroke=\"#0000ff\" d=\"M670,-651.5C621.9131,-651.5 602.8921,-567.3085 646,-546 692.4557,-523.0367 843.2994,-566.0311 878.5,-528 892.3873,-512.996 892.9564,-496.4564 878.5,-482 866.4302,-469.9302 598.8993,-464.2402 546.7622,-477.1423\"/>\n<polygon fill=\"#0000ff\" stroke=\"#0000ff\" points=\"545.0488,-474.0902 538,-482 548.4429,-480.2123 545.0488,-474.0902\"/>\n</g>\n<!-- CallBehaviorAction4&#45;&gt;CallBehaviorAction5 -->\n<g id=\"edge26\" class=\"edge\">\n<title>CallBehaviorAction4:OutputPin1&#45;&gt;CallBehaviorAction5:InputPin1</title>\n<path fill=\"none\" stroke=\"#ffa500\" d=\"M759,-620.5C759,-569.236 680.1997,-622.1352 651,-580 641.2166,-565.8825 665.4675,-549.8389 674.0928,-533.8958\"/>\n<polygon fill=\"#ffa500\" stroke=\"#ffa500\" points=\"677.5393,-534.5811 677,-524 670.8231,-532.608 677.5393,-534.5811\"/>\n<text text-anchor=\"middle\" x=\"1031\" y=\"-568.8\" font-family=\"Times,serif\" font-size=\"14.00\" fill=\"#000000\">samples&#45;[&lt;SampleMask https://bbn.com/scratch/test_execution/ActivityEdgeFlow16/LiteralIdentified1/SampleMask1&gt;]&#45;&gt;destination</text>\n</g>\n<!-- CallBehaviorAction5&#45;&gt;CallBehaviorAction5 -->\n<g id=\"edge25\" class=\"edge\">\n<title>CallBehaviorAction5:w&#45;&gt;CallBehaviorAction5:w</title>\n<path fill=\"none\" stroke=\"transparent\" d=\"M195,-503C189.5,-513.5 177.5,-513.5 177.5,-503 177.5,-496.1094 182.668,-493.7407 187.7754,-495.894\"/>\n<polygon fill=\"transparent\" stroke=\"transparent\" points=\"185.4163,-498.483 195,-503 190.3249,-493.4924 185.4163,-498.483\"/>\n<text text-anchor=\"middle\" x=\"101.5\" y=\"-521.8\" font-family=\"Times,serif\" font-size=\"14.00\" fill=\"#000000\">[2022&#45;02&#45;08 23:08:25.702381,</text>\n<text text-anchor=\"middle\" x=\"101.5\" y=\"-506.8\" font-family=\"Times,serif\" font-size=\"14.00\" fill=\"#000000\"> &#160;2022&#45;02&#45;08 23:08:25.702406]</text>\n</g>\n<!-- CallBehaviorAction5&#45;&gt;CallBehaviorAction6 -->\n<g id=\"edge12\" class=\"edge\">\n<title>CallBehaviorAction5:node&#45;&gt;CallBehaviorAction6:node</title>\n<path fill=\"none\" stroke=\"#0000ff\" d=\"M538,-482C538,-410.5248 494.3858,-370.3735 425.3655,-366.7664\"/>\n<polygon fill=\"#0000ff\" stroke=\"#0000ff\" points=\"425.0867,-363.2582 415,-366.5 424.9067,-370.2559 425.0867,-363.2582\"/>\n</g>\n<!-- CallBehaviorAction6&#45;&gt;CallBehaviorAction6 -->\n<g id=\"edge27\" class=\"edge\">\n<title>CallBehaviorAction6:w&#45;&gt;CallBehaviorAction6:w</title>\n<path fill=\"none\" stroke=\"transparent\" d=\"M229,-367.5C223.5,-381 211.5,-381 211.5,-367.5 211.5,-357.7969 217.6992,-355.0679 223.2285,-359.313\"/>\n<polygon fill=\"transparent\" stroke=\"transparent\" points=\"220.3775,-361.3434 229,-367.5 226.0988,-357.3101 220.3775,-361.3434\"/>\n<text text-anchor=\"middle\" x=\"135.5\" y=\"-386.3\" font-family=\"Times,serif\" font-size=\"14.00\" fill=\"#000000\">[2022&#45;02&#45;08 23:08:25.763615,</text>\n<text text-anchor=\"middle\" x=\"135.5\" y=\"-371.3\" font-family=\"Times,serif\" font-size=\"14.00\" fill=\"#000000\"> &#160;2022&#45;02&#45;08 23:08:25.763637]</text>\n</g>\n<!-- CallBehaviorAction7 -->\n<g id=\"node9\" class=\"node\">\n<title>CallBehaviorAction7</title>\n<text text-anchor=\"start\" x=\"747\" y=\"-224.3\" font-family=\"Times,serif\" font-size=\"14.00\" fill=\"#000000\"> </text>\n<polygon fill=\"none\" stroke=\"#000000\" points=\"751,-217.5 751,-238.5 803,-238.5 803,-217.5 751,-217.5\"/>\n<text text-anchor=\"start\" x=\"754\" y=\"-224.3\" font-family=\"Times,serif\" font-size=\"14.00\" fill=\"#000000\">samples</text>\n<text text-anchor=\"start\" x=\"803\" y=\"-224.3\" font-family=\"Times,serif\" font-size=\"14.00\" fill=\"#000000\"> </text>\n<polygon fill=\"none\" stroke=\"#000000\" points=\"807,-217.5 807,-238.5 880,-238.5 880,-217.5 807,-217.5\"/>\n<text text-anchor=\"start\" x=\"810\" y=\"-224.3\" font-family=\"Times,serif\" font-size=\"14.00\" fill=\"#000000\">wavelength</text>\n<text text-anchor=\"start\" x=\"880\" y=\"-224.3\" font-family=\"Times,serif\" font-size=\"14.00\" fill=\"#000000\"> </text>\n<polygon fill=\"none\" stroke=\"#000000\" points=\"745,-196.5 745,-217.5 886,-217.5 886,-196.5 745,-196.5\"/>\n<text text-anchor=\"start\" x=\"757\" y=\"-203.3\" font-family=\"Times,serif\" font-size=\"14.00\" fill=\"#000000\">MeasureAbsorbance</text>\n<text text-anchor=\"start\" x=\"754\" y=\"-182.3\" font-family=\"Times,serif\" font-size=\"14.00\" fill=\"#000000\"> </text>\n<polygon fill=\"none\" stroke=\"#000000\" points=\"765,-175.5 765,-196.5 866,-196.5 866,-175.5 765,-175.5\"/>\n<text text-anchor=\"start\" x=\"775\" y=\"-182.3\" font-family=\"Times,serif\" font-size=\"14.00\" fill=\"#000000\">measurements</text>\n<text text-anchor=\"start\" x=\"873\" y=\"-182.3\" font-family=\"Times,serif\" font-size=\"14.00\" fill=\"#000000\"> </text>\n</g>\n<!-- CallBehaviorAction6&#45;&gt;CallBehaviorAction7 -->\n<g id=\"edge13\" class=\"edge\">\n<title>CallBehaviorAction6:OutputPin1&#45;&gt;CallBehaviorAction7:InputPin1</title>\n<path fill=\"none\" stroke=\"#000000\" d=\"M327,-335.5C327,-234.2105 712.6335,-369.7368 781,-295 785.4997,-290.081 781.3202,-286.659 781,-280 780.2978,-265.3956 778.2133,-259.5371 777.3651,-248.6119\"/>\n<polygon fill=\"#000000\" stroke=\"#000000\" points=\"780.8587,-248.3672 777,-238.5 773.8632,-248.6198 780.8587,-248.3672\"/>\n</g>\n<!-- CallBehaviorAction6&#45;&gt;CallBehaviorAction7 -->\n<g id=\"edge14\" class=\"edge\">\n<title>CallBehaviorAction6:node&#45;&gt;CallBehaviorAction7:node</title>\n<path fill=\"none\" stroke=\"#0000ff\" d=\"M415,-366.5C583.3596,-366.5 630.6589,-357.4693 787,-295 812.9881,-284.6159 815.0701,-273.7165 840,-261 859.5566,-251.0244 873.6237,-261.1329 886,-243 892.4301,-233.579 897.8379,-219.3612 894.843,-211.7497\"/>\n<polygon fill=\"#0000ff\" stroke=\"#0000ff\" points=\"896.3856,-208.5953 886,-206.5 892.8122,-214.6145 896.3856,-208.5953\"/>\n</g>\n<!-- CallBehaviorAction6&#45;&gt;CallBehaviorAction7 -->\n<g id=\"edge31\" class=\"edge\">\n<title>CallBehaviorAction6:OutputPin1&#45;&gt;CallBehaviorAction7:InputPin1</title>\n<path fill=\"none\" stroke=\"#ffa500\" d=\"M327,-335.5C327,-269.7698 77.1792,-344.5582 34,-295 29.6206,-289.9736 29.4193,-284.8437 34,-280 88.3717,-222.5066 719.1928,-312.7802 773.3036,-248.1671\"/>\n<polygon fill=\"#ffa500\" stroke=\"#ffa500\" points=\"776.6976,-249.0905 777,-238.5 770.1593,-246.5904 776.6976,-249.0905\"/>\n<text text-anchor=\"middle\" x=\"405.5\" y=\"-283.8\" font-family=\"Times,serif\" font-size=\"14.00\" fill=\"#000000\">samples&#45;[&lt;SampleMask https://bbn.com/scratch/test_execution/ActivityEdgeFlow20/LiteralIdentified1/SampleMask1&gt;]&#45;&gt;samples</text>\n</g>\n<!-- CallBehaviorAction7&#45;&gt;CallBehaviorAction7 -->\n<g id=\"edge29\" class=\"edge\">\n<title>CallBehaviorAction7:w&#45;&gt;CallBehaviorAction7:w</title>\n<path fill=\"none\" stroke=\"transparent\" d=\"M736,-207.5C730.5,-221 718.5,-221 718.5,-207.5 718.5,-197.7969 724.6992,-195.0679 730.2285,-199.313\"/>\n<polygon fill=\"transparent\" stroke=\"transparent\" points=\"727.3775,-201.3434 736,-207.5 733.0988,-197.3101 727.3775,-201.3434\"/>\n<text text-anchor=\"middle\" x=\"642.5\" y=\"-226.3\" font-family=\"Times,serif\" font-size=\"14.00\" fill=\"#000000\">[2022&#45;02&#45;08 23:08:25.860742,</text>\n<text text-anchor=\"middle\" x=\"642.5\" y=\"-211.3\" font-family=\"Times,serif\" font-size=\"14.00\" fill=\"#000000\"> &#160;2022&#45;02&#45;08 23:08:25.860766]</text>\n</g>\n<!-- ActivityParameterNode2 -->\n<g id=\"node11\" class=\"node\">\n<title>ActivityParameterNode2</title>\n<polygon fill=\"none\" stroke=\"#000000\" points=\"856,-79 776,-79 776,-43 856,-43 856,-79\"/>\n<polygon fill=\"none\" stroke=\"#000000\" points=\"860,-83 772,-83 772,-39 860,-39 860,-83\"/>\n<text text-anchor=\"middle\" x=\"816\" y=\"-57.3\" font-family=\"Times,serif\" font-size=\"14.00\" fill=\"#000000\">absorbance</text>\n</g>\n<!-- CallBehaviorAction7&#45;&gt;ActivityParameterNode2 -->\n<g id=\"edge16\" class=\"edge\">\n<title>CallBehaviorAction7:OutputPin1&#45;&gt;ActivityParameterNode2</title>\n<path fill=\"none\" stroke=\"#000000\" d=\"M816,-175.5C816,-157.4124 812.89,-153.0657 812,-135 811.672,-128.3414 811.7744,-126.6628 812,-120 812.2939,-111.3193 812.8304,-101.9325 813.4171,-93.2543\"/>\n<polygon fill=\"#000000\" stroke=\"#000000\" points=\"816.9198,-93.3404 814.1446,-83.1155 809.9378,-92.8393 816.9198,-93.3404\"/>\n</g>\n<!-- CallBehaviorAction7&#45;&gt;ActivityParameterNode2 -->\n<g id=\"edge32\" class=\"edge\">\n<title>CallBehaviorAction7:OutputPin1&#45;&gt;ActivityParameterNode2</title>\n<path fill=\"none\" stroke=\"#ffa500\" d=\"M816,-175.5C816,-165.8519 818.3317,-163.625 819,-154 820.3965,-133.8872 819.7183,-111.2814 818.6564,-93.3937\"/>\n<polygon fill=\"#ffa500\" stroke=\"#ffa500\" points=\"822.1343,-92.943 817.9803,-83.1965 815.1497,-93.4061 822.1343,-92.943\"/>\n<text text-anchor=\"middle\" x=\"928.5\" y=\"-123.8\" font-family=\"Times,serif\" font-size=\"14.00\" fill=\"#000000\">measurements&#45;[measurements]&#45;&gt;None</text>\n</g>\n<!-- ActivityParameterNode1 -->\n<g id=\"node10\" class=\"node\">\n<title>ActivityParameterNode1</title>\n<polygon fill=\"none\" stroke=\"#000000\" points=\"900.5,-385.5 817.5,-385.5 817.5,-349.5 900.5,-349.5 900.5,-385.5\"/>\n<polygon fill=\"none\" stroke=\"#000000\" points=\"904.5,-389.5 813.5,-389.5 813.5,-345.5 904.5,-345.5 904.5,-389.5\"/>\n<text text-anchor=\"middle\" x=\"859\" y=\"-363.8\" font-family=\"Times,serif\" font-size=\"14.00\" fill=\"#000000\">wavelength</text>\n</g>\n<!-- ActivityParameterNode1&#45;&gt;CallBehaviorAction7 -->\n<g id=\"edge15\" class=\"edge\">\n<title>ActivityParameterNode1&#45;&gt;CallBehaviorAction7:InputPin2</title>\n<path fill=\"none\" stroke=\"#000000\" d=\"M854.8217,-345.2191C850.782,-321.8807 845.1313,-283.8122 844.1485,-248.7713\"/>\n<polygon fill=\"#000000\" stroke=\"#000000\" points=\"847.6443,-248.4483 844,-238.5 840.6451,-248.5496 847.6443,-248.4483\"/>\n</g>\n<!-- ActivityParameterNode1&#45;&gt;CallBehaviorAction7 -->\n<g id=\"edge30\" class=\"edge\">\n<title>ActivityParameterNode1&#45;&gt;CallBehaviorAction7:InputPin2</title>\n<path fill=\"none\" stroke=\"#ffa500\" d=\"M857.8034,-345.3593C856.4276,-323.7397 853.7261,-289.9589 849,-261 848.0719,-255.313 846.6059,-252.146 845.5008,-248.6402\"/>\n<polygon fill=\"#ffa500\" stroke=\"#ffa500\" points=\"848.9264,-247.8798 844,-238.5 842.0019,-248.9047 848.9264,-247.8798\"/>\n<text text-anchor=\"middle\" x=\"1122\" y=\"-283.8\" font-family=\"Times,serif\" font-size=\"14.00\" fill=\"#000000\">&#45;[&lt;Measure https://bbn.com/scratch/test_execution/ParameterValue1/Measure1&gt;]&#45;&gt;wavelength</text>\n</g>\n</g>\n</svg>\n"
          },
          "metadata": {},
          "execution_count": 17
        }
      ]
    },
    {
      "cell_type": "code",
      "metadata": {
        "id": "be92c80d",
        "colab": {
          "base_uri": "https://localhost:8080/",
          "height": 611
        },
        "outputId": "00928f4a-8dda-40c8-ad69-d558dbdaade8"
      },
      "source": [
        "Markdown(ee.specializations[0].markdown)"
      ],
      "id": "be92c80d",
      "execution_count": null,
      "outputs": [
        {
          "output_type": "execute_result",
          "data": {
            "text/markdown": "# iGEM 2018 LUDOX OD calibration protocol\n\n## Description:\n\nWith this protocol you will use LUDOX CL-X (a 45% colloidal silica suspension) as a single point reference to\nobtain a conversion factor to transform absorbance (OD600) data from your plate reader into a comparable\nOD600 measurement as would be obtained in a spectrophotometer. This conversion is necessary because plate\nreader measurements of absorbance are volume dependent; the depth of the fluid in the well defines the path\nlength of the light passing through the sample, which can vary slightly from well to well. In a standard\nspectrophotometer, the path length is fixed and is defined by the width of the cuvette, which is constant.\nTherefore this conversion calculation can transform OD600 measurements from a plate reader (i.e. absorbance\nat 600 nm, the basic output of most instruments) into comparable OD600 measurements. The LUDOX solution\nis only weakly scattering and so will give a low absorbance value.\n\n\n\n## Protocol Materials:\n* [Water, sterile-filtered, BioReagent, suitable for cell culture](https://identifiers.org/pubchem.substance:24901740)\n* [LUDOX(R) CL-X colloidal silica, 45 wt. % suspension in H2O](https://identifiers.org/pubchem.substance:24866361)\n\n\n## Protocol Inputs:\n* `wavelength` = 100.0\n\n## Protocol Outputs:\n* `absorbance`\n\n## Steps\n1. Provision a container named `samples` meeting specification: cont:ClearPlate and \n cont:SLAS-4-2004 and\n (cont:wellVolume some \n    ((om:hasUnit value om:microlitre) and\n     (om:hasNumericalValue only xsd:decimal[>= \"200\"^^xsd:decimal]))).\n2. Pipette 100.0 microliter of [Water, sterile-filtered, BioReagent, suitable for cell culture](https://identifiers.org/pubchem.substance:24901740) into `samples(A1:D1)`.\n3. Pipette 100.0 microliter of [LUDOX(R) CL-X colloidal silica, 45 wt. % suspension in H2O](https://identifiers.org/pubchem.substance:24866361) into `samples(A2:D2)`.\n4. Make absorbance measurements (named `measurements`) of `samples(A1:D2)` at 100.0 nanometer.\n5. Report values for `absorbance` from `measurements`.\n",
            "text/plain": [
              "<IPython.core.display.Markdown object>"
            ]
          },
          "metadata": {},
          "execution_count": 18
        }
      ]
    },
    {
      "cell_type": "code",
      "metadata": {
        "tags": [
          "hide-cell"
        ],
        "id": "a8dc4189"
      },
      "source": [
        "assert(True)"
      ],
      "id": "a8dc4189",
      "execution_count": null,
      "outputs": []
    }
  ]
}